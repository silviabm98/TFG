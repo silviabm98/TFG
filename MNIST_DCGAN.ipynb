{
  "nbformat": 4,
  "nbformat_minor": 0,
  "metadata": {
    "colab": {
      "name": "TFG_pruebas2.ipynb",
      "provenance": [],
      "collapsed_sections": [],
      "toc_visible": true,
      "background_execution": "on"
    },
    "kernelspec": {
      "name": "python3",
      "display_name": "Python 3"
    },
    "language_info": {
      "name": "python"
    },
    "accelerator": "GPU",
    "widgets": {
      "application/vnd.jupyter.widget-state+json": {
        "bb5c2747ae7648f9bb9a0bc7e72a6693": {
          "model_module": "@jupyter-widgets/controls",
          "model_name": "VBoxModel",
          "model_module_version": "1.5.0",
          "state": {
            "_dom_classes": [],
            "_model_module": "@jupyter-widgets/controls",
            "_model_module_version": "1.5.0",
            "_model_name": "VBoxModel",
            "_view_count": null,
            "_view_module": "@jupyter-widgets/controls",
            "_view_module_version": "1.5.0",
            "_view_name": "VBoxView",
            "box_style": "",
            "children": [
              "IPY_MODEL_1cc2042aec5e49ee8189776f01a7f623",
              "IPY_MODEL_55439b8a175b4cc0b90f2700a3f7bf37"
            ],
            "layout": "IPY_MODEL_03327c63b9ba48d89576c6357b7eb348"
          }
        },
        "1cc2042aec5e49ee8189776f01a7f623": {
          "model_module": "@jupyter-widgets/controls",
          "model_name": "LabelModel",
          "model_module_version": "1.5.0",
          "state": {
            "_dom_classes": [],
            "_model_module": "@jupyter-widgets/controls",
            "_model_module_version": "1.5.0",
            "_model_name": "LabelModel",
            "_view_count": null,
            "_view_module": "@jupyter-widgets/controls",
            "_view_module_version": "1.5.0",
            "_view_name": "LabelView",
            "description": "",
            "description_tooltip": null,
            "layout": "IPY_MODEL_be2e952ba54745efb5ad98898aa60ea1",
            "placeholder": "​",
            "style": "IPY_MODEL_b7748f84f81d4a7faff0b567d13a33ac",
            "value": "0.020 MB of 0.020 MB uploaded (0.000 MB deduped)\r"
          }
        },
        "55439b8a175b4cc0b90f2700a3f7bf37": {
          "model_module": "@jupyter-widgets/controls",
          "model_name": "FloatProgressModel",
          "model_module_version": "1.5.0",
          "state": {
            "_dom_classes": [],
            "_model_module": "@jupyter-widgets/controls",
            "_model_module_version": "1.5.0",
            "_model_name": "FloatProgressModel",
            "_view_count": null,
            "_view_module": "@jupyter-widgets/controls",
            "_view_module_version": "1.5.0",
            "_view_name": "ProgressView",
            "bar_style": "",
            "description": "",
            "description_tooltip": null,
            "layout": "IPY_MODEL_92847113679b45f79eb6139859a11362",
            "max": 1,
            "min": 0,
            "orientation": "horizontal",
            "style": "IPY_MODEL_04beb3b7a9474c8ca7466013aff80e0f",
            "value": 1
          }
        },
        "03327c63b9ba48d89576c6357b7eb348": {
          "model_module": "@jupyter-widgets/base",
          "model_name": "LayoutModel",
          "model_module_version": "1.2.0",
          "state": {
            "_model_module": "@jupyter-widgets/base",
            "_model_module_version": "1.2.0",
            "_model_name": "LayoutModel",
            "_view_count": null,
            "_view_module": "@jupyter-widgets/base",
            "_view_module_version": "1.2.0",
            "_view_name": "LayoutView",
            "align_content": null,
            "align_items": null,
            "align_self": null,
            "border": null,
            "bottom": null,
            "display": null,
            "flex": null,
            "flex_flow": null,
            "grid_area": null,
            "grid_auto_columns": null,
            "grid_auto_flow": null,
            "grid_auto_rows": null,
            "grid_column": null,
            "grid_gap": null,
            "grid_row": null,
            "grid_template_areas": null,
            "grid_template_columns": null,
            "grid_template_rows": null,
            "height": null,
            "justify_content": null,
            "justify_items": null,
            "left": null,
            "margin": null,
            "max_height": null,
            "max_width": null,
            "min_height": null,
            "min_width": null,
            "object_fit": null,
            "object_position": null,
            "order": null,
            "overflow": null,
            "overflow_x": null,
            "overflow_y": null,
            "padding": null,
            "right": null,
            "top": null,
            "visibility": null,
            "width": null
          }
        },
        "be2e952ba54745efb5ad98898aa60ea1": {
          "model_module": "@jupyter-widgets/base",
          "model_name": "LayoutModel",
          "model_module_version": "1.2.0",
          "state": {
            "_model_module": "@jupyter-widgets/base",
            "_model_module_version": "1.2.0",
            "_model_name": "LayoutModel",
            "_view_count": null,
            "_view_module": "@jupyter-widgets/base",
            "_view_module_version": "1.2.0",
            "_view_name": "LayoutView",
            "align_content": null,
            "align_items": null,
            "align_self": null,
            "border": null,
            "bottom": null,
            "display": null,
            "flex": null,
            "flex_flow": null,
            "grid_area": null,
            "grid_auto_columns": null,
            "grid_auto_flow": null,
            "grid_auto_rows": null,
            "grid_column": null,
            "grid_gap": null,
            "grid_row": null,
            "grid_template_areas": null,
            "grid_template_columns": null,
            "grid_template_rows": null,
            "height": null,
            "justify_content": null,
            "justify_items": null,
            "left": null,
            "margin": null,
            "max_height": null,
            "max_width": null,
            "min_height": null,
            "min_width": null,
            "object_fit": null,
            "object_position": null,
            "order": null,
            "overflow": null,
            "overflow_x": null,
            "overflow_y": null,
            "padding": null,
            "right": null,
            "top": null,
            "visibility": null,
            "width": null
          }
        },
        "b7748f84f81d4a7faff0b567d13a33ac": {
          "model_module": "@jupyter-widgets/controls",
          "model_name": "DescriptionStyleModel",
          "model_module_version": "1.5.0",
          "state": {
            "_model_module": "@jupyter-widgets/controls",
            "_model_module_version": "1.5.0",
            "_model_name": "DescriptionStyleModel",
            "_view_count": null,
            "_view_module": "@jupyter-widgets/base",
            "_view_module_version": "1.2.0",
            "_view_name": "StyleView",
            "description_width": ""
          }
        },
        "92847113679b45f79eb6139859a11362": {
          "model_module": "@jupyter-widgets/base",
          "model_name": "LayoutModel",
          "model_module_version": "1.2.0",
          "state": {
            "_model_module": "@jupyter-widgets/base",
            "_model_module_version": "1.2.0",
            "_model_name": "LayoutModel",
            "_view_count": null,
            "_view_module": "@jupyter-widgets/base",
            "_view_module_version": "1.2.0",
            "_view_name": "LayoutView",
            "align_content": null,
            "align_items": null,
            "align_self": null,
            "border": null,
            "bottom": null,
            "display": null,
            "flex": null,
            "flex_flow": null,
            "grid_area": null,
            "grid_auto_columns": null,
            "grid_auto_flow": null,
            "grid_auto_rows": null,
            "grid_column": null,
            "grid_gap": null,
            "grid_row": null,
            "grid_template_areas": null,
            "grid_template_columns": null,
            "grid_template_rows": null,
            "height": null,
            "justify_content": null,
            "justify_items": null,
            "left": null,
            "margin": null,
            "max_height": null,
            "max_width": null,
            "min_height": null,
            "min_width": null,
            "object_fit": null,
            "object_position": null,
            "order": null,
            "overflow": null,
            "overflow_x": null,
            "overflow_y": null,
            "padding": null,
            "right": null,
            "top": null,
            "visibility": null,
            "width": null
          }
        },
        "04beb3b7a9474c8ca7466013aff80e0f": {
          "model_module": "@jupyter-widgets/controls",
          "model_name": "ProgressStyleModel",
          "model_module_version": "1.5.0",
          "state": {
            "_model_module": "@jupyter-widgets/controls",
            "_model_module_version": "1.5.0",
            "_model_name": "ProgressStyleModel",
            "_view_count": null,
            "_view_module": "@jupyter-widgets/base",
            "_view_module_version": "1.2.0",
            "_view_name": "StyleView",
            "bar_color": null,
            "description_width": ""
          }
        },
        "4c0ef889deae40cf8a80448e3a2cf506": {
          "model_module": "@jupyter-widgets/controls",
          "model_name": "VBoxModel",
          "model_module_version": "1.5.0",
          "state": {
            "_dom_classes": [],
            "_model_module": "@jupyter-widgets/controls",
            "_model_module_version": "1.5.0",
            "_model_name": "VBoxModel",
            "_view_count": null,
            "_view_module": "@jupyter-widgets/controls",
            "_view_module_version": "1.5.0",
            "_view_name": "VBoxView",
            "box_style": "",
            "children": [
              "IPY_MODEL_eb6d97d2b6e44fb0ab8635d2c5a0525c",
              "IPY_MODEL_6c20354f50194d9881079a99032f9735"
            ],
            "layout": "IPY_MODEL_fab215ba4bdc4599bdc1b5e7793c2f70"
          }
        },
        "eb6d97d2b6e44fb0ab8635d2c5a0525c": {
          "model_module": "@jupyter-widgets/controls",
          "model_name": "LabelModel",
          "model_module_version": "1.5.0",
          "state": {
            "_dom_classes": [],
            "_model_module": "@jupyter-widgets/controls",
            "_model_module_version": "1.5.0",
            "_model_name": "LabelModel",
            "_view_count": null,
            "_view_module": "@jupyter-widgets/controls",
            "_view_module_version": "1.5.0",
            "_view_name": "LabelView",
            "description": "",
            "description_tooltip": null,
            "layout": "IPY_MODEL_04446acc27854e4cbf4ae38c132373f2",
            "placeholder": "​",
            "style": "IPY_MODEL_3d0b34ab1a3a42bf947f306e7edffe08",
            "value": "0.019 MB of 0.019 MB uploaded (0.000 MB deduped)\r"
          }
        },
        "6c20354f50194d9881079a99032f9735": {
          "model_module": "@jupyter-widgets/controls",
          "model_name": "FloatProgressModel",
          "model_module_version": "1.5.0",
          "state": {
            "_dom_classes": [],
            "_model_module": "@jupyter-widgets/controls",
            "_model_module_version": "1.5.0",
            "_model_name": "FloatProgressModel",
            "_view_count": null,
            "_view_module": "@jupyter-widgets/controls",
            "_view_module_version": "1.5.0",
            "_view_name": "ProgressView",
            "bar_style": "",
            "description": "",
            "description_tooltip": null,
            "layout": "IPY_MODEL_edf65c82e2ac462ab801271536926f53",
            "max": 1,
            "min": 0,
            "orientation": "horizontal",
            "style": "IPY_MODEL_813a5e0a69d44ac99e6a76ef152b175a",
            "value": 1
          }
        },
        "fab215ba4bdc4599bdc1b5e7793c2f70": {
          "model_module": "@jupyter-widgets/base",
          "model_name": "LayoutModel",
          "model_module_version": "1.2.0",
          "state": {
            "_model_module": "@jupyter-widgets/base",
            "_model_module_version": "1.2.0",
            "_model_name": "LayoutModel",
            "_view_count": null,
            "_view_module": "@jupyter-widgets/base",
            "_view_module_version": "1.2.0",
            "_view_name": "LayoutView",
            "align_content": null,
            "align_items": null,
            "align_self": null,
            "border": null,
            "bottom": null,
            "display": null,
            "flex": null,
            "flex_flow": null,
            "grid_area": null,
            "grid_auto_columns": null,
            "grid_auto_flow": null,
            "grid_auto_rows": null,
            "grid_column": null,
            "grid_gap": null,
            "grid_row": null,
            "grid_template_areas": null,
            "grid_template_columns": null,
            "grid_template_rows": null,
            "height": null,
            "justify_content": null,
            "justify_items": null,
            "left": null,
            "margin": null,
            "max_height": null,
            "max_width": null,
            "min_height": null,
            "min_width": null,
            "object_fit": null,
            "object_position": null,
            "order": null,
            "overflow": null,
            "overflow_x": null,
            "overflow_y": null,
            "padding": null,
            "right": null,
            "top": null,
            "visibility": null,
            "width": null
          }
        },
        "04446acc27854e4cbf4ae38c132373f2": {
          "model_module": "@jupyter-widgets/base",
          "model_name": "LayoutModel",
          "model_module_version": "1.2.0",
          "state": {
            "_model_module": "@jupyter-widgets/base",
            "_model_module_version": "1.2.0",
            "_model_name": "LayoutModel",
            "_view_count": null,
            "_view_module": "@jupyter-widgets/base",
            "_view_module_version": "1.2.0",
            "_view_name": "LayoutView",
            "align_content": null,
            "align_items": null,
            "align_self": null,
            "border": null,
            "bottom": null,
            "display": null,
            "flex": null,
            "flex_flow": null,
            "grid_area": null,
            "grid_auto_columns": null,
            "grid_auto_flow": null,
            "grid_auto_rows": null,
            "grid_column": null,
            "grid_gap": null,
            "grid_row": null,
            "grid_template_areas": null,
            "grid_template_columns": null,
            "grid_template_rows": null,
            "height": null,
            "justify_content": null,
            "justify_items": null,
            "left": null,
            "margin": null,
            "max_height": null,
            "max_width": null,
            "min_height": null,
            "min_width": null,
            "object_fit": null,
            "object_position": null,
            "order": null,
            "overflow": null,
            "overflow_x": null,
            "overflow_y": null,
            "padding": null,
            "right": null,
            "top": null,
            "visibility": null,
            "width": null
          }
        },
        "3d0b34ab1a3a42bf947f306e7edffe08": {
          "model_module": "@jupyter-widgets/controls",
          "model_name": "DescriptionStyleModel",
          "model_module_version": "1.5.0",
          "state": {
            "_model_module": "@jupyter-widgets/controls",
            "_model_module_version": "1.5.0",
            "_model_name": "DescriptionStyleModel",
            "_view_count": null,
            "_view_module": "@jupyter-widgets/base",
            "_view_module_version": "1.2.0",
            "_view_name": "StyleView",
            "description_width": ""
          }
        },
        "edf65c82e2ac462ab801271536926f53": {
          "model_module": "@jupyter-widgets/base",
          "model_name": "LayoutModel",
          "model_module_version": "1.2.0",
          "state": {
            "_model_module": "@jupyter-widgets/base",
            "_model_module_version": "1.2.0",
            "_model_name": "LayoutModel",
            "_view_count": null,
            "_view_module": "@jupyter-widgets/base",
            "_view_module_version": "1.2.0",
            "_view_name": "LayoutView",
            "align_content": null,
            "align_items": null,
            "align_self": null,
            "border": null,
            "bottom": null,
            "display": null,
            "flex": null,
            "flex_flow": null,
            "grid_area": null,
            "grid_auto_columns": null,
            "grid_auto_flow": null,
            "grid_auto_rows": null,
            "grid_column": null,
            "grid_gap": null,
            "grid_row": null,
            "grid_template_areas": null,
            "grid_template_columns": null,
            "grid_template_rows": null,
            "height": null,
            "justify_content": null,
            "justify_items": null,
            "left": null,
            "margin": null,
            "max_height": null,
            "max_width": null,
            "min_height": null,
            "min_width": null,
            "object_fit": null,
            "object_position": null,
            "order": null,
            "overflow": null,
            "overflow_x": null,
            "overflow_y": null,
            "padding": null,
            "right": null,
            "top": null,
            "visibility": null,
            "width": null
          }
        },
        "813a5e0a69d44ac99e6a76ef152b175a": {
          "model_module": "@jupyter-widgets/controls",
          "model_name": "ProgressStyleModel",
          "model_module_version": "1.5.0",
          "state": {
            "_model_module": "@jupyter-widgets/controls",
            "_model_module_version": "1.5.0",
            "_model_name": "ProgressStyleModel",
            "_view_count": null,
            "_view_module": "@jupyter-widgets/base",
            "_view_module_version": "1.2.0",
            "_view_name": "StyleView",
            "bar_color": null,
            "description_width": ""
          }
        },
        "dce831431a384521b3170d5025f7dbd4": {
          "model_module": "@jupyter-widgets/controls",
          "model_name": "VBoxModel",
          "model_module_version": "1.5.0",
          "state": {
            "_dom_classes": [],
            "_model_module": "@jupyter-widgets/controls",
            "_model_module_version": "1.5.0",
            "_model_name": "VBoxModel",
            "_view_count": null,
            "_view_module": "@jupyter-widgets/controls",
            "_view_module_version": "1.5.0",
            "_view_name": "VBoxView",
            "box_style": "",
            "children": [
              "IPY_MODEL_024765eb210a441c84fc6ee8e740b450",
              "IPY_MODEL_944f30978ad5432ebdc08f00fd8788a4"
            ],
            "layout": "IPY_MODEL_c49771e9829b4f1ea24c4adc6b364ca6"
          }
        },
        "024765eb210a441c84fc6ee8e740b450": {
          "model_module": "@jupyter-widgets/controls",
          "model_name": "LabelModel",
          "model_module_version": "1.5.0",
          "state": {
            "_dom_classes": [],
            "_model_module": "@jupyter-widgets/controls",
            "_model_module_version": "1.5.0",
            "_model_name": "LabelModel",
            "_view_count": null,
            "_view_module": "@jupyter-widgets/controls",
            "_view_module_version": "1.5.0",
            "_view_name": "LabelView",
            "description": "",
            "description_tooltip": null,
            "layout": "IPY_MODEL_a938f631d83141a098b14c7ed1bed2c0",
            "placeholder": "​",
            "style": "IPY_MODEL_bd6fa4664c9049a6a26340891e89e4b2",
            "value": "0.019 MB of 0.019 MB uploaded (0.000 MB deduped)\r"
          }
        },
        "944f30978ad5432ebdc08f00fd8788a4": {
          "model_module": "@jupyter-widgets/controls",
          "model_name": "FloatProgressModel",
          "model_module_version": "1.5.0",
          "state": {
            "_dom_classes": [],
            "_model_module": "@jupyter-widgets/controls",
            "_model_module_version": "1.5.0",
            "_model_name": "FloatProgressModel",
            "_view_count": null,
            "_view_module": "@jupyter-widgets/controls",
            "_view_module_version": "1.5.0",
            "_view_name": "ProgressView",
            "bar_style": "",
            "description": "",
            "description_tooltip": null,
            "layout": "IPY_MODEL_4f754df355a04f74b44126b0c266acd9",
            "max": 1,
            "min": 0,
            "orientation": "horizontal",
            "style": "IPY_MODEL_c897014fc3734ce2a0018c5a51aec36f",
            "value": 1
          }
        },
        "c49771e9829b4f1ea24c4adc6b364ca6": {
          "model_module": "@jupyter-widgets/base",
          "model_name": "LayoutModel",
          "model_module_version": "1.2.0",
          "state": {
            "_model_module": "@jupyter-widgets/base",
            "_model_module_version": "1.2.0",
            "_model_name": "LayoutModel",
            "_view_count": null,
            "_view_module": "@jupyter-widgets/base",
            "_view_module_version": "1.2.0",
            "_view_name": "LayoutView",
            "align_content": null,
            "align_items": null,
            "align_self": null,
            "border": null,
            "bottom": null,
            "display": null,
            "flex": null,
            "flex_flow": null,
            "grid_area": null,
            "grid_auto_columns": null,
            "grid_auto_flow": null,
            "grid_auto_rows": null,
            "grid_column": null,
            "grid_gap": null,
            "grid_row": null,
            "grid_template_areas": null,
            "grid_template_columns": null,
            "grid_template_rows": null,
            "height": null,
            "justify_content": null,
            "justify_items": null,
            "left": null,
            "margin": null,
            "max_height": null,
            "max_width": null,
            "min_height": null,
            "min_width": null,
            "object_fit": null,
            "object_position": null,
            "order": null,
            "overflow": null,
            "overflow_x": null,
            "overflow_y": null,
            "padding": null,
            "right": null,
            "top": null,
            "visibility": null,
            "width": null
          }
        },
        "a938f631d83141a098b14c7ed1bed2c0": {
          "model_module": "@jupyter-widgets/base",
          "model_name": "LayoutModel",
          "model_module_version": "1.2.0",
          "state": {
            "_model_module": "@jupyter-widgets/base",
            "_model_module_version": "1.2.0",
            "_model_name": "LayoutModel",
            "_view_count": null,
            "_view_module": "@jupyter-widgets/base",
            "_view_module_version": "1.2.0",
            "_view_name": "LayoutView",
            "align_content": null,
            "align_items": null,
            "align_self": null,
            "border": null,
            "bottom": null,
            "display": null,
            "flex": null,
            "flex_flow": null,
            "grid_area": null,
            "grid_auto_columns": null,
            "grid_auto_flow": null,
            "grid_auto_rows": null,
            "grid_column": null,
            "grid_gap": null,
            "grid_row": null,
            "grid_template_areas": null,
            "grid_template_columns": null,
            "grid_template_rows": null,
            "height": null,
            "justify_content": null,
            "justify_items": null,
            "left": null,
            "margin": null,
            "max_height": null,
            "max_width": null,
            "min_height": null,
            "min_width": null,
            "object_fit": null,
            "object_position": null,
            "order": null,
            "overflow": null,
            "overflow_x": null,
            "overflow_y": null,
            "padding": null,
            "right": null,
            "top": null,
            "visibility": null,
            "width": null
          }
        },
        "bd6fa4664c9049a6a26340891e89e4b2": {
          "model_module": "@jupyter-widgets/controls",
          "model_name": "DescriptionStyleModel",
          "model_module_version": "1.5.0",
          "state": {
            "_model_module": "@jupyter-widgets/controls",
            "_model_module_version": "1.5.0",
            "_model_name": "DescriptionStyleModel",
            "_view_count": null,
            "_view_module": "@jupyter-widgets/base",
            "_view_module_version": "1.2.0",
            "_view_name": "StyleView",
            "description_width": ""
          }
        },
        "4f754df355a04f74b44126b0c266acd9": {
          "model_module": "@jupyter-widgets/base",
          "model_name": "LayoutModel",
          "model_module_version": "1.2.0",
          "state": {
            "_model_module": "@jupyter-widgets/base",
            "_model_module_version": "1.2.0",
            "_model_name": "LayoutModel",
            "_view_count": null,
            "_view_module": "@jupyter-widgets/base",
            "_view_module_version": "1.2.0",
            "_view_name": "LayoutView",
            "align_content": null,
            "align_items": null,
            "align_self": null,
            "border": null,
            "bottom": null,
            "display": null,
            "flex": null,
            "flex_flow": null,
            "grid_area": null,
            "grid_auto_columns": null,
            "grid_auto_flow": null,
            "grid_auto_rows": null,
            "grid_column": null,
            "grid_gap": null,
            "grid_row": null,
            "grid_template_areas": null,
            "grid_template_columns": null,
            "grid_template_rows": null,
            "height": null,
            "justify_content": null,
            "justify_items": null,
            "left": null,
            "margin": null,
            "max_height": null,
            "max_width": null,
            "min_height": null,
            "min_width": null,
            "object_fit": null,
            "object_position": null,
            "order": null,
            "overflow": null,
            "overflow_x": null,
            "overflow_y": null,
            "padding": null,
            "right": null,
            "top": null,
            "visibility": null,
            "width": null
          }
        },
        "c897014fc3734ce2a0018c5a51aec36f": {
          "model_module": "@jupyter-widgets/controls",
          "model_name": "ProgressStyleModel",
          "model_module_version": "1.5.0",
          "state": {
            "_model_module": "@jupyter-widgets/controls",
            "_model_module_version": "1.5.0",
            "_model_name": "ProgressStyleModel",
            "_view_count": null,
            "_view_module": "@jupyter-widgets/base",
            "_view_module_version": "1.2.0",
            "_view_name": "StyleView",
            "bar_color": null,
            "description_width": ""
          }
        },
        "d73a20aa0e5a435db27b30762dc5a9bb": {
          "model_module": "@jupyter-widgets/controls",
          "model_name": "VBoxModel",
          "model_module_version": "1.5.0",
          "state": {
            "_dom_classes": [],
            "_model_module": "@jupyter-widgets/controls",
            "_model_module_version": "1.5.0",
            "_model_name": "VBoxModel",
            "_view_count": null,
            "_view_module": "@jupyter-widgets/controls",
            "_view_module_version": "1.5.0",
            "_view_name": "VBoxView",
            "box_style": "",
            "children": [
              "IPY_MODEL_0fb64d1c77544ab6bbbf798a3dd010ac",
              "IPY_MODEL_fec911cebbd544cea59bd53845e01975"
            ],
            "layout": "IPY_MODEL_0ec46e0f83424693bb31c2c3e59e2653"
          }
        },
        "0fb64d1c77544ab6bbbf798a3dd010ac": {
          "model_module": "@jupyter-widgets/controls",
          "model_name": "LabelModel",
          "model_module_version": "1.5.0",
          "state": {
            "_dom_classes": [],
            "_model_module": "@jupyter-widgets/controls",
            "_model_module_version": "1.5.0",
            "_model_name": "LabelModel",
            "_view_count": null,
            "_view_module": "@jupyter-widgets/controls",
            "_view_module_version": "1.5.0",
            "_view_name": "LabelView",
            "description": "",
            "description_tooltip": null,
            "layout": "IPY_MODEL_92bc0b6169164fbaa2a23a0e51a802da",
            "placeholder": "​",
            "style": "IPY_MODEL_e311e5ff55d344c0a07574f54b5ad878",
            "value": "0.020 MB of 0.020 MB uploaded (0.000 MB deduped)\r"
          }
        },
        "fec911cebbd544cea59bd53845e01975": {
          "model_module": "@jupyter-widgets/controls",
          "model_name": "FloatProgressModel",
          "model_module_version": "1.5.0",
          "state": {
            "_dom_classes": [],
            "_model_module": "@jupyter-widgets/controls",
            "_model_module_version": "1.5.0",
            "_model_name": "FloatProgressModel",
            "_view_count": null,
            "_view_module": "@jupyter-widgets/controls",
            "_view_module_version": "1.5.0",
            "_view_name": "ProgressView",
            "bar_style": "",
            "description": "",
            "description_tooltip": null,
            "layout": "IPY_MODEL_ee4b978cc90340af96f34af03205af51",
            "max": 1,
            "min": 0,
            "orientation": "horizontal",
            "style": "IPY_MODEL_8b89dfe7d0e448ada6516226f3556cc7",
            "value": 1
          }
        },
        "0ec46e0f83424693bb31c2c3e59e2653": {
          "model_module": "@jupyter-widgets/base",
          "model_name": "LayoutModel",
          "model_module_version": "1.2.0",
          "state": {
            "_model_module": "@jupyter-widgets/base",
            "_model_module_version": "1.2.0",
            "_model_name": "LayoutModel",
            "_view_count": null,
            "_view_module": "@jupyter-widgets/base",
            "_view_module_version": "1.2.0",
            "_view_name": "LayoutView",
            "align_content": null,
            "align_items": null,
            "align_self": null,
            "border": null,
            "bottom": null,
            "display": null,
            "flex": null,
            "flex_flow": null,
            "grid_area": null,
            "grid_auto_columns": null,
            "grid_auto_flow": null,
            "grid_auto_rows": null,
            "grid_column": null,
            "grid_gap": null,
            "grid_row": null,
            "grid_template_areas": null,
            "grid_template_columns": null,
            "grid_template_rows": null,
            "height": null,
            "justify_content": null,
            "justify_items": null,
            "left": null,
            "margin": null,
            "max_height": null,
            "max_width": null,
            "min_height": null,
            "min_width": null,
            "object_fit": null,
            "object_position": null,
            "order": null,
            "overflow": null,
            "overflow_x": null,
            "overflow_y": null,
            "padding": null,
            "right": null,
            "top": null,
            "visibility": null,
            "width": null
          }
        },
        "92bc0b6169164fbaa2a23a0e51a802da": {
          "model_module": "@jupyter-widgets/base",
          "model_name": "LayoutModel",
          "model_module_version": "1.2.0",
          "state": {
            "_model_module": "@jupyter-widgets/base",
            "_model_module_version": "1.2.0",
            "_model_name": "LayoutModel",
            "_view_count": null,
            "_view_module": "@jupyter-widgets/base",
            "_view_module_version": "1.2.0",
            "_view_name": "LayoutView",
            "align_content": null,
            "align_items": null,
            "align_self": null,
            "border": null,
            "bottom": null,
            "display": null,
            "flex": null,
            "flex_flow": null,
            "grid_area": null,
            "grid_auto_columns": null,
            "grid_auto_flow": null,
            "grid_auto_rows": null,
            "grid_column": null,
            "grid_gap": null,
            "grid_row": null,
            "grid_template_areas": null,
            "grid_template_columns": null,
            "grid_template_rows": null,
            "height": null,
            "justify_content": null,
            "justify_items": null,
            "left": null,
            "margin": null,
            "max_height": null,
            "max_width": null,
            "min_height": null,
            "min_width": null,
            "object_fit": null,
            "object_position": null,
            "order": null,
            "overflow": null,
            "overflow_x": null,
            "overflow_y": null,
            "padding": null,
            "right": null,
            "top": null,
            "visibility": null,
            "width": null
          }
        },
        "e311e5ff55d344c0a07574f54b5ad878": {
          "model_module": "@jupyter-widgets/controls",
          "model_name": "DescriptionStyleModel",
          "model_module_version": "1.5.0",
          "state": {
            "_model_module": "@jupyter-widgets/controls",
            "_model_module_version": "1.5.0",
            "_model_name": "DescriptionStyleModel",
            "_view_count": null,
            "_view_module": "@jupyter-widgets/base",
            "_view_module_version": "1.2.0",
            "_view_name": "StyleView",
            "description_width": ""
          }
        },
        "ee4b978cc90340af96f34af03205af51": {
          "model_module": "@jupyter-widgets/base",
          "model_name": "LayoutModel",
          "model_module_version": "1.2.0",
          "state": {
            "_model_module": "@jupyter-widgets/base",
            "_model_module_version": "1.2.0",
            "_model_name": "LayoutModel",
            "_view_count": null,
            "_view_module": "@jupyter-widgets/base",
            "_view_module_version": "1.2.0",
            "_view_name": "LayoutView",
            "align_content": null,
            "align_items": null,
            "align_self": null,
            "border": null,
            "bottom": null,
            "display": null,
            "flex": null,
            "flex_flow": null,
            "grid_area": null,
            "grid_auto_columns": null,
            "grid_auto_flow": null,
            "grid_auto_rows": null,
            "grid_column": null,
            "grid_gap": null,
            "grid_row": null,
            "grid_template_areas": null,
            "grid_template_columns": null,
            "grid_template_rows": null,
            "height": null,
            "justify_content": null,
            "justify_items": null,
            "left": null,
            "margin": null,
            "max_height": null,
            "max_width": null,
            "min_height": null,
            "min_width": null,
            "object_fit": null,
            "object_position": null,
            "order": null,
            "overflow": null,
            "overflow_x": null,
            "overflow_y": null,
            "padding": null,
            "right": null,
            "top": null,
            "visibility": null,
            "width": null
          }
        },
        "8b89dfe7d0e448ada6516226f3556cc7": {
          "model_module": "@jupyter-widgets/controls",
          "model_name": "ProgressStyleModel",
          "model_module_version": "1.5.0",
          "state": {
            "_model_module": "@jupyter-widgets/controls",
            "_model_module_version": "1.5.0",
            "_model_name": "ProgressStyleModel",
            "_view_count": null,
            "_view_module": "@jupyter-widgets/base",
            "_view_module_version": "1.2.0",
            "_view_name": "StyleView",
            "bar_color": null,
            "description_width": ""
          }
        }
      }
    }
  },
  "cells": [
    {
      "cell_type": "code",
      "source": [
        "#########################################################################\n",
        "## COMPROBAR GPU ASIGNADA EN COLABORATORY\n",
        "#########################################################################\n",
        "gpu_info = !nvidia-smi\n",
        "gpu_info = '\\n'.join(gpu_info)\n",
        "if gpu_info.find('failed') >= 0:\n",
        "  print('Not connected to a GPU')\n",
        "else:\n",
        "  print(gpu_info)"
      ],
      "metadata": {
        "colab": {
          "base_uri": "https://localhost:8080/"
        },
        "id": "Cs7lS8w4shUL",
        "outputId": "c169fa90-6011-4dc8-a68a-df185e7c040c"
      },
      "execution_count": null,
      "outputs": [
        {
          "output_type": "stream",
          "name": "stdout",
          "text": [
            "Wed May 18 16:32:37 2022       \n",
            "+-----------------------------------------------------------------------------+\n",
            "| NVIDIA-SMI 460.32.03    Driver Version: 460.32.03    CUDA Version: 11.2     |\n",
            "|-------------------------------+----------------------+----------------------+\n",
            "| GPU  Name        Persistence-M| Bus-Id        Disp.A | Volatile Uncorr. ECC |\n",
            "| Fan  Temp  Perf  Pwr:Usage/Cap|         Memory-Usage | GPU-Util  Compute M. |\n",
            "|                               |                      |               MIG M. |\n",
            "|===============================+======================+======================|\n",
            "|   0  Tesla P100-PCIE...  Off  | 00000000:00:04.0 Off |                    0 |\n",
            "| N/A   35C    P0    27W / 250W |      0MiB / 16280MiB |      0%      Default |\n",
            "|                               |                      |                  N/A |\n",
            "+-------------------------------+----------------------+----------------------+\n",
            "                                                                               \n",
            "+-----------------------------------------------------------------------------+\n",
            "| Processes:                                                                  |\n",
            "|  GPU   GI   CI        PID   Type   Process name                  GPU Memory |\n",
            "|        ID   ID                                                   Usage      |\n",
            "|=============================================================================|\n",
            "|  No running processes found                                                 |\n",
            "+-----------------------------------------------------------------------------+\n"
          ]
        }
      ]
    },
    {
      "cell_type": "code",
      "source": [
        "#########################################################################\n",
        "## MONTAR DRIVE\n",
        "#########################################################################\n",
        "from google.colab import drive\n",
        "drive.mount('/content/drive')"
      ],
      "metadata": {
        "colab": {
          "base_uri": "https://localhost:8080/"
        },
        "id": "xdqIhAE5tDqh",
        "outputId": "64736dc2-776d-4a0a-dfc3-3f9cbea3be40"
      },
      "execution_count": null,
      "outputs": [
        {
          "output_type": "stream",
          "name": "stdout",
          "text": [
            "Mounted at /content/drive\n"
          ]
        }
      ]
    },
    {
      "cell_type": "code",
      "source": [
        "#########################################################################\n",
        "## CONFIGURAR WANDB\n",
        "#########################################################################\n",
        "!pip install wandb\n",
        "!wandb login"
      ],
      "metadata": {
        "colab": {
          "base_uri": "https://localhost:8080/"
        },
        "id": "_12Ud6N__Vmq",
        "outputId": "e71c7476-dc00-4a4d-896d-1d1455cec2ff"
      },
      "execution_count": null,
      "outputs": [
        {
          "output_type": "stream",
          "name": "stdout",
          "text": [
            "Collecting wandb\n",
            "  Downloading wandb-0.12.16-py2.py3-none-any.whl (1.8 MB)\n",
            "\u001b[K     |████████████████████████████████| 1.8 MB 7.9 MB/s \n",
            "\u001b[?25hCollecting sentry-sdk>=1.0.0\n",
            "  Downloading sentry_sdk-1.5.12-py2.py3-none-any.whl (145 kB)\n",
            "\u001b[K     |████████████████████████████████| 145 kB 69.4 MB/s \n",
            "\u001b[?25hRequirement already satisfied: six>=1.13.0 in /usr/local/lib/python3.7/dist-packages (from wandb) (1.15.0)\n",
            "Collecting pathtools\n",
            "  Downloading pathtools-0.1.2.tar.gz (11 kB)\n",
            "Requirement already satisfied: PyYAML in /usr/local/lib/python3.7/dist-packages (from wandb) (3.13)\n",
            "Requirement already satisfied: promise<3,>=2.0 in /usr/local/lib/python3.7/dist-packages (from wandb) (2.3)\n",
            "Collecting setproctitle\n",
            "  Downloading setproctitle-1.2.3-cp37-cp37m-manylinux_2_5_x86_64.manylinux1_x86_64.manylinux_2_17_x86_64.manylinux2014_x86_64.whl (29 kB)\n",
            "Requirement already satisfied: psutil>=5.0.0 in /usr/local/lib/python3.7/dist-packages (from wandb) (5.4.8)\n",
            "Collecting GitPython>=1.0.0\n",
            "  Downloading GitPython-3.1.27-py3-none-any.whl (181 kB)\n",
            "\u001b[K     |████████████████████████████████| 181 kB 54.3 MB/s \n",
            "\u001b[?25hCollecting docker-pycreds>=0.4.0\n",
            "  Downloading docker_pycreds-0.4.0-py2.py3-none-any.whl (9.0 kB)\n",
            "Requirement already satisfied: requests<3,>=2.0.0 in /usr/local/lib/python3.7/dist-packages (from wandb) (2.23.0)\n",
            "Requirement already satisfied: python-dateutil>=2.6.1 in /usr/local/lib/python3.7/dist-packages (from wandb) (2.8.2)\n",
            "Collecting shortuuid>=0.5.0\n",
            "  Downloading shortuuid-1.0.9-py3-none-any.whl (9.4 kB)\n",
            "Requirement already satisfied: setuptools in /usr/local/lib/python3.7/dist-packages (from wandb) (57.4.0)\n",
            "Requirement already satisfied: Click!=8.0.0,>=7.0 in /usr/local/lib/python3.7/dist-packages (from wandb) (7.1.2)\n",
            "Requirement already satisfied: protobuf>=3.12.0 in /usr/local/lib/python3.7/dist-packages (from wandb) (3.17.3)\n",
            "Requirement already satisfied: typing-extensions>=3.7.4.3 in /usr/local/lib/python3.7/dist-packages (from GitPython>=1.0.0->wandb) (4.2.0)\n",
            "Collecting gitdb<5,>=4.0.1\n",
            "  Downloading gitdb-4.0.9-py3-none-any.whl (63 kB)\n",
            "\u001b[K     |████████████████████████████████| 63 kB 2.0 MB/s \n",
            "\u001b[?25hCollecting smmap<6,>=3.0.1\n",
            "  Downloading smmap-5.0.0-py3-none-any.whl (24 kB)\n",
            "Requirement already satisfied: certifi>=2017.4.17 in /usr/local/lib/python3.7/dist-packages (from requests<3,>=2.0.0->wandb) (2021.10.8)\n",
            "Requirement already satisfied: idna<3,>=2.5 in /usr/local/lib/python3.7/dist-packages (from requests<3,>=2.0.0->wandb) (2.10)\n",
            "Requirement already satisfied: chardet<4,>=3.0.2 in /usr/local/lib/python3.7/dist-packages (from requests<3,>=2.0.0->wandb) (3.0.4)\n",
            "Requirement already satisfied: urllib3!=1.25.0,!=1.25.1,<1.26,>=1.21.1 in /usr/local/lib/python3.7/dist-packages (from requests<3,>=2.0.0->wandb) (1.24.3)\n",
            "Building wheels for collected packages: pathtools\n",
            "  Building wheel for pathtools (setup.py) ... \u001b[?25l\u001b[?25hdone\n",
            "  Created wheel for pathtools: filename=pathtools-0.1.2-py3-none-any.whl size=8806 sha256=1694fb30c58bd569ae7f551d7e04062e0c2bdde0765a0e4637ba825b810dda27\n",
            "  Stored in directory: /root/.cache/pip/wheels/3e/31/09/fa59cef12cdcfecc627b3d24273699f390e71828921b2cbba2\n",
            "Successfully built pathtools\n",
            "Installing collected packages: smmap, gitdb, shortuuid, setproctitle, sentry-sdk, pathtools, GitPython, docker-pycreds, wandb\n",
            "Successfully installed GitPython-3.1.27 docker-pycreds-0.4.0 gitdb-4.0.9 pathtools-0.1.2 sentry-sdk-1.5.12 setproctitle-1.2.3 shortuuid-1.0.9 smmap-5.0.0 wandb-0.12.16\n",
            "\u001b[34m\u001b[1mwandb\u001b[0m: You can find your API key in your browser here: https://wandb.ai/authorize\n",
            "\u001b[34m\u001b[1mwandb\u001b[0m: Paste an API key from your profile and hit enter, or press ctrl+c to quit: \n",
            "\u001b[34m\u001b[1mwandb\u001b[0m: Appending key for api.wandb.ai to your netrc file: /root/.netrc\n"
          ]
        }
      ]
    },
    {
      "cell_type": "code",
      "execution_count": null,
      "metadata": {
        "id": "ajRTQbsQYoIW"
      },
      "outputs": [],
      "source": [
        "#########################################################################\n",
        "## CARGAR LAS LIBRERÍAS NECESARIAS\n",
        "#########################################################################\n",
        "import matplotlib.pyplot as plt\n",
        "import numpy as np\n",
        "import tensorflow as tf\n",
        "\n",
        "from keras.datasets import mnist\n",
        "import numpy as np\n",
        "\n",
        "from random import shuffle,seed\n",
        "\n",
        "import keras\n",
        "from tensorflow.keras import layers\n",
        "\n",
        "from keras import metrics\n",
        "import keras.utils\n",
        "\n",
        "from skimage.transform import resize"
      ]
    },
    {
      "cell_type": "code",
      "source": [
        "#########################################################################\n",
        "## INICIAR WANDB\n",
        "#########################################################################\n",
        "import wandb\n",
        "from wandb.keras import WandbCallback"
      ],
      "metadata": {
        "id": "XUbzU26p_erk"
      },
      "execution_count": null,
      "outputs": []
    },
    {
      "cell_type": "code",
      "source": [
        "##########################################################################\n",
        "## Variables globales\n",
        "##########################################################################\n",
        "num_imagenes=250\n",
        "epochs = 75\n",
        "lr = 1e-3\n",
        "opt = tf.keras.optimizers.Adam(learning_rate = 1e-3)\n",
        "latent_dim=128"
      ],
      "metadata": {
        "id": "VP6dqHGUvl_T"
      },
      "execution_count": null,
      "outputs": []
    },
    {
      "cell_type": "code",
      "execution_count": null,
      "metadata": {
        "id": "6s4BhB-P0rhp",
        "colab": {
          "base_uri": "https://localhost:8080/"
        },
        "outputId": "74da671c-1cd4-48f1-d41b-b7926787e542"
      },
      "outputs": [
        {
          "output_type": "stream",
          "name": "stdout",
          "text": [
            "Downloading data from https://storage.googleapis.com/tensorflow/tf-keras-datasets/mnist.npz\n",
            "11493376/11490434 [==============================] - 0s 0us/step\n",
            "11501568/11490434 [==============================] - 0s 0us/step\n"
          ]
        }
      ],
      "source": [
        "################################################################################################################\n",
        "## FUNCIÓN PARA CARGAR EL CONJUNTO DE DATOS\n",
        "###############################################################################################################\n",
        "\n",
        "# La base de datos MNIST contiene 60000 ejemplos en el conjunto de entrenamiento y 10000 en el conjunto de prueba\n",
        "# Las imagenes tienen un tamaño 28x28 que redimensionaremos a 28x28x1\n",
        "def load_data(): \n",
        "    (x_train, y_train), (x_test, y_test) = mnist.load_data()\n",
        "   \n",
        "    #Cambio el tamaño de las imágenes de 28x28 a 28x28x1\n",
        "    x_train= x_train.reshape((60000, 28, 28, 1))\n",
        "    x_test= x_test.reshape((10000, 28, 28, 1))\n",
        "   \n",
        "    x_train = x_train.astype('float32')\n",
        "    x_test = x_test.astype('float32')\n",
        "   \n",
        "    #Añadir algo de ruido en el conjunto de prueba\n",
        "    x_test = np.random.normal(x_test) \n",
        "   \n",
        "    #Normalizamos a escala [0,1] \n",
        "    x_train,x_test= x_train / 255,x_test / 255\n",
        "\n",
        "    return (x_train, y_train), (x_test, y_test)\n",
        "\n",
        "#Cargamos toda la base de datos MNIST\n",
        "(x_train, y_train), (x_test, y_test) = load_data()\n"
      ]
    },
    {
      "cell_type": "code",
      "source": [
        "# Barajamos el conjunto de datos para no tener clases contiguas y nos quedamos con num_imagenes \n",
        "\n",
        "# Declaramos una semilla\n",
        "seed(123456)\n",
        "\n",
        "# Guardamos índices\n",
        "ind_train = list(range(len(x_train)))\n",
        "ind_test = list(range(len(x_test)))\n",
        "\n",
        "# Desordenamos los indices para quedarnos con num_imagenes imagenes aleatorias\n",
        "shuffle(ind_train)\n",
        "shuffle(ind_test)\n",
        "\n",
        "# En base a los indices nos quedamos con num_imagenes imágenes\n",
        "x_train            = x_train[ind_train[0:num_imagenes]]\n",
        "y_train            = y_train[ind_train[0:num_imagenes]]\n",
        "\n",
        "x_test             = x_test[ind_test[0:num_imagenes]]\n",
        "y_test             = y_test[ind_test[0:num_imagenes]]\n"
      ],
      "metadata": {
        "id": "tKKATGN8uFUS"
      },
      "execution_count": null,
      "outputs": []
    },
    {
      "cell_type": "code",
      "source": [
        "################################################################################################################\n",
        "## CLASE GAN\n",
        "###############################################################################################################\n",
        "class GAN(keras.Model):\n",
        "  # Inicialización del modelo GAN: inicializa el generador,discriminador junto con sus métricas y la dimensión del espacio latente\n",
        "  def __init__(self, discriminator, generator, latent_dim):\n",
        "    super().__init__()\n",
        "    self.discriminator = discriminator\n",
        "    self.generator = generator\n",
        "    self.latent_dim = latent_dim\n",
        "    self.d_loss_metric = keras.metrics.Mean(name=\"d_loss\") \n",
        "    self.g_loss_metric = keras.metrics.Mean(name=\"g_loss\")\n",
        "\n",
        "  # Compilación: se inicializa los optimizadores y la función de pérdida del modelo GAN\n",
        "  def compile(self, d_optimizer, g_optimizer, loss_fn):\n",
        "    super(GAN, self).compile()\n",
        "    self.d_optimizer = d_optimizer\n",
        "    self.g_optimizer = g_optimizer\n",
        "    self.loss_fn = loss_fn \n",
        "  \n",
        "  # Evaluación del Discriminador\n",
        "  def evaluate_D(self):\n",
        "    #Generamos las imágenes a partir del espacio latente y el generador\n",
        "    batch_size = tf.shape(x_train)[0]\n",
        "    random_latent_vectors = tf.random.normal( shape=(batch_size, self.latent_dim))\n",
        "    generated_images = self.generator(random_latent_vectors)\n",
        "    \n",
        "    #Compilamos el modelo discriminador\n",
        "    self.discriminator.compile(optimizer=self.d_optimizer,loss=self.loss_fn,metrics=['accuracy'])\n",
        "    \n",
        "    #Evaluación del discriminador con las imágenes reales\n",
        "    loss_real, acc_real = self.discriminator.evaluate(x_test,tf.ones((batch_size, 1),dtype=tf.dtypes.float32), verbose=1)\n",
        "\n",
        "    #Evaluación del discriminador con las imágenes falsas\n",
        "    loss_fake, acc_fake = self.discriminator.evaluate(generated_images,tf.zeros((batch_size, 1),dtype=tf.dtypes.float32) , verbose=1)\n",
        "\n",
        "    # Mostramos por pantalla un resumen \n",
        "    print('>Accuracy real: %.0f%%, fake: %.0f%%' % (acc_real*100, acc_fake*100))\n",
        "    print('>Loss real: ')\n",
        "    print(loss_real)\n",
        "    print('>Loss fake: ')\n",
        "    print(loss_fake)\n",
        "  \n",
        "  # Evaluación del Generador\n",
        "  def evaluate_G(self):\n",
        "    #Generamos las imágenes a partir del espacio latente y el generador\n",
        "    batch_size = tf.shape(x_train)[0]\n",
        "    random_latent_vectors = tf.random.normal( shape=(batch_size, self.latent_dim))\n",
        "    generated_images = self.generator(random_latent_vectors)\n",
        "\n",
        "    #Visualizamos varias imágenes generadas seleccionadas de forma aleatoria\n",
        "    for i in range(9):\n",
        "        random_latent_vectors = tf.random.normal(\n",
        "      shape=(9, 128))\n",
        "        pred = generator(random_latent_vectors )\n",
        "        plt.subplot(331 + i)\n",
        "        plt.axis('off')\n",
        "        plt.imshow(np.squeeze(pred[0]), cmap='gray')\n",
        "    plt.show()\n",
        "\n",
        "\n",
        "  # Métricas\n",
        "  @property\n",
        "  def metrics(self):\n",
        "    return [self.d_loss_metric, self.g_loss_metric]\n",
        "\n",
        "  # Entrenamiento \n",
        "  def train_step(self, real_images):\n",
        "    batch_size = tf.shape(real_images)[0]\n",
        "    \n",
        "    random_latent_vectors = tf.random.normal( shape=(batch_size, self.latent_dim))\n",
        "    \n",
        "    generated_images = self.generator(random_latent_vectors)\n",
        "    combined_images = tf.concat([generated_images, real_images], axis=0)\n",
        "    labels = tf.concat(\n",
        "      [tf.ones((batch_size, 1)), tf.zeros((batch_size, 1))],\n",
        "      axis=0\n",
        "    )\n",
        "    labels += 0.05 * tf.random.uniform(tf.shape(labels))\n",
        "\n",
        "    #Entrenamiento del discriminador\n",
        "    with tf.GradientTape() as tape:\n",
        "      predictions = self.discriminator(combined_images)\n",
        "      d_loss = self.loss_fn(labels, predictions)\n",
        "     \n",
        "    grads = tape.gradient(d_loss, self.discriminator.trainable_weights)\n",
        "    self.d_optimizer.apply_gradients(\n",
        "      zip(grads, self.discriminator.trainable_weights)\n",
        "    )\n",
        "\n",
        "    random_latent_vectors = tf.random.normal(\n",
        "      shape=(batch_size, self.latent_dim))\n",
        "    misleading_labels = tf.zeros((batch_size, 1))\n",
        "\n",
        "    #Entrenamiento del generador\n",
        "    with tf.GradientTape() as tape:\n",
        "      predictions = self.discriminator(\n",
        "        self.generator(random_latent_vectors))\n",
        "      g_loss = self.loss_fn(misleading_labels, predictions)\n",
        "      \n",
        "    grads = tape.gradient(g_loss, self.generator.trainable_weights)\n",
        "    self.g_optimizer.apply_gradients(\n",
        "      zip(grads, self.generator.trainable_weights))\n",
        "\n",
        "    \n",
        "    self.d_loss_metric.update_state(d_loss)\n",
        "    self.g_loss_metric.update_state(g_loss)\n",
        "    return {\"d_loss\": self.d_loss_metric.result(),\n",
        "            \"g_loss\": self.g_loss_metric.result()}\n"
      ],
      "metadata": {
        "id": "o1KJSDJLvtZR"
      },
      "execution_count": null,
      "outputs": []
    },
    {
      "cell_type": "code",
      "source": [
        "################################################################################################################\n",
        "## Función para mostrar por pantalla 9 imágenes reales, 9 imagenes reales con ruido \n",
        "## y 9 imágenes generadas por nuestro modelo generador\n",
        "###############################################################################################################\n",
        "def generated_images_plot(original, noised_data, generator):\n",
        "    \"\"\"Plot subplot of images during training.\"\"\"\n",
        "    print('NOISED')\n",
        "    for i in range(9):\n",
        "        plt.subplot(331 + i)\n",
        "        plt.axis('off')\n",
        "        plt.imshow(np.squeeze(noised_data[i]), cmap='gray')\n",
        "    plt.show()\n",
        "    \n",
        "    print('GENERATED')\n",
        "    for i in range(9):\n",
        "        random_latent_vectors = tf.random.normal(\n",
        "      shape=(9, 128))\n",
        "        pred = generator(random_latent_vectors )\n",
        "        plt.subplot(331 + i)\n",
        "        plt.axis('off')\n",
        "        plt.imshow(np.squeeze(pred[0]), cmap='gray')\n",
        "    plt.show()\n",
        "    print('ORIGINAL')\n",
        "    for i in range(9):\n",
        "        plt.subplot(331 + i)\n",
        "        plt.axis('off')\n",
        "        plt.imshow(np.squeeze(original[i]), cmap='gray')\n",
        "    plt.show()\n"
      ],
      "metadata": {
        "id": "VgjhTGl2_ER8"
      },
      "execution_count": null,
      "outputs": []
    },
    {
      "cell_type": "markdown",
      "source": [
        "# EXPERIMENTO 1"
      ],
      "metadata": {
        "id": "o7odKLGhxK3j"
      }
    },
    {
      "cell_type": "markdown",
      "source": [
        "**Disriminador**"
      ],
      "metadata": {
        "id": "aOq19xt57ijA"
      }
    },
    {
      "cell_type": "code",
      "source": [
        "discriminator=keras.Sequential(\n",
        "    [\n",
        "        keras.Input(shape=(28,28,1)),\n",
        "        layers.Conv2D(64,kernel_size=3,strides=2,padding=\"same\"),\n",
        "        layers.LeakyReLU(alpha=0.2),\n",
        "        layers.Conv2D(128, kernel_size=3, strides=2, padding=\"same\"),\n",
        "        layers.LeakyReLU(alpha=0.2),\n",
        "        layers.Flatten(),\n",
        "        layers.Dropout(0.2),\n",
        "        layers.Dense(1, activation=\"sigmoid\"),\n",
        "    ],\n",
        "    name=\"discriminator\"\n",
        "\n",
        ")\n",
        "discriminator.summary()"
      ],
      "metadata": {
        "colab": {
          "base_uri": "https://localhost:8080/"
        },
        "id": "vrMsCsYDxAEI",
        "outputId": "3529ec1c-85fb-4ed1-cb23-d3a32996c23b"
      },
      "execution_count": null,
      "outputs": [
        {
          "output_type": "stream",
          "name": "stdout",
          "text": [
            "Model: \"discriminator\"\n",
            "_________________________________________________________________\n",
            " Layer (type)                Output Shape              Param #   \n",
            "=================================================================\n",
            " conv2d (Conv2D)             (None, 14, 14, 64)        640       \n",
            "                                                                 \n",
            " leaky_re_lu (LeakyReLU)     (None, 14, 14, 64)        0         \n",
            "                                                                 \n",
            " conv2d_1 (Conv2D)           (None, 7, 7, 128)         73856     \n",
            "                                                                 \n",
            " leaky_re_lu_1 (LeakyReLU)   (None, 7, 7, 128)         0         \n",
            "                                                                 \n",
            " flatten (Flatten)           (None, 6272)              0         \n",
            "                                                                 \n",
            " dropout (Dropout)           (None, 6272)              0         \n",
            "                                                                 \n",
            " dense (Dense)               (None, 1)                 6273      \n",
            "                                                                 \n",
            "=================================================================\n",
            "Total params: 80,769\n",
            "Trainable params: 80,769\n",
            "Non-trainable params: 0\n",
            "_________________________________________________________________\n"
          ]
        }
      ]
    },
    {
      "cell_type": "markdown",
      "source": [
        "**Generador**"
      ],
      "metadata": {
        "id": "eyX1lOel7nIJ"
      }
    },
    {
      "cell_type": "code",
      "source": [
        "generator=keras.Sequential(\n",
        "    [\n",
        "        keras.Input(shape=(latent_dim,)),\n",
        "        layers.Dense(7*7*128),\n",
        "        layers.Reshape((7,7,128)),\n",
        "        layers.Conv2DTranspose(128, kernel_size=3, strides=2, padding=\"same\"),\n",
        "        layers.LeakyReLU(alpha=0.2),\n",
        "        layers.Conv2DTranspose(64, kernel_size=3, strides=2, padding=\"same\"),\n",
        "        layers.LeakyReLU(alpha=0.2),\n",
        "        layers.Conv2D(1, kernel_size=3, padding=\"same\", activation=\"sigmoid\"),\n",
        "    ],\n",
        "    name=\"generator\",\n",
        ")\n",
        "generator.summary()"
      ],
      "metadata": {
        "colab": {
          "base_uri": "https://localhost:8080/"
        },
        "id": "hZFskdjo7ovk",
        "outputId": "4f8a2992-0c9a-40d0-a120-e1fb173a1494"
      },
      "execution_count": null,
      "outputs": [
        {
          "output_type": "stream",
          "name": "stdout",
          "text": [
            "Model: \"generator\"\n",
            "_________________________________________________________________\n",
            " Layer (type)                Output Shape              Param #   \n",
            "=================================================================\n",
            " dense_1 (Dense)             (None, 6272)              809088    \n",
            "                                                                 \n",
            " reshape (Reshape)           (None, 7, 7, 128)         0         \n",
            "                                                                 \n",
            " conv2d_transpose (Conv2DTra  (None, 14, 14, 128)      147584    \n",
            " nspose)                                                         \n",
            "                                                                 \n",
            " leaky_re_lu_2 (LeakyReLU)   (None, 14, 14, 128)       0         \n",
            "                                                                 \n",
            " conv2d_transpose_1 (Conv2DT  (None, 28, 28, 64)       73792     \n",
            " ranspose)                                                       \n",
            "                                                                 \n",
            " leaky_re_lu_3 (LeakyReLU)   (None, 28, 28, 64)        0         \n",
            "                                                                 \n",
            " conv2d_2 (Conv2D)           (None, 28, 28, 1)         577       \n",
            "                                                                 \n",
            "=================================================================\n",
            "Total params: 1,031,041\n",
            "Trainable params: 1,031,041\n",
            "Non-trainable params: 0\n",
            "_________________________________________________________________\n"
          ]
        }
      ]
    },
    {
      "cell_type": "markdown",
      "source": [
        "Compilación, entrenamiento y evaluación de la **GAN**"
      ],
      "metadata": {
        "id": "kCzqANc-72QG"
      }
    },
    {
      "cell_type": "code",
      "source": [
        "wandb.init(project=\"tfg-silvia-barroso\", entity=\"sail-ugr\", \n",
        "           config= {\n",
        "               \"learning_rate\": lr,\n",
        "               \"epochs\": epochs,\n",
        "               \"num_imagenes\": num_imagenes,\n",
        "               \"opt\": \"Adam\",\n",
        "               \"latent_dim\": latent_dim\n",
        "               })\n",
        "\n",
        "#Definición del modelo GAN\n",
        "gan = GAN(discriminator=discriminator, generator=generator,\n",
        "        latent_dim=latent_dim)\n",
        "\n",
        "#Compilación\n",
        "gan.compile(\n",
        "    d_optimizer=opt,\n",
        "    g_optimizer=opt,\n",
        "    loss_fn=keras.losses.BinaryCrossentropy(),\n",
        ")\n",
        "\n",
        "#Entrenamiento\n",
        "history=gan.fit(\n",
        "  x_train , epochs=epochs , callbacks=[WandbCallback()]\n",
        ")\n",
        "wandb.finish()"
      ],
      "metadata": {
        "colab": {
          "base_uri": "https://localhost:8080/",
          "height": 1000,
          "referenced_widgets": [
            "bb5c2747ae7648f9bb9a0bc7e72a6693",
            "1cc2042aec5e49ee8189776f01a7f623",
            "55439b8a175b4cc0b90f2700a3f7bf37",
            "03327c63b9ba48d89576c6357b7eb348",
            "be2e952ba54745efb5ad98898aa60ea1",
            "b7748f84f81d4a7faff0b567d13a33ac",
            "92847113679b45f79eb6139859a11362",
            "04beb3b7a9474c8ca7466013aff80e0f"
          ]
        },
        "id": "JWt6hKyI71zE",
        "outputId": "9e423aba-f601-4f24-8d78-1f5924a4a371"
      },
      "execution_count": null,
      "outputs": [
        {
          "output_type": "stream",
          "name": "stderr",
          "text": [
            "\u001b[34m\u001b[1mwandb\u001b[0m: Currently logged in as: \u001b[33mugr-sail\u001b[0m (\u001b[33msail-ugr\u001b[0m). Use \u001b[1m`wandb login --relogin`\u001b[0m to force relogin\n"
          ]
        },
        {
          "output_type": "display_data",
          "data": {
            "text/plain": [
              "<IPython.core.display.HTML object>"
            ],
            "text/html": [
              "Tracking run with wandb version 0.12.16"
            ]
          },
          "metadata": {}
        },
        {
          "output_type": "display_data",
          "data": {
            "text/plain": [
              "<IPython.core.display.HTML object>"
            ],
            "text/html": [
              "Run data is saved locally in <code>/content/wandb/run-20220518_163329-18acqu1l</code>"
            ]
          },
          "metadata": {}
        },
        {
          "output_type": "display_data",
          "data": {
            "text/plain": [
              "<IPython.core.display.HTML object>"
            ],
            "text/html": [
              "Syncing run <strong><a href=\"https://wandb.ai/sail-ugr/tfg-silvia-barroso/runs/18acqu1l\" target=\"_blank\">northern-firefly-26</a></strong> to <a href=\"https://wandb.ai/sail-ugr/tfg-silvia-barroso\" target=\"_blank\">Weights & Biases</a> (<a href=\"https://wandb.me/run\" target=\"_blank\">docs</a>)<br/>"
            ]
          },
          "metadata": {}
        },
        {
          "output_type": "stream",
          "name": "stderr",
          "text": [
            "\u001b[34m\u001b[1mwandb\u001b[0m: \u001b[33mWARNING\u001b[0m The save_model argument by default saves the model in the HDF5 format that cannot save custom objects like subclassed models and custom layers. This behavior will be deprecated in a future release in favor of the SavedModel format. Meanwhile, the HDF5 model is saved as W&B files and the SavedModel as W&B Artifacts.\n"
          ]
        },
        {
          "output_type": "stream",
          "name": "stdout",
          "text": [
            "Epoch 1/75\n",
            "8/8 [==============================] - 17s 18ms/step - d_loss: 0.5374 - g_loss: 1.3935 - _timestamp: 1652891638.0000 - _runtime: 28.0000\n",
            "Epoch 2/75\n",
            "8/8 [==============================] - 0s 8ms/step - d_loss: 0.1967 - g_loss: 2.4296 - _timestamp: 1652891638.0000 - _runtime: 28.0000\n",
            "Epoch 3/75\n",
            "8/8 [==============================] - 0s 9ms/step - d_loss: 0.3777 - g_loss: 2.0059 - _timestamp: 1652891638.0000 - _runtime: 28.0000\n",
            "Epoch 4/75\n",
            "8/8 [==============================] - 0s 8ms/step - d_loss: 0.5562 - g_loss: 2.2518 - _timestamp: 1652891638.0000 - _runtime: 28.0000\n",
            "Epoch 5/75\n",
            "8/8 [==============================] - 0s 10ms/step - d_loss: 0.9299 - g_loss: 2.6853 - _timestamp: 1652891638.0000 - _runtime: 28.0000\n",
            "Epoch 6/75\n",
            "8/8 [==============================] - 0s 8ms/step - d_loss: 0.6657 - g_loss: 1.5822 - _timestamp: 1652891638.0000 - _runtime: 28.0000\n",
            "Epoch 7/75\n",
            "8/8 [==============================] - 0s 8ms/step - d_loss: 0.4845 - g_loss: 1.2552 - _timestamp: 1652891638.0000 - _runtime: 28.0000\n",
            "Epoch 8/75\n",
            "8/8 [==============================] - 0s 8ms/step - d_loss: 0.4002 - g_loss: 1.5859 - _timestamp: 1652891638.0000 - _runtime: 28.0000\n",
            "Epoch 9/75\n",
            "8/8 [==============================] - 0s 8ms/step - d_loss: 0.3671 - g_loss: 1.8925 - _timestamp: 1652891638.0000 - _runtime: 28.0000\n",
            "Epoch 10/75\n",
            "8/8 [==============================] - 0s 9ms/step - d_loss: 0.5372 - g_loss: 1.1918 - _timestamp: 1652891638.0000 - _runtime: 28.0000\n",
            "Epoch 11/75\n",
            "8/8 [==============================] - 0s 8ms/step - d_loss: 0.3524 - g_loss: 1.8498 - _timestamp: 1652891639.0000 - _runtime: 29.0000\n",
            "Epoch 12/75\n",
            "8/8 [==============================] - 0s 9ms/step - d_loss: 0.4918 - g_loss: 3.0548 - _timestamp: 1652891639.0000 - _runtime: 29.0000\n",
            "Epoch 13/75\n",
            "8/8 [==============================] - 0s 9ms/step - d_loss: 0.6409 - g_loss: 2.3712 - _timestamp: 1652891639.0000 - _runtime: 29.0000\n",
            "Epoch 14/75\n",
            "8/8 [==============================] - 0s 8ms/step - d_loss: 0.5803 - g_loss: 1.8647 - _timestamp: 1652891639.0000 - _runtime: 29.0000\n",
            "Epoch 15/75\n",
            "8/8 [==============================] - 0s 8ms/step - d_loss: 0.4843 - g_loss: 2.3369 - _timestamp: 1652891639.0000 - _runtime: 29.0000\n",
            "Epoch 16/75\n",
            "8/8 [==============================] - 0s 8ms/step - d_loss: 0.4433 - g_loss: 2.5451 - _timestamp: 1652891639.0000 - _runtime: 29.0000\n",
            "Epoch 17/75\n",
            "8/8 [==============================] - 0s 8ms/step - d_loss: 0.4520 - g_loss: 2.2061 - _timestamp: 1652891639.0000 - _runtime: 29.0000\n",
            "Epoch 18/75\n",
            "8/8 [==============================] - 0s 8ms/step - d_loss: 0.3956 - g_loss: 1.9587 - _timestamp: 1652891639.0000 - _runtime: 29.0000\n",
            "Epoch 19/75\n",
            "8/8 [==============================] - 0s 10ms/step - d_loss: 0.3396 - g_loss: 2.3545 - _timestamp: 1652891639.0000 - _runtime: 29.0000\n",
            "Epoch 20/75\n",
            "8/8 [==============================] - 0s 8ms/step - d_loss: 0.4249 - g_loss: 2.5046 - _timestamp: 1652891639.0000 - _runtime: 29.0000\n",
            "Epoch 21/75\n",
            "8/8 [==============================] - 0s 8ms/step - d_loss: 0.7294 - g_loss: 2.1655 - _timestamp: 1652891639.0000 - _runtime: 29.0000\n",
            "Epoch 22/75\n",
            "8/8 [==============================] - 0s 9ms/step - d_loss: 0.8152 - g_loss: 1.6846 - _timestamp: 1652891639.0000 - _runtime: 29.0000\n",
            "Epoch 23/75\n",
            "8/8 [==============================] - 0s 9ms/step - d_loss: 0.5734 - g_loss: 1.7411 - _timestamp: 1652891639.0000 - _runtime: 29.0000\n",
            "Epoch 24/75\n",
            "8/8 [==============================] - 0s 8ms/step - d_loss: 0.4122 - g_loss: 2.3903 - _timestamp: 1652891640.0000 - _runtime: 30.0000\n",
            "Epoch 25/75\n",
            "8/8 [==============================] - 0s 9ms/step - d_loss: 0.3004 - g_loss: 2.3626 - _timestamp: 1652891640.0000 - _runtime: 30.0000\n",
            "Epoch 26/75\n",
            "8/8 [==============================] - 0s 8ms/step - d_loss: 0.3623 - g_loss: 2.0816 - _timestamp: 1652891640.0000 - _runtime: 30.0000\n",
            "Epoch 27/75\n",
            "8/8 [==============================] - 0s 8ms/step - d_loss: 0.5333 - g_loss: 1.8384 - _timestamp: 1652891640.0000 - _runtime: 30.0000\n",
            "Epoch 28/75\n",
            "8/8 [==============================] - 0s 8ms/step - d_loss: 0.5255 - g_loss: 1.6895 - _timestamp: 1652891640.0000 - _runtime: 30.0000\n",
            "Epoch 29/75\n",
            "8/8 [==============================] - 0s 9ms/step - d_loss: 0.3973 - g_loss: 2.1915 - _timestamp: 1652891640.0000 - _runtime: 30.0000\n",
            "Epoch 30/75\n",
            "8/8 [==============================] - 0s 8ms/step - d_loss: 0.3372 - g_loss: 2.9228 - _timestamp: 1652891640.0000 - _runtime: 30.0000\n",
            "Epoch 31/75\n",
            "8/8 [==============================] - 0s 9ms/step - d_loss: 0.3730 - g_loss: 2.6227 - _timestamp: 1652891640.0000 - _runtime: 30.0000\n",
            "Epoch 32/75\n",
            "8/8 [==============================] - 0s 9ms/step - d_loss: 0.5787 - g_loss: 2.0969 - _timestamp: 1652891640.0000 - _runtime: 30.0000\n",
            "Epoch 33/75\n",
            "8/8 [==============================] - 0s 8ms/step - d_loss: 0.5410 - g_loss: 2.0031 - _timestamp: 1652891640.0000 - _runtime: 30.0000\n",
            "Epoch 34/75\n",
            "8/8 [==============================] - 0s 8ms/step - d_loss: 0.4171 - g_loss: 2.5110 - _timestamp: 1652891640.0000 - _runtime: 30.0000\n",
            "Epoch 35/75\n",
            "8/8 [==============================] - 0s 8ms/step - d_loss: 0.3332 - g_loss: 2.4803 - _timestamp: 1652891640.0000 - _runtime: 30.0000\n",
            "Epoch 36/75\n",
            "8/8 [==============================] - 0s 10ms/step - d_loss: 0.2800 - g_loss: 2.7305 - _timestamp: 1652891640.0000 - _runtime: 30.0000\n",
            "Epoch 37/75\n",
            "8/8 [==============================] - 0s 8ms/step - d_loss: 0.3329 - g_loss: 2.5785 - _timestamp: 1652891641.0000 - _runtime: 31.0000\n",
            "Epoch 38/75\n",
            "8/8 [==============================] - 0s 8ms/step - d_loss: 0.3434 - g_loss: 2.2841 - _timestamp: 1652891641.0000 - _runtime: 31.0000\n",
            "Epoch 39/75\n",
            "8/8 [==============================] - 0s 8ms/step - d_loss: 0.4216 - g_loss: 2.0129 - _timestamp: 1652891641.0000 - _runtime: 31.0000\n",
            "Epoch 40/75\n",
            "8/8 [==============================] - 0s 8ms/step - d_loss: 0.5126 - g_loss: 2.1466 - _timestamp: 1652891641.0000 - _runtime: 31.0000\n",
            "Epoch 41/75\n",
            "8/8 [==============================] - 0s 8ms/step - d_loss: 0.4757 - g_loss: 2.2590 - _timestamp: 1652891641.0000 - _runtime: 31.0000\n",
            "Epoch 42/75\n",
            "8/8 [==============================] - 0s 8ms/step - d_loss: 0.3745 - g_loss: 2.6813 - _timestamp: 1652891641.0000 - _runtime: 31.0000\n",
            "Epoch 43/75\n",
            "8/8 [==============================] - 0s 9ms/step - d_loss: 0.3213 - g_loss: 2.8140 - _timestamp: 1652891641.0000 - _runtime: 31.0000\n",
            "Epoch 44/75\n",
            "8/8 [==============================] - 0s 8ms/step - d_loss: 0.3065 - g_loss: 2.5227 - _timestamp: 1652891641.0000 - _runtime: 31.0000\n",
            "Epoch 45/75\n",
            "8/8 [==============================] - 0s 9ms/step - d_loss: 0.4347 - g_loss: 2.2959 - _timestamp: 1652891641.0000 - _runtime: 31.0000\n",
            "Epoch 46/75\n",
            "8/8 [==============================] - 0s 8ms/step - d_loss: 0.5329 - g_loss: 1.8151 - _timestamp: 1652891641.0000 - _runtime: 31.0000\n",
            "Epoch 47/75\n",
            "8/8 [==============================] - 0s 8ms/step - d_loss: 0.5784 - g_loss: 1.7870 - _timestamp: 1652891641.0000 - _runtime: 31.0000\n",
            "Epoch 48/75\n",
            "8/8 [==============================] - 0s 8ms/step - d_loss: 0.4791 - g_loss: 2.5880 - _timestamp: 1652891641.0000 - _runtime: 31.0000\n",
            "Epoch 49/75\n",
            "8/8 [==============================] - 0s 8ms/step - d_loss: 0.3373 - g_loss: 3.1007 - _timestamp: 1652891641.0000 - _runtime: 31.0000\n",
            "Epoch 50/75\n",
            "8/8 [==============================] - 0s 8ms/step - d_loss: 0.2954 - g_loss: 3.0282 - _timestamp: 1652891642.0000 - _runtime: 32.0000\n",
            "Epoch 51/75\n",
            "8/8 [==============================] - 0s 8ms/step - d_loss: 0.3235 - g_loss: 2.9102 - _timestamp: 1652891642.0000 - _runtime: 32.0000\n",
            "Epoch 52/75\n",
            "8/8 [==============================] - 0s 9ms/step - d_loss: 0.3266 - g_loss: 2.5651 - _timestamp: 1652891642.0000 - _runtime: 32.0000\n",
            "Epoch 53/75\n",
            "8/8 [==============================] - 0s 8ms/step - d_loss: 0.2999 - g_loss: 2.3485 - _timestamp: 1652891642.0000 - _runtime: 32.0000\n",
            "Epoch 54/75\n",
            "8/8 [==============================] - 0s 8ms/step - d_loss: 0.3485 - g_loss: 2.7835 - _timestamp: 1652891642.0000 - _runtime: 32.0000\n",
            "Epoch 55/75\n",
            "8/8 [==============================] - 0s 9ms/step - d_loss: 0.3333 - g_loss: 2.3597 - _timestamp: 1652891642.0000 - _runtime: 32.0000\n",
            "Epoch 56/75\n",
            "8/8 [==============================] - 0s 8ms/step - d_loss: 0.4279 - g_loss: 2.3089 - _timestamp: 1652891642.0000 - _runtime: 32.0000\n",
            "Epoch 57/75\n",
            "8/8 [==============================] - 0s 8ms/step - d_loss: 0.3904 - g_loss: 2.3474 - _timestamp: 1652891642.0000 - _runtime: 32.0000\n",
            "Epoch 58/75\n",
            "8/8 [==============================] - 0s 8ms/step - d_loss: 0.3135 - g_loss: 2.6704 - _timestamp: 1652891642.0000 - _runtime: 32.0000\n",
            "Epoch 59/75\n",
            "8/8 [==============================] - 0s 9ms/step - d_loss: 0.2498 - g_loss: 2.8549 - _timestamp: 1652891642.0000 - _runtime: 32.0000\n",
            "Epoch 60/75\n",
            "8/8 [==============================] - 0s 8ms/step - d_loss: 0.1903 - g_loss: 3.2265 - _timestamp: 1652891642.0000 - _runtime: 32.0000\n",
            "Epoch 61/75\n",
            "8/8 [==============================] - 0s 8ms/step - d_loss: 0.1634 - g_loss: 3.3493 - _timestamp: 1652891642.0000 - _runtime: 32.0000\n",
            "Epoch 62/75\n",
            "8/8 [==============================] - 0s 8ms/step - d_loss: 0.1624 - g_loss: 3.0308 - _timestamp: 1652891642.0000 - _runtime: 32.0000\n",
            "Epoch 63/75\n",
            "8/8 [==============================] - 0s 9ms/step - d_loss: 0.1866 - g_loss: 3.1046 - _timestamp: 1652891643.0000 - _runtime: 33.0000\n",
            "Epoch 64/75\n",
            "8/8 [==============================] - 0s 10ms/step - d_loss: 0.2033 - g_loss: 2.9998 - _timestamp: 1652891643.0000 - _runtime: 33.0000\n",
            "Epoch 65/75\n",
            "8/8 [==============================] - 0s 9ms/step - d_loss: 0.1790 - g_loss: 3.2728 - _timestamp: 1652891643.0000 - _runtime: 33.0000\n",
            "Epoch 66/75\n",
            "8/8 [==============================] - 0s 8ms/step - d_loss: 0.1704 - g_loss: 3.2775 - _timestamp: 1652891643.0000 - _runtime: 33.0000\n",
            "Epoch 67/75\n",
            "8/8 [==============================] - 0s 8ms/step - d_loss: 0.1918 - g_loss: 3.2906 - _timestamp: 1652891643.0000 - _runtime: 33.0000\n",
            "Epoch 68/75\n",
            "8/8 [==============================] - 0s 8ms/step - d_loss: 0.1753 - g_loss: 3.1440 - _timestamp: 1652891643.0000 - _runtime: 33.0000\n",
            "Epoch 69/75\n",
            "8/8 [==============================] - 0s 8ms/step - d_loss: 0.1291 - g_loss: 3.8390 - _timestamp: 1652891643.0000 - _runtime: 33.0000\n",
            "Epoch 70/75\n",
            "8/8 [==============================] - 0s 8ms/step - d_loss: 0.0794 - g_loss: 4.0583 - _timestamp: 1652891643.0000 - _runtime: 33.0000\n",
            "Epoch 71/75\n",
            "8/8 [==============================] - 0s 8ms/step - d_loss: 0.0549 - g_loss: 4.3611 - _timestamp: 1652891643.0000 - _runtime: 33.0000\n",
            "Epoch 72/75\n",
            "8/8 [==============================] - 0s 9ms/step - d_loss: 0.0607 - g_loss: 4.7171 - _timestamp: 1652891643.0000 - _runtime: 33.0000\n",
            "Epoch 73/75\n",
            "8/8 [==============================] - 0s 8ms/step - d_loss: 0.0631 - g_loss: 4.7873 - _timestamp: 1652891643.0000 - _runtime: 33.0000\n",
            "Epoch 74/75\n",
            "8/8 [==============================] - 0s 8ms/step - d_loss: 0.0561 - g_loss: 4.6777 - _timestamp: 1652891643.0000 - _runtime: 33.0000\n",
            "Epoch 75/75\n",
            "8/8 [==============================] - 0s 8ms/step - d_loss: 0.0663 - g_loss: 4.7067 - _timestamp: 1652891643.0000 - _runtime: 33.0000\n"
          ]
        },
        {
          "output_type": "display_data",
          "data": {
            "text/plain": [
              "<IPython.core.display.HTML object>"
            ],
            "text/html": [
              "Waiting for W&B process to finish... <strong style=\"color:green\">(success).</strong>"
            ]
          },
          "metadata": {}
        },
        {
          "output_type": "display_data",
          "data": {
            "text/plain": [
              "VBox(children=(Label(value='0.001 MB of 0.001 MB uploaded (0.000 MB deduped)\\r'), FloatProgress(value=1.0, max…"
            ],
            "application/vnd.jupyter.widget-view+json": {
              "version_major": 2,
              "version_minor": 0,
              "model_id": "bb5c2747ae7648f9bb9a0bc7e72a6693"
            }
          },
          "metadata": {}
        },
        {
          "output_type": "display_data",
          "data": {
            "text/plain": [
              "<IPython.core.display.HTML object>"
            ],
            "text/html": [
              "<style>\n",
              "    table.wandb td:nth-child(1) { padding: 0 10px; text-align: left ; width: auto;} td:nth-child(2) {text-align: left ; width: 100%}\n",
              "    .wandb-row { display: flex; flex-direction: row; flex-wrap: wrap; justify-content: flex-start; width: 100% }\n",
              "    .wandb-col { display: flex; flex-direction: column; flex-basis: 100%; flex: 1; padding: 10px; }\n",
              "    </style>\n",
              "<div class=\"wandb-row\"><div class=\"wandb-col\"><h3>Run history:</h3><br/><table class=\"wandb\"><tr><td>d_loss</td><td>▆▂▆▇▅▆▆▆▅▅▄█▆▄▆▅▄▆▄▄▄▆▄▄▆▅▃▄▄▅▄▃▂▂▂▂▂▁▁▁</td></tr><tr><td>epoch</td><td>▁▁▁▁▂▂▂▂▂▃▃▃▃▃▃▄▄▄▄▄▅▅▅▅▅▅▆▆▆▆▆▆▇▇▇▇▇███</td></tr><tr><td>g_loss</td><td>▁▃▃▂▂▁▅▂▄▂▃▃▂▃▂▃▄▃▄▄▃▃▄▄▂▄▅▄▄▃▃▄▅▅▅▅▆▇██</td></tr></table><br/></div><div class=\"wandb-col\"><h3>Run summary:</h3><br/><table class=\"wandb\"><tr><td>d_loss</td><td>0.06629</td></tr><tr><td>epoch</td><td>74</td></tr><tr><td>g_loss</td><td>4.7067</td></tr></table><br/></div></div>"
            ]
          },
          "metadata": {}
        },
        {
          "output_type": "display_data",
          "data": {
            "text/plain": [
              "<IPython.core.display.HTML object>"
            ],
            "text/html": [
              "Synced <strong style=\"color:#cdcd00\">northern-firefly-26</strong>: <a href=\"https://wandb.ai/sail-ugr/tfg-silvia-barroso/runs/18acqu1l\" target=\"_blank\">https://wandb.ai/sail-ugr/tfg-silvia-barroso/runs/18acqu1l</a><br/>Synced 5 W&B file(s), 1 media file(s), 0 artifact file(s) and 0 other file(s)"
            ]
          },
          "metadata": {}
        },
        {
          "output_type": "display_data",
          "data": {
            "text/plain": [
              "<IPython.core.display.HTML object>"
            ],
            "text/html": [
              "Find logs at: <code>./wandb/run-20220518_163329-18acqu1l/logs</code>"
            ]
          },
          "metadata": {}
        }
      ]
    },
    {
      "cell_type": "code",
      "source": [
        "#Evaluación\n",
        "gan.evaluate_D()\n",
        "gan.evaluate_G()"
      ],
      "metadata": {
        "colab": {
          "base_uri": "https://localhost:8080/",
          "height": 390
        },
        "id": "PmEVopag9rhg",
        "outputId": "3ebc7448-e1c7-4fb1-cf56-96a51a333eb0"
      },
      "execution_count": null,
      "outputs": [
        {
          "output_type": "stream",
          "name": "stdout",
          "text": [
            "8/8 [==============================] - 0s 3ms/step - loss: 3.0908 - accuracy: 0.0880\n",
            "8/8 [==============================] - 0s 3ms/step - loss: 4.2449 - accuracy: 0.0040\n",
            ">Accuracy real: 9%, fake: 0%\n",
            ">Loss real: \n",
            "3.09079647064209\n",
            ">Loss fake: \n",
            "4.244872093200684\n"
          ]
        },
        {
          "output_type": "display_data",
          "data": {
            "text/plain": [
              "<Figure size 432x288 with 9 Axes>"
            ],
            "image/png": "[encoded data removed]"
          },
          "metadata": {
            "needs_background": "light"
          }
        }
      ]
    },
    {
      "cell_type": "markdown",
      "source": [
        "# EXPERIMENTO 2\n",
        "Vamos a realizar la siguiente mejora para que la pérdida del generador no supere a la pérdida del discriminador y consigan igualarse.  \n",
        "En el **Discriminador** vamos a hacer una **reducción del learning rate** y un **incremento del dropout**."
      ],
      "metadata": {
        "id": "hAO-aHem8Y7P"
      }
    },
    {
      "cell_type": "code",
      "source": [
        "#Optimizador del discriminador donde se ha realizado una reducción del learning rate (Anteriormente se definio la tasa como 1e-3)\n",
        "opt_d=tf.keras.optimizers.Adam(learning_rate = 1e-9)"
      ],
      "metadata": {
        "id": "izrNWOsIDV7U"
      },
      "execution_count": null,
      "outputs": []
    },
    {
      "cell_type": "code",
      "execution_count": null,
      "metadata": {
        "id": "I_cMkJpdfxQk",
        "colab": {
          "base_uri": "https://localhost:8080/"
        },
        "outputId": "4e6ea0ad-3529-44a0-9aa9-b49107367ac7"
      },
      "outputs": [
        {
          "output_type": "stream",
          "name": "stdout",
          "text": [
            "Model: \"discriminator2\"\n",
            "_________________________________________________________________\n",
            " Layer (type)                Output Shape              Param #   \n",
            "=================================================================\n",
            " conv2d_3 (Conv2D)           (None, 14, 14, 64)        640       \n",
            "                                                                 \n",
            " leaky_re_lu_4 (LeakyReLU)   (None, 14, 14, 64)        0         \n",
            "                                                                 \n",
            " conv2d_4 (Conv2D)           (None, 7, 7, 128)         73856     \n",
            "                                                                 \n",
            " leaky_re_lu_5 (LeakyReLU)   (None, 7, 7, 128)         0         \n",
            "                                                                 \n",
            " flatten_1 (Flatten)         (None, 6272)              0         \n",
            "                                                                 \n",
            " dropout_1 (Dropout)         (None, 6272)              0         \n",
            "                                                                 \n",
            " dense_2 (Dense)             (None, 1)                 6273      \n",
            "                                                                 \n",
            "=================================================================\n",
            "Total params: 80,769\n",
            "Trainable params: 80,769\n",
            "Non-trainable params: 0\n",
            "_________________________________________________________________\n"
          ]
        }
      ],
      "source": [
        "discriminator2=keras.Sequential(\n",
        "    [\n",
        "        keras.Input(shape=(28,28,1)),\n",
        "        layers.Conv2D(64,kernel_size=3,strides=2,padding=\"same\"),\n",
        "        layers.LeakyReLU(alpha=0.2),\n",
        "        layers.Conv2D(128, kernel_size=3, strides=2, padding=\"same\"),\n",
        "        layers.LeakyReLU(alpha=0.2),\n",
        "        layers.Flatten(),\n",
        "        layers.Dropout(0.5),\n",
        "        layers.Dense(1, activation=\"sigmoid\"),\n",
        "    ],\n",
        "    name=\"discriminator2\"\n",
        "\n",
        ")\n",
        "discriminator2.summary()"
      ]
    },
    {
      "cell_type": "code",
      "source": [
        "wandb.init(project=\"tfg-silvia-barroso\", entity=\"sail-ugr\", \n",
        "           config= {\n",
        "               \"learning_rate\": 1e-09,\n",
        "               \"epochs\": epochs,\n",
        "               \"num_imagenes\": num_imagenes,\n",
        "               \"opt\": \"Adam\",\n",
        "               \"latent_dim\": latent_dim\n",
        "               })\n",
        "\n",
        "#Definición del modelo GAN\n",
        "gan = GAN(discriminator=discriminator2, generator=generator,\n",
        "        latent_dim=latent_dim)\n",
        "\n",
        "#Compilación \n",
        "gan.compile(\n",
        "    d_optimizer=opt_d,\n",
        "    g_optimizer=opt,\n",
        "    loss_fn=keras.losses.BinaryCrossentropy(),\n",
        ")\n",
        "\n",
        "#Entrenamiento\n",
        "history=gan.fit(\n",
        "  x_train , epochs=epochs , callbacks=[WandbCallback()]\n",
        ")\n",
        "\n",
        "wandb.finish()"
      ],
      "metadata": {
        "id": "t0vDaGbP-GBI",
        "colab": {
          "base_uri": "https://localhost:8080/",
          "height": 1000,
          "referenced_widgets": [
            "4c0ef889deae40cf8a80448e3a2cf506",
            "eb6d97d2b6e44fb0ab8635d2c5a0525c",
            "6c20354f50194d9881079a99032f9735",
            "fab215ba4bdc4599bdc1b5e7793c2f70",
            "04446acc27854e4cbf4ae38c132373f2",
            "3d0b34ab1a3a42bf947f306e7edffe08",
            "edf65c82e2ac462ab801271536926f53",
            "813a5e0a69d44ac99e6a76ef152b175a"
          ]
        },
        "outputId": "7c277db2-418a-48e6-eef6-c6d607de75c1"
      },
      "execution_count": null,
      "outputs": [
        {
          "output_type": "display_data",
          "data": {
            "text/plain": [
              "<IPython.core.display.HTML object>"
            ],
            "text/html": [
              "Tracking run with wandb version 0.12.16"
            ]
          },
          "metadata": {}
        },
        {
          "output_type": "display_data",
          "data": {
            "text/plain": [
              "<IPython.core.display.HTML object>"
            ],
            "text/html": [
              "Run data is saved locally in <code>/content/wandb/run-20220518_163409-2c7y9vyy</code>"
            ]
          },
          "metadata": {}
        },
        {
          "output_type": "display_data",
          "data": {
            "text/plain": [
              "<IPython.core.display.HTML object>"
            ],
            "text/html": [
              "Syncing run <strong><a href=\"https://wandb.ai/sail-ugr/tfg-silvia-barroso/runs/2c7y9vyy\" target=\"_blank\">stellar-brook-27</a></strong> to <a href=\"https://wandb.ai/sail-ugr/tfg-silvia-barroso\" target=\"_blank\">Weights & Biases</a> (<a href=\"https://wandb.me/run\" target=\"_blank\">docs</a>)<br/>"
            ]
          },
          "metadata": {}
        },
        {
          "output_type": "stream",
          "name": "stdout",
          "text": [
            "Epoch 1/75\n",
            "8/8 [==============================] - 1s 9ms/step - d_loss: 0.6940 - g_loss: 0.6844 - _timestamp: 1652891653.0000 - _runtime: 4.0000\n",
            "Epoch 2/75\n",
            "8/8 [==============================] - 0s 9ms/step - d_loss: 0.6930 - g_loss: 0.6856 - _timestamp: 1652891654.0000 - _runtime: 5.0000\n",
            "Epoch 3/75\n",
            "8/8 [==============================] - 0s 9ms/step - d_loss: 0.6939 - g_loss: 0.6868 - _timestamp: 1652891654.0000 - _runtime: 5.0000\n",
            "Epoch 4/75\n",
            "8/8 [==============================] - 0s 8ms/step - d_loss: 0.6936 - g_loss: 0.6854 - _timestamp: 1652891654.0000 - _runtime: 5.0000\n",
            "Epoch 5/75\n",
            "8/8 [==============================] - 0s 9ms/step - d_loss: 0.6930 - g_loss: 0.6858 - _timestamp: 1652891654.0000 - _runtime: 5.0000\n",
            "Epoch 6/75\n",
            "8/8 [==============================] - 0s 8ms/step - d_loss: 0.6935 - g_loss: 0.6861 - _timestamp: 1652891654.0000 - _runtime: 5.0000\n",
            "Epoch 7/75\n",
            "8/8 [==============================] - 0s 9ms/step - d_loss: 0.6931 - g_loss: 0.6860 - _timestamp: 1652891654.0000 - _runtime: 5.0000\n",
            "Epoch 8/75\n",
            "8/8 [==============================] - 0s 8ms/step - d_loss: 0.6939 - g_loss: 0.6842 - _timestamp: 1652891654.0000 - _runtime: 5.0000\n",
            "Epoch 9/75\n",
            "8/8 [==============================] - 0s 8ms/step - d_loss: 0.6939 - g_loss: 0.6863 - _timestamp: 1652891654.0000 - _runtime: 5.0000\n",
            "Epoch 10/75\n",
            "8/8 [==============================] - 0s 8ms/step - d_loss: 0.6942 - g_loss: 0.6840 - _timestamp: 1652891654.0000 - _runtime: 5.0000\n",
            "Epoch 11/75\n",
            "8/8 [==============================] - 0s 8ms/step - d_loss: 0.6942 - g_loss: 0.6842 - _timestamp: 1652891654.0000 - _runtime: 5.0000\n",
            "Epoch 12/75\n",
            "8/8 [==============================] - 0s 8ms/step - d_loss: 0.6944 - g_loss: 0.6854 - _timestamp: 1652891654.0000 - _runtime: 5.0000\n",
            "Epoch 13/75\n",
            "8/8 [==============================] - 0s 9ms/step - d_loss: 0.6937 - g_loss: 0.6863 - _timestamp: 1652891654.0000 - _runtime: 5.0000\n",
            "Epoch 14/75\n",
            "8/8 [==============================] - 0s 8ms/step - d_loss: 0.6937 - g_loss: 0.6852 - _timestamp: 1652891654.0000 - _runtime: 5.0000\n",
            "Epoch 15/75\n",
            "8/8 [==============================] - 0s 8ms/step - d_loss: 0.6943 - g_loss: 0.6854 - _timestamp: 1652891655.0000 - _runtime: 6.0000\n",
            "Epoch 16/75\n",
            "8/8 [==============================] - 0s 9ms/step - d_loss: 0.6935 - g_loss: 0.6859 - _timestamp: 1652891655.0000 - _runtime: 6.0000\n",
            "Epoch 17/75\n",
            "8/8 [==============================] - 0s 9ms/step - d_loss: 0.6928 - g_loss: 0.6860 - _timestamp: 1652891655.0000 - _runtime: 6.0000\n",
            "Epoch 18/75\n",
            "8/8 [==============================] - 0s 8ms/step - d_loss: 0.6939 - g_loss: 0.6844 - _timestamp: 1652891655.0000 - _runtime: 6.0000\n",
            "Epoch 19/75\n",
            "8/8 [==============================] - 0s 8ms/step - d_loss: 0.6933 - g_loss: 0.6843 - _timestamp: 1652891655.0000 - _runtime: 6.0000\n",
            "Epoch 20/75\n",
            "8/8 [==============================] - 0s 10ms/step - d_loss: 0.6934 - g_loss: 0.6842 - _timestamp: 1652891655.0000 - _runtime: 6.0000\n",
            "Epoch 21/75\n",
            "8/8 [==============================] - 0s 8ms/step - d_loss: 0.6940 - g_loss: 0.6851 - _timestamp: 1652891655.0000 - _runtime: 6.0000\n",
            "Epoch 22/75\n",
            "8/8 [==============================] - 0s 8ms/step - d_loss: 0.6942 - g_loss: 0.6858 - _timestamp: 1652891655.0000 - _runtime: 6.0000\n",
            "Epoch 23/75\n",
            "8/8 [==============================] - 0s 8ms/step - d_loss: 0.6943 - g_loss: 0.6848 - _timestamp: 1652891655.0000 - _runtime: 6.0000\n",
            "Epoch 24/75\n",
            "8/8 [==============================] - 0s 8ms/step - d_loss: 0.6937 - g_loss: 0.6866 - _timestamp: 1652891655.0000 - _runtime: 6.0000\n",
            "Epoch 25/75\n",
            "8/8 [==============================] - 0s 8ms/step - d_loss: 0.6937 - g_loss: 0.6863 - _timestamp: 1652891655.0000 - _runtime: 6.0000\n",
            "Epoch 26/75\n",
            "8/8 [==============================] - 0s 8ms/step - d_loss: 0.6930 - g_loss: 0.6857 - _timestamp: 1652891655.0000 - _runtime: 6.0000\n",
            "Epoch 27/75\n",
            "8/8 [==============================] - 0s 9ms/step - d_loss: 0.6941 - g_loss: 0.6825 - _timestamp: 1652891655.0000 - _runtime: 6.0000\n",
            "Epoch 28/75\n",
            "8/8 [==============================] - 0s 8ms/step - d_loss: 0.6934 - g_loss: 0.6867 - _timestamp: 1652891656.0000 - _runtime: 7.0000\n",
            "Epoch 29/75\n",
            "8/8 [==============================] - 0s 9ms/step - d_loss: 0.6942 - g_loss: 0.6867 - _timestamp: 1652891656.0000 - _runtime: 7.0000\n",
            "Epoch 30/75\n",
            "8/8 [==============================] - 0s 8ms/step - d_loss: 0.6935 - g_loss: 0.6849 - _timestamp: 1652891656.0000 - _runtime: 7.0000\n",
            "Epoch 31/75\n",
            "8/8 [==============================] - 0s 8ms/step - d_loss: 0.6948 - g_loss: 0.6847 - _timestamp: 1652891656.0000 - _runtime: 7.0000\n",
            "Epoch 32/75\n",
            "8/8 [==============================] - 0s 9ms/step - d_loss: 0.6935 - g_loss: 0.6856 - _timestamp: 1652891656.0000 - _runtime: 7.0000\n",
            "Epoch 33/75\n",
            "8/8 [==============================] - 0s 8ms/step - d_loss: 0.6933 - g_loss: 0.6870 - _timestamp: 1652891656.0000 - _runtime: 7.0000\n",
            "Epoch 34/75\n",
            "8/8 [==============================] - 0s 9ms/step - d_loss: 0.6940 - g_loss: 0.6851 - _timestamp: 1652891656.0000 - _runtime: 7.0000\n",
            "Epoch 35/75\n",
            "8/8 [==============================] - 0s 8ms/step - d_loss: 0.6933 - g_loss: 0.6874 - _timestamp: 1652891656.0000 - _runtime: 7.0000\n",
            "Epoch 36/75\n",
            "8/8 [==============================] - 0s 8ms/step - d_loss: 0.6950 - g_loss: 0.6855 - _timestamp: 1652891656.0000 - _runtime: 7.0000\n",
            "Epoch 37/75\n",
            "8/8 [==============================] - 0s 8ms/step - d_loss: 0.6931 - g_loss: 0.6834 - _timestamp: 1652891656.0000 - _runtime: 7.0000\n",
            "Epoch 38/75\n",
            "8/8 [==============================] - 0s 8ms/step - d_loss: 0.6942 - g_loss: 0.6855 - _timestamp: 1652891656.0000 - _runtime: 7.0000\n",
            "Epoch 39/75\n",
            "8/8 [==============================] - 0s 8ms/step - d_loss: 0.6938 - g_loss: 0.6862 - _timestamp: 1652891656.0000 - _runtime: 7.0000\n",
            "Epoch 40/75\n",
            "8/8 [==============================] - 0s 11ms/step - d_loss: 0.6927 - g_loss: 0.6842 - _timestamp: 1652891656.0000 - _runtime: 7.0000\n",
            "Epoch 41/75\n",
            "8/8 [==============================] - 0s 9ms/step - d_loss: 0.6935 - g_loss: 0.6857 - _timestamp: 1652891657.0000 - _runtime: 8.0000\n",
            "Epoch 42/75\n",
            "8/8 [==============================] - 0s 8ms/step - d_loss: 0.6940 - g_loss: 0.6856 - _timestamp: 1652891657.0000 - _runtime: 8.0000\n",
            "Epoch 43/75\n",
            "8/8 [==============================] - 0s 8ms/step - d_loss: 0.6943 - g_loss: 0.6856 - _timestamp: 1652891657.0000 - _runtime: 8.0000\n",
            "Epoch 44/75\n",
            "8/8 [==============================] - 0s 9ms/step - d_loss: 0.6944 - g_loss: 0.6861 - _timestamp: 1652891657.0000 - _runtime: 8.0000\n",
            "Epoch 45/75\n",
            "8/8 [==============================] - 0s 8ms/step - d_loss: 0.6933 - g_loss: 0.6863 - _timestamp: 1652891657.0000 - _runtime: 8.0000\n",
            "Epoch 46/75\n",
            "8/8 [==============================] - 0s 8ms/step - d_loss: 0.6933 - g_loss: 0.6847 - _timestamp: 1652891657.0000 - _runtime: 8.0000\n",
            "Epoch 47/75\n",
            "8/8 [==============================] - 0s 9ms/step - d_loss: 0.6941 - g_loss: 0.6851 - _timestamp: 1652891657.0000 - _runtime: 8.0000\n",
            "Epoch 48/75\n",
            "8/8 [==============================] - 0s 8ms/step - d_loss: 0.6944 - g_loss: 0.6859 - _timestamp: 1652891657.0000 - _runtime: 8.0000\n",
            "Epoch 49/75\n",
            "8/8 [==============================] - 0s 8ms/step - d_loss: 0.6942 - g_loss: 0.6844 - _timestamp: 1652891657.0000 - _runtime: 8.0000\n",
            "Epoch 50/75\n",
            "8/8 [==============================] - 0s 8ms/step - d_loss: 0.6931 - g_loss: 0.6838 - _timestamp: 1652891657.0000 - _runtime: 8.0000\n",
            "Epoch 51/75\n",
            "8/8 [==============================] - 0s 8ms/step - d_loss: 0.6933 - g_loss: 0.6841 - _timestamp: 1652891657.0000 - _runtime: 8.0000\n",
            "Epoch 52/75\n",
            "8/8 [==============================] - 0s 8ms/step - d_loss: 0.6932 - g_loss: 0.6845 - _timestamp: 1652891657.0000 - _runtime: 8.0000\n",
            "Epoch 53/75\n",
            "8/8 [==============================] - 0s 8ms/step - d_loss: 0.6936 - g_loss: 0.6860 - _timestamp: 1652891657.0000 - _runtime: 8.0000\n",
            "Epoch 54/75\n",
            "8/8 [==============================] - 0s 9ms/step - d_loss: 0.6939 - g_loss: 0.6846 - _timestamp: 1652891658.0000 - _runtime: 9.0000\n",
            "Epoch 55/75\n",
            "8/8 [==============================] - 0s 8ms/step - d_loss: 0.6941 - g_loss: 0.6849 - _timestamp: 1652891658.0000 - _runtime: 9.0000\n",
            "Epoch 56/75\n",
            "8/8 [==============================] - 0s 9ms/step - d_loss: 0.6939 - g_loss: 0.6849 - _timestamp: 1652891658.0000 - _runtime: 9.0000\n",
            "Epoch 57/75\n",
            "8/8 [==============================] - 0s 9ms/step - d_loss: 0.6941 - g_loss: 0.6860 - _timestamp: 1652891658.0000 - _runtime: 9.0000\n",
            "Epoch 58/75\n",
            "8/8 [==============================] - 0s 8ms/step - d_loss: 0.6943 - g_loss: 0.6839 - _timestamp: 1652891658.0000 - _runtime: 9.0000\n",
            "Epoch 59/75\n",
            "8/8 [==============================] - 0s 9ms/step - d_loss: 0.6934 - g_loss: 0.6846 - _timestamp: 1652891658.0000 - _runtime: 9.0000\n",
            "Epoch 60/75\n",
            "8/8 [==============================] - 0s 8ms/step - d_loss: 0.6942 - g_loss: 0.6838 - _timestamp: 1652891658.0000 - _runtime: 9.0000\n",
            "Epoch 61/75\n",
            "8/8 [==============================] - 0s 8ms/step - d_loss: 0.6949 - g_loss: 0.6846 - _timestamp: 1652891658.0000 - _runtime: 9.0000\n",
            "Epoch 62/75\n",
            "8/8 [==============================] - 0s 8ms/step - d_loss: 0.6949 - g_loss: 0.6855 - _timestamp: 1652891658.0000 - _runtime: 9.0000\n",
            "Epoch 63/75\n",
            "8/8 [==============================] - 0s 8ms/step - d_loss: 0.6940 - g_loss: 0.6829 - _timestamp: 1652891658.0000 - _runtime: 9.0000\n",
            "Epoch 64/75\n",
            "8/8 [==============================] - 0s 8ms/step - d_loss: 0.6941 - g_loss: 0.6838 - _timestamp: 1652891658.0000 - _runtime: 9.0000\n",
            "Epoch 65/75\n",
            "8/8 [==============================] - 0s 8ms/step - d_loss: 0.6928 - g_loss: 0.6856 - _timestamp: 1652891658.0000 - _runtime: 9.0000\n",
            "Epoch 66/75\n",
            "8/8 [==============================] - 0s 11ms/step - d_loss: 0.6948 - g_loss: 0.6852 - _timestamp: 1652891658.0000 - _runtime: 9.0000\n",
            "Epoch 67/75\n",
            "8/8 [==============================] - 0s 9ms/step - d_loss: 0.6941 - g_loss: 0.6859 - _timestamp: 1652891659.0000 - _runtime: 10.0000\n",
            "Epoch 68/75\n",
            "8/8 [==============================] - 0s 8ms/step - d_loss: 0.6943 - g_loss: 0.6851 - _timestamp: 1652891659.0000 - _runtime: 10.0000\n",
            "Epoch 69/75\n",
            "8/8 [==============================] - 0s 8ms/step - d_loss: 0.6945 - g_loss: 0.6845 - _timestamp: 1652891659.0000 - _runtime: 10.0000\n",
            "Epoch 70/75\n",
            "8/8 [==============================] - 0s 9ms/step - d_loss: 0.6944 - g_loss: 0.6835 - _timestamp: 1652891659.0000 - _runtime: 10.0000\n",
            "Epoch 71/75\n",
            "8/8 [==============================] - 0s 9ms/step - d_loss: 0.6952 - g_loss: 0.6859 - _timestamp: 1652891659.0000 - _runtime: 10.0000\n",
            "Epoch 72/75\n",
            "8/8 [==============================] - 0s 9ms/step - d_loss: 0.6934 - g_loss: 0.6854 - _timestamp: 1652891659.0000 - _runtime: 10.0000\n",
            "Epoch 73/75\n",
            "8/8 [==============================] - 0s 8ms/step - d_loss: 0.6937 - g_loss: 0.6850 - _timestamp: 1652891659.0000 - _runtime: 10.0000\n",
            "Epoch 74/75\n",
            "8/8 [==============================] - 0s 8ms/step - d_loss: 0.6935 - g_loss: 0.6850 - _timestamp: 1652891659.0000 - _runtime: 10.0000\n",
            "Epoch 75/75\n",
            "8/8 [==============================] - 0s 8ms/step - d_loss: 0.6944 - g_loss: 0.6835 - _timestamp: 1652891659.0000 - _runtime: 10.0000\n"
          ]
        },
        {
          "output_type": "display_data",
          "data": {
            "text/plain": [
              "<IPython.core.display.HTML object>"
            ],
            "text/html": [
              "Waiting for W&B process to finish... <strong style=\"color:green\">(success).</strong>"
            ]
          },
          "metadata": {}
        },
        {
          "output_type": "display_data",
          "data": {
            "text/plain": [
              "VBox(children=(Label(value='0.001 MB of 0.001 MB uploaded (0.000 MB deduped)\\r'), FloatProgress(value=1.0, max…"
            ],
            "application/vnd.jupyter.widget-view+json": {
              "version_major": 2,
              "version_minor": 0,
              "model_id": "4c0ef889deae40cf8a80448e3a2cf506"
            }
          },
          "metadata": {}
        },
        {
          "output_type": "display_data",
          "data": {
            "text/plain": [
              "<IPython.core.display.HTML object>"
            ],
            "text/html": [
              "<style>\n",
              "    table.wandb td:nth-child(1) { padding: 0 10px; text-align: left ; width: auto;} td:nth-child(2) {text-align: left ; width: 100%}\n",
              "    .wandb-row { display: flex; flex-direction: row; flex-wrap: wrap; justify-content: flex-start; width: 100% }\n",
              "    .wandb-col { display: flex; flex-direction: column; flex-basis: 100%; flex: 1; padding: 10px; }\n",
              "    </style>\n",
              "<div class=\"wandb-row\"><div class=\"wandb-col\"><h3>Run history:</h3><br/><table class=\"wandb\"><tr><td>d_loss</td><td>▅▂▃▃▄▅▆▄▃▄▃▅▆▄▅▅▇▃▃▂▅▁▅▆▃▆▂▂▄▄▅▃▇▅▁▅▆█▄▆</td></tr><tr><td>epoch</td><td>▁▁▁▁▂▂▂▂▂▃▃▃▃▃▃▄▄▄▄▄▅▅▅▅▅▅▆▆▆▆▆▆▇▇▇▇▇███</td></tr><tr><td>g_loss</td><td>▄▆▅▆▄▃▅▅▆▄▄▅▄▆▁▇▄▇█▂▅▃▅▆▄▆▃▄▄▄▆▄▄▂▆▆▄▆▅▂</td></tr></table><br/></div><div class=\"wandb-col\"><h3>Run summary:</h3><br/><table class=\"wandb\"><tr><td>d_loss</td><td>0.69438</td></tr><tr><td>epoch</td><td>74</td></tr><tr><td>g_loss</td><td>0.6835</td></tr></table><br/></div></div>"
            ]
          },
          "metadata": {}
        },
        {
          "output_type": "display_data",
          "data": {
            "text/plain": [
              "<IPython.core.display.HTML object>"
            ],
            "text/html": [
              "Synced <strong style=\"color:#cdcd00\">stellar-brook-27</strong>: <a href=\"https://wandb.ai/sail-ugr/tfg-silvia-barroso/runs/2c7y9vyy\" target=\"_blank\">https://wandb.ai/sail-ugr/tfg-silvia-barroso/runs/2c7y9vyy</a><br/>Synced 5 W&B file(s), 1 media file(s), 0 artifact file(s) and 0 other file(s)"
            ]
          },
          "metadata": {}
        },
        {
          "output_type": "display_data",
          "data": {
            "text/plain": [
              "<IPython.core.display.HTML object>"
            ],
            "text/html": [
              "Find logs at: <code>./wandb/run-20220518_163409-2c7y9vyy/logs</code>"
            ]
          },
          "metadata": {}
        }
      ]
    },
    {
      "cell_type": "code",
      "source": [
        "#Evaluación\n",
        "gan.evaluate_D()\n",
        "gan.evaluate_G()"
      ],
      "metadata": {
        "id": "hWfSGZjk-c3V",
        "colab": {
          "base_uri": "https://localhost:8080/",
          "height": 390
        },
        "outputId": "d5239d88-9f04-4f32-c752-914d4304f9a2"
      },
      "execution_count": null,
      "outputs": [
        {
          "output_type": "stream",
          "name": "stdout",
          "text": [
            "8/8 [==============================] - 0s 3ms/step - loss: 0.7009 - accuracy: 0.3040\n",
            "8/8 [==============================] - 0s 3ms/step - loss: 0.6859 - accuracy: 0.7160\n",
            ">Accuracy real: 30%, fake: 72%\n",
            ">Loss real: \n",
            "0.7008522748947144\n",
            ">Loss fake: \n",
            "0.6859493255615234\n"
          ]
        },
        {
          "output_type": "display_data",
          "data": {
            "text/plain": [
              "<Figure size 432x288 with 9 Axes>"
            ],
            "image/png": "[encoded data removed]"
          },
          "metadata": {
            "needs_background": "light"
          }
        }
      ]
    },
    {
      "cell_type": "code",
      "source": [
        "#Veamos las imágenes generadas por el modelo generador que se ha definido para el EXPERIMENTO 1 y EXPERIMENTO 2\n",
        "generated_images_plot(x_train, x_test, generator)"
      ],
      "metadata": {
        "id": "4fWw5beY-sIF",
        "colab": {
          "base_uri": "https://localhost:8080/",
          "height": 762
        },
        "outputId": "c65d4065-1bcc-49fa-a36c-a0d0dab9544e"
      },
      "execution_count": null,
      "outputs": [
        {
          "output_type": "stream",
          "name": "stdout",
          "text": [
            "NOISED\n"
          ]
        },
        {
          "output_type": "display_data",
          "data": {
            "text/plain": [
              "<Figure size 432x288 with 9 Axes>"
            ],
            "image/png": "[encoded data removed]"
          },
          "metadata": {
            "needs_background": "light"
          }
        },
        {
          "output_type": "stream",
          "name": "stdout",
          "text": [
            "GENERATED\n"
          ]
        },
        {
          "output_type": "display_data",
          "data": {
            "text/plain": [
              "<Figure size 432x288 with 9 Axes>"
            ],
            "image/png": "[encoded data removed]"
          },
          "metadata": {
            "needs_background": "light"
          }
        },
        {
          "output_type": "stream",
          "name": "stdout",
          "text": [
            "ORIGINAL\n"
          ]
        },
        {
          "output_type": "display_data",
          "data": {
            "text/plain": [
              "<Figure size 432x288 with 9 Axes>"
            ],
            "image/png": "[encoded data removed]"
          },
          "metadata": {
            "needs_background": "light"
          }
        }
      ]
    },
    {
      "cell_type": "markdown",
      "source": [
        "# EXPERIMENTO 3\n",
        "Hemos cambiado la arquitectura del generador y del discriminador para que sea más sotisficada.  \n",
        "\n",
        "*   En el discriminador se ha incluido más capas de Dropout y se ha utilizado las mejoras citadas en el experimento 2( incrementar dropout y reducir el learning rate). \n",
        "*   En el generador se ha implementado una arquitectura más profunda con más capas de convolución y añadiendo capas de BatchNormalization. "
      ],
      "metadata": {
        "id": "OLxzLzbs-mHW"
      }
    },
    {
      "cell_type": "code",
      "source": [
        "discriminator3=keras.Sequential(\n",
        "    [\n",
        "        layers.Input(shape=(28,28,1)),\n",
        "        layers.Conv2D(64,kernel_size=3,strides=2,padding=\"same\",activation = 'linear'),\n",
        "        layers.LeakyReLU(alpha=0.2),\n",
        "        layers.Dropout(0.5),\n",
        "        layers.Conv2D(128, kernel_size=3, strides=2, padding=\"same\",activation = 'linear'),\n",
        "        layers.LeakyReLU(alpha=0.2),\n",
        "        layers.Dropout(0.5),\n",
        "        layers.Conv2D(256, kernel_size=3, padding=\"same\",activation = 'linear'),\n",
        "        layers.LeakyReLU(alpha=0.2),\n",
        "        layers.Dropout(0.5),\n",
        "        layers.Flatten(),\n",
        "        layers.Dense(1, activation=\"sigmoid\"),\n",
        "    ],\n",
        "    name=\"discriminator3\"\n",
        "\n",
        ")\n",
        "discriminator3.summary()"
      ],
      "metadata": {
        "id": "NcNCRhDhCdDA",
        "colab": {
          "base_uri": "https://localhost:8080/"
        },
        "outputId": "ae98a144-fcc3-4296-ca84-bf83dc9d1fd3"
      },
      "execution_count": null,
      "outputs": [
        {
          "output_type": "stream",
          "name": "stdout",
          "text": [
            "Model: \"discriminator3\"\n",
            "_________________________________________________________________\n",
            " Layer (type)                Output Shape              Param #   \n",
            "=================================================================\n",
            " conv2d_5 (Conv2D)           (None, 14, 14, 64)        640       \n",
            "                                                                 \n",
            " leaky_re_lu_6 (LeakyReLU)   (None, 14, 14, 64)        0         \n",
            "                                                                 \n",
            " dropout_2 (Dropout)         (None, 14, 14, 64)        0         \n",
            "                                                                 \n",
            " conv2d_6 (Conv2D)           (None, 7, 7, 128)         73856     \n",
            "                                                                 \n",
            " leaky_re_lu_7 (LeakyReLU)   (None, 7, 7, 128)         0         \n",
            "                                                                 \n",
            " dropout_3 (Dropout)         (None, 7, 7, 128)         0         \n",
            "                                                                 \n",
            " conv2d_7 (Conv2D)           (None, 7, 7, 256)         295168    \n",
            "                                                                 \n",
            " leaky_re_lu_8 (LeakyReLU)   (None, 7, 7, 256)         0         \n",
            "                                                                 \n",
            " dropout_4 (Dropout)         (None, 7, 7, 256)         0         \n",
            "                                                                 \n",
            " flatten_2 (Flatten)         (None, 12544)             0         \n",
            "                                                                 \n",
            " dense_3 (Dense)             (None, 1)                 12545     \n",
            "                                                                 \n",
            "=================================================================\n",
            "Total params: 382,209\n",
            "Trainable params: 382,209\n",
            "Non-trainable params: 0\n",
            "_________________________________________________________________\n"
          ]
        }
      ]
    },
    {
      "cell_type": "code",
      "source": [
        "generator3=keras.Sequential(\n",
        "    [\n",
        "        keras.Input(shape=(latent_dim,)),\n",
        "        layers.Dense(28*28*128),\n",
        "        layers.Reshape((28,28,128)),\n",
        "        layers.Conv2D(32, kernel_size=3, padding=\"same\",input_shape=(28,28,128)),\n",
        "        layers.BatchNormalization(),\n",
        "        layers.LeakyReLU(alpha=0.2),\n",
        "        layers.AveragePooling2D(pool_size=(2, 2)),\n",
        "        layers.Conv2D(64, kernel_size=3, padding=\"same\"),\n",
        "        layers.BatchNormalization(),\n",
        "        layers.LeakyReLU(alpha=0.2),\n",
        "        layers.AveragePooling2D(pool_size=(2, 2)),\n",
        "        layers.Conv2D(128, kernel_size=3, padding=\"same\"),\n",
        "        layers.BatchNormalization(),\n",
        "        layers.LeakyReLU(alpha=0.2),\n",
        "        layers.Conv2D(128, kernel_size=3, padding=\"same\"),\n",
        "        layers.LeakyReLU(alpha=0.2),\n",
        "        layers.UpSampling2D((2,2)),\n",
        "        layers.Conv2D(64, kernel_size=3, padding=\"same\"),\n",
        "        layers.LeakyReLU(alpha=0.2),\n",
        "        layers.UpSampling2D((2,2)),\n",
        "        layers.Conv2D(1, kernel_size=3, padding=\"same\", activation=\"sigmoid\"),\n",
        "    ],\n",
        "    name=\"generator3\",\n",
        ")\n",
        "generator3.summary()"
      ],
      "metadata": {
        "id": "5B8CScVYCX_a",
        "colab": {
          "base_uri": "https://localhost:8080/"
        },
        "outputId": "aed54a2a-d3d4-4eed-f32e-34d480ef2e1c"
      },
      "execution_count": null,
      "outputs": [
        {
          "output_type": "stream",
          "name": "stdout",
          "text": [
            "Model: \"generator3\"\n",
            "_________________________________________________________________\n",
            " Layer (type)                Output Shape              Param #   \n",
            "=================================================================\n",
            " dense_4 (Dense)             (None, 100352)            12945408  \n",
            "                                                                 \n",
            " reshape_1 (Reshape)         (None, 28, 28, 128)       0         \n",
            "                                                                 \n",
            " conv2d_8 (Conv2D)           (None, 28, 28, 32)        36896     \n",
            "                                                                 \n",
            " batch_normalization (BatchN  (None, 28, 28, 32)       128       \n",
            " ormalization)                                                   \n",
            "                                                                 \n",
            " leaky_re_lu_9 (LeakyReLU)   (None, 28, 28, 32)        0         \n",
            "                                                                 \n",
            " average_pooling2d (AverageP  (None, 14, 14, 32)       0         \n",
            " ooling2D)                                                       \n",
            "                                                                 \n",
            " conv2d_9 (Conv2D)           (None, 14, 14, 64)        18496     \n",
            "                                                                 \n",
            " batch_normalization_1 (Batc  (None, 14, 14, 64)       256       \n",
            " hNormalization)                                                 \n",
            "                                                                 \n",
            " leaky_re_lu_10 (LeakyReLU)  (None, 14, 14, 64)        0         \n",
            "                                                                 \n",
            " average_pooling2d_1 (Averag  (None, 7, 7, 64)         0         \n",
            " ePooling2D)                                                     \n",
            "                                                                 \n",
            " conv2d_10 (Conv2D)          (None, 7, 7, 128)         73856     \n",
            "                                                                 \n",
            " batch_normalization_2 (Batc  (None, 7, 7, 128)        512       \n",
            " hNormalization)                                                 \n",
            "                                                                 \n",
            " leaky_re_lu_11 (LeakyReLU)  (None, 7, 7, 128)         0         \n",
            "                                                                 \n",
            " conv2d_11 (Conv2D)          (None, 7, 7, 128)         147584    \n",
            "                                                                 \n",
            " leaky_re_lu_12 (LeakyReLU)  (None, 7, 7, 128)         0         \n",
            "                                                                 \n",
            " up_sampling2d (UpSampling2D  (None, 14, 14, 128)      0         \n",
            " )                                                               \n",
            "                                                                 \n",
            " conv2d_12 (Conv2D)          (None, 14, 14, 64)        73792     \n",
            "                                                                 \n",
            " leaky_re_lu_13 (LeakyReLU)  (None, 14, 14, 64)        0         \n",
            "                                                                 \n",
            " up_sampling2d_1 (UpSampling  (None, 28, 28, 64)       0         \n",
            " 2D)                                                             \n",
            "                                                                 \n",
            " conv2d_13 (Conv2D)          (None, 28, 28, 1)         577       \n",
            "                                                                 \n",
            "=================================================================\n",
            "Total params: 13,297,505\n",
            "Trainable params: 13,297,057\n",
            "Non-trainable params: 448\n",
            "_________________________________________________________________\n"
          ]
        }
      ]
    },
    {
      "cell_type": "code",
      "source": [
        "wandb.init(project=\"tfg-silvia-barroso\", entity=\"sail-ugr\", \n",
        "           config= {\n",
        "               \"learning_rate\": 1e-09,\n",
        "               \"epochs\": epochs,\n",
        "               \"num_imagenes\": num_imagenes,\n",
        "               \"opt\": \"Adam\",\n",
        "               \"latent_dim\": latent_dim\n",
        "               })\n",
        "\n",
        "#Definición del modelo GAN\n",
        "gan = GAN(discriminator=discriminator3, generator=generator3,\n",
        "        latent_dim=latent_dim)\n",
        "\n",
        "#Compilación\n",
        "gan.compile(\n",
        "    d_optimizer=opt_d,\n",
        "    g_optimizer=opt,\n",
        "    loss_fn=keras.losses.BinaryCrossentropy(),\n",
        ")\n",
        "\n",
        "#Entrenamiento \n",
        "history=gan.fit(\n",
        "  x_train , epochs=epochs, callbacks=[WandbCallback()]\n",
        ")\n",
        "\n",
        "wandb.finish()"
      ],
      "metadata": {
        "id": "CMDL0a8aCl6o",
        "colab": {
          "base_uri": "https://localhost:8080/",
          "height": 1000,
          "referenced_widgets": [
            "dce831431a384521b3170d5025f7dbd4",
            "024765eb210a441c84fc6ee8e740b450",
            "944f30978ad5432ebdc08f00fd8788a4",
            "c49771e9829b4f1ea24c4adc6b364ca6",
            "a938f631d83141a098b14c7ed1bed2c0",
            "bd6fa4664c9049a6a26340891e89e4b2",
            "4f754df355a04f74b44126b0c266acd9",
            "c897014fc3734ce2a0018c5a51aec36f"
          ]
        },
        "outputId": "70a4db4d-4ba2-43d9-878d-c0fad6d38c8e"
      },
      "execution_count": null,
      "outputs": [
        {
          "output_type": "display_data",
          "data": {
            "text/plain": [
              "<IPython.core.display.HTML object>"
            ],
            "text/html": [
              "Tracking run with wandb version 0.12.16"
            ]
          },
          "metadata": {}
        },
        {
          "output_type": "display_data",
          "data": {
            "text/plain": [
              "<IPython.core.display.HTML object>"
            ],
            "text/html": [
              "Run data is saved locally in <code>/content/wandb/run-20220518_163506-1a2sxd2h</code>"
            ]
          },
          "metadata": {}
        },
        {
          "output_type": "display_data",
          "data": {
            "text/plain": [
              "<IPython.core.display.HTML object>"
            ],
            "text/html": [
              "Syncing run <strong><a href=\"https://wandb.ai/sail-ugr/tfg-silvia-barroso/runs/1a2sxd2h\" target=\"_blank\">clear-frost-28</a></strong> to <a href=\"https://wandb.ai/sail-ugr/tfg-silvia-barroso\" target=\"_blank\">Weights & Biases</a> (<a href=\"https://wandb.me/run\" target=\"_blank\">docs</a>)<br/>"
            ]
          },
          "metadata": {}
        },
        {
          "output_type": "stream",
          "name": "stdout",
          "text": [
            "Epoch 1/75\n",
            "8/8 [==============================] - 2s 27ms/step - d_loss: 0.7009 - g_loss: 0.6725 - _timestamp: 1652891714.0000 - _runtime: 8.0000\n",
            "Epoch 2/75\n",
            "8/8 [==============================] - 0s 13ms/step - d_loss: 0.7037 - g_loss: 0.6673 - _timestamp: 1652891714.0000 - _runtime: 8.0000\n",
            "Epoch 3/75\n",
            "8/8 [==============================] - 0s 12ms/step - d_loss: 0.7008 - g_loss: 0.6711 - _timestamp: 1652891714.0000 - _runtime: 8.0000\n",
            "Epoch 4/75\n",
            "8/8 [==============================] - 0s 12ms/step - d_loss: 0.7041 - g_loss: 0.6668 - _timestamp: 1652891714.0000 - _runtime: 8.0000\n",
            "Epoch 5/75\n",
            "8/8 [==============================] - 0s 12ms/step - d_loss: 0.7034 - g_loss: 0.6688 - _timestamp: 1652891714.0000 - _runtime: 8.0000\n",
            "Epoch 6/75\n",
            "8/8 [==============================] - 0s 12ms/step - d_loss: 0.6977 - g_loss: 0.6796 - _timestamp: 1652891714.0000 - _runtime: 8.0000\n",
            "Epoch 7/75\n",
            "8/8 [==============================] - 0s 13ms/step - d_loss: 0.6957 - g_loss: 0.6821 - _timestamp: 1652891714.0000 - _runtime: 8.0000\n",
            "Epoch 8/75\n",
            "8/8 [==============================] - 0s 12ms/step - d_loss: 0.6950 - g_loss: 0.6820 - _timestamp: 1652891714.0000 - _runtime: 8.0000\n",
            "Epoch 9/75\n",
            "8/8 [==============================] - 0s 13ms/step - d_loss: 0.6943 - g_loss: 0.6849 - _timestamp: 1652891715.0000 - _runtime: 9.0000\n",
            "Epoch 10/75\n",
            "8/8 [==============================] - 0s 12ms/step - d_loss: 0.6951 - g_loss: 0.6833 - _timestamp: 1652891715.0000 - _runtime: 9.0000\n",
            "Epoch 11/75\n",
            "8/8 [==============================] - 0s 12ms/step - d_loss: 0.6955 - g_loss: 0.6834 - _timestamp: 1652891715.0000 - _runtime: 9.0000\n",
            "Epoch 12/75\n",
            "8/8 [==============================] - 0s 13ms/step - d_loss: 0.6945 - g_loss: 0.6834 - _timestamp: 1652891715.0000 - _runtime: 9.0000\n",
            "Epoch 13/75\n",
            "8/8 [==============================] - 0s 12ms/step - d_loss: 0.6936 - g_loss: 0.6861 - _timestamp: 1652891715.0000 - _runtime: 9.0000\n",
            "Epoch 14/75\n",
            "8/8 [==============================] - 0s 12ms/step - d_loss: 0.6929 - g_loss: 0.6884 - _timestamp: 1652891715.0000 - _runtime: 9.0000\n",
            "Epoch 15/75\n",
            "8/8 [==============================] - 0s 12ms/step - d_loss: 0.6924 - g_loss: 0.6882 - _timestamp: 1652891715.0000 - _runtime: 9.0000\n",
            "Epoch 16/75\n",
            "8/8 [==============================] - 0s 12ms/step - d_loss: 0.6934 - g_loss: 0.6887 - _timestamp: 1652891715.0000 - _runtime: 9.0000\n",
            "Epoch 17/75\n",
            "8/8 [==============================] - 0s 13ms/step - d_loss: 0.6924 - g_loss: 0.6877 - _timestamp: 1652891715.0000 - _runtime: 9.0000\n",
            "Epoch 18/75\n",
            "8/8 [==============================] - 0s 12ms/step - d_loss: 0.6933 - g_loss: 0.6882 - _timestamp: 1652891715.0000 - _runtime: 9.0000\n",
            "Epoch 19/75\n",
            "8/8 [==============================] - 0s 12ms/step - d_loss: 0.6925 - g_loss: 0.6875 - _timestamp: 1652891716.0000 - _runtime: 10.0000\n",
            "Epoch 20/75\n",
            "8/8 [==============================] - 0s 12ms/step - d_loss: 0.6926 - g_loss: 0.6886 - _timestamp: 1652891716.0000 - _runtime: 10.0000\n",
            "Epoch 21/75\n",
            "8/8 [==============================] - 0s 13ms/step - d_loss: 0.6924 - g_loss: 0.6871 - _timestamp: 1652891716.0000 - _runtime: 10.0000\n",
            "Epoch 22/75\n",
            "8/8 [==============================] - 0s 12ms/step - d_loss: 0.6919 - g_loss: 0.6894 - _timestamp: 1652891716.0000 - _runtime: 10.0000\n",
            "Epoch 23/75\n",
            "8/8 [==============================] - 0s 12ms/step - d_loss: 0.6911 - g_loss: 0.6912 - _timestamp: 1652891716.0000 - _runtime: 10.0000\n",
            "Epoch 24/75\n",
            "8/8 [==============================] - 0s 12ms/step - d_loss: 0.6907 - g_loss: 0.6917 - _timestamp: 1652891716.0000 - _runtime: 10.0000\n",
            "Epoch 25/75\n",
            "8/8 [==============================] - 0s 12ms/step - d_loss: 0.6905 - g_loss: 0.6923 - _timestamp: 1652891716.0000 - _runtime: 10.0000\n",
            "Epoch 26/75\n",
            "8/8 [==============================] - 0s 13ms/step - d_loss: 0.6903 - g_loss: 0.6921 - _timestamp: 1652891716.0000 - _runtime: 10.0000\n",
            "Epoch 27/75\n",
            "8/8 [==============================] - 0s 12ms/step - d_loss: 0.6906 - g_loss: 0.6914 - _timestamp: 1652891716.0000 - _runtime: 10.0000\n",
            "Epoch 28/75\n",
            "8/8 [==============================] - 0s 13ms/step - d_loss: 0.6902 - g_loss: 0.6916 - _timestamp: 1652891717.0000 - _runtime: 11.0000\n",
            "Epoch 29/75\n",
            "8/8 [==============================] - 0s 12ms/step - d_loss: 0.6907 - g_loss: 0.6916 - _timestamp: 1652891717.0000 - _runtime: 11.0000\n",
            "Epoch 30/75\n",
            "8/8 [==============================] - 0s 12ms/step - d_loss: 0.6907 - g_loss: 0.6910 - _timestamp: 1652891717.0000 - _runtime: 11.0000\n",
            "Epoch 31/75\n",
            "8/8 [==============================] - 0s 13ms/step - d_loss: 0.6910 - g_loss: 0.6902 - _timestamp: 1652891717.0000 - _runtime: 11.0000\n",
            "Epoch 32/75\n",
            "8/8 [==============================] - 0s 12ms/step - d_loss: 0.6914 - g_loss: 0.6896 - _timestamp: 1652891717.0000 - _runtime: 11.0000\n",
            "Epoch 33/75\n",
            "8/8 [==============================] - 0s 12ms/step - d_loss: 0.6916 - g_loss: 0.6902 - _timestamp: 1652891717.0000 - _runtime: 11.0000\n",
            "Epoch 34/75\n",
            "8/8 [==============================] - 0s 12ms/step - d_loss: 0.6921 - g_loss: 0.6889 - _timestamp: 1652891717.0000 - _runtime: 11.0000\n",
            "Epoch 35/75\n",
            "8/8 [==============================] - 0s 12ms/step - d_loss: 0.6916 - g_loss: 0.6906 - _timestamp: 1652891717.0000 - _runtime: 11.0000\n",
            "Epoch 36/75\n",
            "8/8 [==============================] - 0s 12ms/step - d_loss: 0.6917 - g_loss: 0.6884 - _timestamp: 1652891717.0000 - _runtime: 11.0000\n",
            "Epoch 37/75\n",
            "8/8 [==============================] - 0s 12ms/step - d_loss: 0.6929 - g_loss: 0.6885 - _timestamp: 1652891718.0000 - _runtime: 12.0000\n",
            "Epoch 38/75\n",
            "8/8 [==============================] - 0s 12ms/step - d_loss: 0.6921 - g_loss: 0.6899 - _timestamp: 1652891718.0000 - _runtime: 12.0000\n",
            "Epoch 39/75\n",
            "8/8 [==============================] - 0s 12ms/step - d_loss: 0.6913 - g_loss: 0.6914 - _timestamp: 1652891718.0000 - _runtime: 12.0000\n",
            "Epoch 40/75\n",
            "8/8 [==============================] - 0s 14ms/step - d_loss: 0.6905 - g_loss: 0.6909 - _timestamp: 1652891718.0000 - _runtime: 12.0000\n",
            "Epoch 41/75\n",
            "8/8 [==============================] - 0s 13ms/step - d_loss: 0.6907 - g_loss: 0.6921 - _timestamp: 1652891718.0000 - _runtime: 12.0000\n",
            "Epoch 42/75\n",
            "8/8 [==============================] - 0s 12ms/step - d_loss: 0.6906 - g_loss: 0.6913 - _timestamp: 1652891718.0000 - _runtime: 12.0000\n",
            "Epoch 43/75\n",
            "8/8 [==============================] - 0s 12ms/step - d_loss: 0.6900 - g_loss: 0.6930 - _timestamp: 1652891718.0000 - _runtime: 12.0000\n",
            "Epoch 44/75\n",
            "8/8 [==============================] - 0s 12ms/step - d_loss: 0.6901 - g_loss: 0.6920 - _timestamp: 1652891718.0000 - _runtime: 12.0000\n",
            "Epoch 45/75\n",
            "8/8 [==============================] - 0s 12ms/step - d_loss: 0.6905 - g_loss: 0.6922 - _timestamp: 1652891718.0000 - _runtime: 12.0000\n",
            "Epoch 46/75\n",
            "8/8 [==============================] - 0s 12ms/step - d_loss: 0.6901 - g_loss: 0.6920 - _timestamp: 1652891718.0000 - _runtime: 12.0000\n",
            "Epoch 47/75\n",
            "8/8 [==============================] - 0s 13ms/step - d_loss: 0.6897 - g_loss: 0.6932 - _timestamp: 1652891719.0000 - _runtime: 13.0000\n",
            "Epoch 48/75\n",
            "8/8 [==============================] - 0s 12ms/step - d_loss: 0.6897 - g_loss: 0.6931 - _timestamp: 1652891719.0000 - _runtime: 13.0000\n",
            "Epoch 49/75\n",
            "8/8 [==============================] - 0s 14ms/step - d_loss: 0.6897 - g_loss: 0.6931 - _timestamp: 1652891719.0000 - _runtime: 13.0000\n",
            "Epoch 50/75\n",
            "8/8 [==============================] - 0s 13ms/step - d_loss: 0.6897 - g_loss: 0.6931 - _timestamp: 1652891719.0000 - _runtime: 13.0000\n",
            "Epoch 51/75\n",
            "8/8 [==============================] - 0s 12ms/step - d_loss: 0.6897 - g_loss: 0.6931 - _timestamp: 1652891719.0000 - _runtime: 13.0000\n",
            "Epoch 52/75\n",
            "8/8 [==============================] - 0s 12ms/step - d_loss: 0.6897 - g_loss: 0.6931 - _timestamp: 1652891719.0000 - _runtime: 13.0000\n",
            "Epoch 53/75\n",
            "8/8 [==============================] - 0s 12ms/step - d_loss: 0.6897 - g_loss: 0.6931 - _timestamp: 1652891719.0000 - _runtime: 13.0000\n",
            "Epoch 54/75\n",
            "8/8 [==============================] - 0s 12ms/step - d_loss: 0.6897 - g_loss: 0.6931 - _timestamp: 1652891719.0000 - _runtime: 13.0000\n",
            "Epoch 55/75\n",
            "8/8 [==============================] - 0s 12ms/step - d_loss: 0.6897 - g_loss: 0.6931 - _timestamp: 1652891719.0000 - _runtime: 13.0000\n",
            "Epoch 56/75\n",
            "8/8 [==============================] - 0s 13ms/step - d_loss: 0.6897 - g_loss: 0.6931 - _timestamp: 1652891720.0000 - _runtime: 14.0000\n",
            "Epoch 57/75\n",
            "8/8 [==============================] - 0s 13ms/step - d_loss: 0.6897 - g_loss: 0.6932 - _timestamp: 1652891720.0000 - _runtime: 14.0000\n",
            "Epoch 58/75\n",
            "8/8 [==============================] - 0s 12ms/step - d_loss: 0.6897 - g_loss: 0.6932 - _timestamp: 1652891720.0000 - _runtime: 14.0000\n",
            "Epoch 59/75\n",
            "8/8 [==============================] - 0s 13ms/step - d_loss: 0.6897 - g_loss: 0.6932 - _timestamp: 1652891720.0000 - _runtime: 14.0000\n",
            "Epoch 60/75\n",
            "8/8 [==============================] - 0s 12ms/step - d_loss: 0.6897 - g_loss: 0.6932 - _timestamp: 1652891720.0000 - _runtime: 14.0000\n",
            "Epoch 61/75\n",
            "8/8 [==============================] - 0s 13ms/step - d_loss: 0.6897 - g_loss: 0.6932 - _timestamp: 1652891720.0000 - _runtime: 14.0000\n",
            "Epoch 62/75\n",
            "8/8 [==============================] - 0s 12ms/step - d_loss: 0.6897 - g_loss: 0.6932 - _timestamp: 1652891720.0000 - _runtime: 14.0000\n",
            "Epoch 63/75\n",
            "8/8 [==============================] - 0s 12ms/step - d_loss: 0.6897 - g_loss: 0.6932 - _timestamp: 1652891720.0000 - _runtime: 14.0000\n",
            "Epoch 64/75\n",
            "8/8 [==============================] - 0s 13ms/step - d_loss: 0.6897 - g_loss: 0.6932 - _timestamp: 1652891720.0000 - _runtime: 14.0000\n",
            "Epoch 65/75\n",
            "8/8 [==============================] - 0s 12ms/step - d_loss: 0.6897 - g_loss: 0.6932 - _timestamp: 1652891721.0000 - _runtime: 15.0000\n",
            "Epoch 66/75\n",
            "8/8 [==============================] - 0s 12ms/step - d_loss: 0.6897 - g_loss: 0.6932 - _timestamp: 1652891721.0000 - _runtime: 15.0000\n",
            "Epoch 67/75\n",
            "8/8 [==============================] - 0s 12ms/step - d_loss: 0.6897 - g_loss: 0.6932 - _timestamp: 1652891721.0000 - _runtime: 15.0000\n",
            "Epoch 68/75\n",
            "8/8 [==============================] - 0s 12ms/step - d_loss: 0.6897 - g_loss: 0.6932 - _timestamp: 1652891721.0000 - _runtime: 15.0000\n",
            "Epoch 69/75\n",
            "8/8 [==============================] - 0s 12ms/step - d_loss: 0.6897 - g_loss: 0.6932 - _timestamp: 1652891721.0000 - _runtime: 15.0000\n",
            "Epoch 70/75\n",
            "8/8 [==============================] - 0s 12ms/step - d_loss: 0.6897 - g_loss: 0.6932 - _timestamp: 1652891721.0000 - _runtime: 15.0000\n",
            "Epoch 71/75\n",
            "8/8 [==============================] - 0s 12ms/step - d_loss: 0.6897 - g_loss: 0.6932 - _timestamp: 1652891721.0000 - _runtime: 15.0000\n",
            "Epoch 72/75\n",
            "8/8 [==============================] - 0s 13ms/step - d_loss: 0.6897 - g_loss: 0.6932 - _timestamp: 1652891721.0000 - _runtime: 15.0000\n",
            "Epoch 73/75\n",
            "8/8 [==============================] - 0s 12ms/step - d_loss: 0.6897 - g_loss: 0.6932 - _timestamp: 1652891721.0000 - _runtime: 15.0000\n",
            "Epoch 74/75\n",
            "8/8 [==============================] - 0s 12ms/step - d_loss: 0.6897 - g_loss: 0.6932 - _timestamp: 1652891722.0000 - _runtime: 16.0000\n",
            "Epoch 75/75\n",
            "8/8 [==============================] - 0s 13ms/step - d_loss: 0.6897 - g_loss: 0.6932 - _timestamp: 1652891722.0000 - _runtime: 16.0000\n"
          ]
        },
        {
          "output_type": "display_data",
          "data": {
            "text/plain": [
              "<IPython.core.display.HTML object>"
            ],
            "text/html": [
              "Waiting for W&B process to finish... <strong style=\"color:green\">(success).</strong>"
            ]
          },
          "metadata": {}
        },
        {
          "output_type": "display_data",
          "data": {
            "text/plain": [
              "VBox(children=(Label(value='0.001 MB of 0.001 MB uploaded (0.000 MB deduped)\\r'), FloatProgress(value=1.0, max…"
            ],
            "application/vnd.jupyter.widget-view+json": {
              "version_major": 2,
              "version_minor": 0,
              "model_id": "dce831431a384521b3170d5025f7dbd4"
            }
          },
          "metadata": {}
        },
        {
          "output_type": "display_data",
          "data": {
            "text/plain": [
              "<IPython.core.display.HTML object>"
            ],
            "text/html": [
              "<style>\n",
              "    table.wandb td:nth-child(1) { padding: 0 10px; text-align: left ; width: auto;} td:nth-child(2) {text-align: left ; width: 100%}\n",
              "    .wandb-row { display: flex; flex-direction: row; flex-wrap: wrap; justify-content: flex-start; width: 100% }\n",
              "    .wandb-col { display: flex; flex-direction: column; flex-basis: 100%; flex: 1; padding: 10px; }\n",
              "    </style>\n",
              "<div class=\"wandb-row\"><div class=\"wandb-col\"><h3>Run history:</h3><br/><table class=\"wandb\"><tr><td>d_loss</td><td>▆██▅▄▄▃▃▃▃▂▂▂▁▁▁▂▂▂▃▂▁▁▁▁▁▁▁▁▁▁▁▁▁▁▁▁▁▁▁</td></tr><tr><td>epoch</td><td>▁▁▁▁▂▂▂▂▂▃▃▃▃▃▃▄▄▄▄▄▅▅▅▅▅▅▆▆▆▆▆▆▇▇▇▇▇███</td></tr><tr><td>g_loss</td><td>▃▁▁▄▅▅▅▇▇▇▇▆▇███▇▇▇▇▇▇██████████████████</td></tr></table><br/></div><div class=\"wandb-col\"><h3>Run summary:</h3><br/><table class=\"wandb\"><tr><td>d_loss</td><td>0.68973</td></tr><tr><td>epoch</td><td>74</td></tr><tr><td>g_loss</td><td>0.69315</td></tr></table><br/></div></div>"
            ]
          },
          "metadata": {}
        },
        {
          "output_type": "display_data",
          "data": {
            "text/plain": [
              "<IPython.core.display.HTML object>"
            ],
            "text/html": [
              "Synced <strong style=\"color:#cdcd00\">clear-frost-28</strong>: <a href=\"https://wandb.ai/sail-ugr/tfg-silvia-barroso/runs/1a2sxd2h\" target=\"_blank\">https://wandb.ai/sail-ugr/tfg-silvia-barroso/runs/1a2sxd2h</a><br/>Synced 5 W&B file(s), 1 media file(s), 0 artifact file(s) and 0 other file(s)"
            ]
          },
          "metadata": {}
        },
        {
          "output_type": "display_data",
          "data": {
            "text/plain": [
              "<IPython.core.display.HTML object>"
            ],
            "text/html": [
              "Find logs at: <code>./wandb/run-20220518_163506-1a2sxd2h/logs</code>"
            ]
          },
          "metadata": {}
        }
      ]
    },
    {
      "cell_type": "code",
      "source": [
        "#Evaluación\n",
        "gan.evaluate_D()\n",
        "gan.evaluate_G()"
      ],
      "metadata": {
        "id": "VPJYUcDA897t",
        "colab": {
          "base_uri": "https://localhost:8080/",
          "height": 390
        },
        "outputId": "d566b683-a6c2-40c3-c2c8-ed156947aae8"
      },
      "execution_count": null,
      "outputs": [
        {
          "output_type": "stream",
          "name": "stdout",
          "text": [
            "8/8 [==============================] - 0s 6ms/step - loss: 0.7002 - accuracy: 0.1200\n",
            "8/8 [==============================] - 0s 4ms/step - loss: 0.6932 - accuracy: 0.0000e+00\n",
            ">Accuracy real: 12%, fake: 0%\n",
            ">Loss real: \n",
            "0.7001887559890747\n",
            ">Loss fake: \n",
            "0.6931505799293518\n"
          ]
        },
        {
          "output_type": "display_data",
          "data": {
            "text/plain": [
              "<Figure size 432x288 with 9 Axes>"
            ],
            "image/png": "[encoded data removed]"
          },
          "metadata": {
            "needs_background": "light"
          }
        }
      ]
    },
    {
      "cell_type": "markdown",
      "source": [
        "# EXPERIMENTO 4\n",
        "Vamos a definir nuestro modelo discriminador con una arquitectura que ya vienen preconfiguradas en Keras, llamada MobileNet. \n",
        "\n",
        "Esta arquitectura tiene como limitación que acepta imagenes de tamaño minimo 32x32,esto es, el parámetro input_shape de MobileNet no debe ser inferior a 32. Por tanto,tenemos que volver a leer nuestros datos y redimensionarlos de 28x28 a 32x32. \n",
        "\n",
        "El generador es un vesión adaptada del generador definido en Experimento 3, de forma que produce imágenes de tamaño 32x32x1"
      ],
      "metadata": {
        "id": "JLRj4EIoDo2p"
      }
    },
    {
      "cell_type": "code",
      "source": [
        "################################################################################################################\n",
        "## FUNCIÓN PARA CARGAR EL CONJUNTO DE DATOS Y  REDIMENSIONAR LAS IMAGENES A 32x32x1\n",
        "###############################################################################################################\n",
        "\n",
        "# La base de datos MNIST contiene 60000 ejemplos en el conjunto de entrenamiento y 10000 en el conjunto de prueba\n",
        "# Las imagenes tienen un tamaño 28x28 que redimensionaremos a 32x32x1\n",
        "def load_data_resize(): \n",
        "    (x_train, y_train), (x_test, y_test) = mnist.load_data()\n",
        "   \n",
        "    #Primero paso: Redimensiono las imagenes de 28x28 a 32x32\n",
        "    ret=[]\n",
        "    ret_test=[]\n",
        "    for img in x_train:\n",
        "      ret.append(resize(img,(32,32)))\n",
        "    for img in x_test:\n",
        "      ret_test.append(resize(img,(32,32)))\n",
        "\n",
        "    x_train=np.asarray(ret)\n",
        "    x_test=np.asarray(ret_test)\n",
        "\n",
        "    #Segundo paso: Redimensiono las imagenes de 32x32 a 32x32x1\n",
        "    x_train= x_train.reshape((60000, 32, 32, 1))\n",
        "    x_test= x_test.reshape((10000, 32, 32, 1))\n",
        "   \n",
        "    x_train = x_train.astype('float32')\n",
        "    x_test = x_test.astype('float32')\n",
        "   \n",
        "    #Añadir algo de ruido en el conjunto de prueba\n",
        "    x_test = np.random.normal(x_test)  \n",
        "   \n",
        "    #Normalizamos a escala [0,1]\n",
        "    x_train,x_test= x_train / 255,x_test / 255\n",
        "\n",
        "    return (x_train, y_train), (x_test, y_test)\n",
        "\n",
        "#Cargamos toda la base de datos MNIST redimensionada \n",
        "(x_train, y_train), (x_test, y_test) = load_data_resize()\n"
      ],
      "metadata": {
        "id": "XVwFNhQQFvjk"
      },
      "execution_count": null,
      "outputs": []
    },
    {
      "cell_type": "code",
      "source": [
        "# Barajamos el conjunto de datos para no tener clases contiguas y nos quedamos con num_imagenes \n",
        "\n",
        "# Declaramos una semilla\n",
        "seed(123456)\n",
        "\n",
        "# Guardamos índices\n",
        "ind_train = list(range(len(x_train)))\n",
        "ind_test = list(range(len(x_test)))\n",
        "\n",
        "# Desordenamos los indices para quedarnos con num_imagenes imagenes aleatorias\n",
        "shuffle(ind_train)\n",
        "shuffle(ind_test)\n",
        "\n",
        "# En base a los indices nos quedamos con num_imagenes imágenes\n",
        "x_train            = x_train[ind_train[0:num_imagenes]]\n",
        "y_train            = y_train[ind_train[0:num_imagenes]]\n",
        "\n",
        "x_test             = x_test[ind_test[0:num_imagenes]]\n",
        "y_test             = y_test[ind_test[0:num_imagenes]]"
      ],
      "metadata": {
        "id": "mlfM0sFCHi0b"
      },
      "execution_count": null,
      "outputs": []
    },
    {
      "cell_type": "code",
      "source": [
        "discriminator4=tf.keras.applications.MobileNet(\n",
        "    input_shape=(32,32,1), \n",
        "    alpha=1.0, \n",
        "    depth_multiplier=1,\n",
        "    dropout=0.5, \n",
        "    include_top=False, \n",
        "    weights=None,  #Inicialización aleatoria de los pesos\n",
        "    input_tensor=None, \n",
        "    pooling=None,\n",
        "    classes=2,\n",
        "    classifier_activation=\"sigmoid\"\n",
        ")\n",
        "discriminator4.summary()"
      ],
      "metadata": {
        "id": "GjEeA9EJHnqL",
        "colab": {
          "base_uri": "https://localhost:8080/"
        },
        "outputId": "da7a1c3c-57cf-40cf-c91d-88a24ab256f5"
      },
      "execution_count": null,
      "outputs": [
        {
          "output_type": "stream",
          "name": "stdout",
          "text": [
            "Model: \"mobilenet_1.00_32\"\n",
            "_________________________________________________________________\n",
            " Layer (type)                Output Shape              Param #   \n",
            "=================================================================\n",
            " input_6 (InputLayer)        [(None, 32, 32, 1)]       0         \n",
            "                                                                 \n",
            " conv1 (Conv2D)              (None, 16, 16, 32)        288       \n",
            "                                                                 \n",
            " conv1_bn (BatchNormalizatio  (None, 16, 16, 32)       128       \n",
            " n)                                                              \n",
            "                                                                 \n",
            " conv1_relu (ReLU)           (None, 16, 16, 32)        0         \n",
            "                                                                 \n",
            " conv_dw_1 (DepthwiseConv2D)  (None, 16, 16, 32)       288       \n",
            "                                                                 \n",
            " conv_dw_1_bn (BatchNormaliz  (None, 16, 16, 32)       128       \n",
            " ation)                                                          \n",
            "                                                                 \n",
            " conv_dw_1_relu (ReLU)       (None, 16, 16, 32)        0         \n",
            "                                                                 \n",
            " conv_pw_1 (Conv2D)          (None, 16, 16, 64)        2048      \n",
            "                                                                 \n",
            " conv_pw_1_bn (BatchNormaliz  (None, 16, 16, 64)       256       \n",
            " ation)                                                          \n",
            "                                                                 \n",
            " conv_pw_1_relu (ReLU)       (None, 16, 16, 64)        0         \n",
            "                                                                 \n",
            " conv_pad_2 (ZeroPadding2D)  (None, 17, 17, 64)        0         \n",
            "                                                                 \n",
            " conv_dw_2 (DepthwiseConv2D)  (None, 8, 8, 64)         576       \n",
            "                                                                 \n",
            " conv_dw_2_bn (BatchNormaliz  (None, 8, 8, 64)         256       \n",
            " ation)                                                          \n",
            "                                                                 \n",
            " conv_dw_2_relu (ReLU)       (None, 8, 8, 64)          0         \n",
            "                                                                 \n",
            " conv_pw_2 (Conv2D)          (None, 8, 8, 128)         8192      \n",
            "                                                                 \n",
            " conv_pw_2_bn (BatchNormaliz  (None, 8, 8, 128)        512       \n",
            " ation)                                                          \n",
            "                                                                 \n",
            " conv_pw_2_relu (ReLU)       (None, 8, 8, 128)         0         \n",
            "                                                                 \n",
            " conv_dw_3 (DepthwiseConv2D)  (None, 8, 8, 128)        1152      \n",
            "                                                                 \n",
            " conv_dw_3_bn (BatchNormaliz  (None, 8, 8, 128)        512       \n",
            " ation)                                                          \n",
            "                                                                 \n",
            " conv_dw_3_relu (ReLU)       (None, 8, 8, 128)         0         \n",
            "                                                                 \n",
            " conv_pw_3 (Conv2D)          (None, 8, 8, 128)         16384     \n",
            "                                                                 \n",
            " conv_pw_3_bn (BatchNormaliz  (None, 8, 8, 128)        512       \n",
            " ation)                                                          \n",
            "                                                                 \n",
            " conv_pw_3_relu (ReLU)       (None, 8, 8, 128)         0         \n",
            "                                                                 \n",
            " conv_pad_4 (ZeroPadding2D)  (None, 9, 9, 128)         0         \n",
            "                                                                 \n",
            " conv_dw_4 (DepthwiseConv2D)  (None, 4, 4, 128)        1152      \n",
            "                                                                 \n",
            " conv_dw_4_bn (BatchNormaliz  (None, 4, 4, 128)        512       \n",
            " ation)                                                          \n",
            "                                                                 \n",
            " conv_dw_4_relu (ReLU)       (None, 4, 4, 128)         0         \n",
            "                                                                 \n",
            " conv_pw_4 (Conv2D)          (None, 4, 4, 256)         32768     \n",
            "                                                                 \n",
            " conv_pw_4_bn (BatchNormaliz  (None, 4, 4, 256)        1024      \n",
            " ation)                                                          \n",
            "                                                                 \n",
            " conv_pw_4_relu (ReLU)       (None, 4, 4, 256)         0         \n",
            "                                                                 \n",
            " conv_dw_5 (DepthwiseConv2D)  (None, 4, 4, 256)        2304      \n",
            "                                                                 \n",
            " conv_dw_5_bn (BatchNormaliz  (None, 4, 4, 256)        1024      \n",
            " ation)                                                          \n",
            "                                                                 \n",
            " conv_dw_5_relu (ReLU)       (None, 4, 4, 256)         0         \n",
            "                                                                 \n",
            " conv_pw_5 (Conv2D)          (None, 4, 4, 256)         65536     \n",
            "                                                                 \n",
            " conv_pw_5_bn (BatchNormaliz  (None, 4, 4, 256)        1024      \n",
            " ation)                                                          \n",
            "                                                                 \n",
            " conv_pw_5_relu (ReLU)       (None, 4, 4, 256)         0         \n",
            "                                                                 \n",
            " conv_pad_6 (ZeroPadding2D)  (None, 5, 5, 256)         0         \n",
            "                                                                 \n",
            " conv_dw_6 (DepthwiseConv2D)  (None, 2, 2, 256)        2304      \n",
            "                                                                 \n",
            " conv_dw_6_bn (BatchNormaliz  (None, 2, 2, 256)        1024      \n",
            " ation)                                                          \n",
            "                                                                 \n",
            " conv_dw_6_relu (ReLU)       (None, 2, 2, 256)         0         \n",
            "                                                                 \n",
            " conv_pw_6 (Conv2D)          (None, 2, 2, 512)         131072    \n",
            "                                                                 \n",
            " conv_pw_6_bn (BatchNormaliz  (None, 2, 2, 512)        2048      \n",
            " ation)                                                          \n",
            "                                                                 \n",
            " conv_pw_6_relu (ReLU)       (None, 2, 2, 512)         0         \n",
            "                                                                 \n",
            " conv_dw_7 (DepthwiseConv2D)  (None, 2, 2, 512)        4608      \n",
            "                                                                 \n",
            " conv_dw_7_bn (BatchNormaliz  (None, 2, 2, 512)        2048      \n",
            " ation)                                                          \n",
            "                                                                 \n",
            " conv_dw_7_relu (ReLU)       (None, 2, 2, 512)         0         \n",
            "                                                                 \n",
            " conv_pw_7 (Conv2D)          (None, 2, 2, 512)         262144    \n",
            "                                                                 \n",
            " conv_pw_7_bn (BatchNormaliz  (None, 2, 2, 512)        2048      \n",
            " ation)                                                          \n",
            "                                                                 \n",
            " conv_pw_7_relu (ReLU)       (None, 2, 2, 512)         0         \n",
            "                                                                 \n",
            " conv_dw_8 (DepthwiseConv2D)  (None, 2, 2, 512)        4608      \n",
            "                                                                 \n",
            " conv_dw_8_bn (BatchNormaliz  (None, 2, 2, 512)        2048      \n",
            " ation)                                                          \n",
            "                                                                 \n",
            " conv_dw_8_relu (ReLU)       (None, 2, 2, 512)         0         \n",
            "                                                                 \n",
            " conv_pw_8 (Conv2D)          (None, 2, 2, 512)         262144    \n",
            "                                                                 \n",
            " conv_pw_8_bn (BatchNormaliz  (None, 2, 2, 512)        2048      \n",
            " ation)                                                          \n",
            "                                                                 \n",
            " conv_pw_8_relu (ReLU)       (None, 2, 2, 512)         0         \n",
            "                                                                 \n",
            " conv_dw_9 (DepthwiseConv2D)  (None, 2, 2, 512)        4608      \n",
            "                                                                 \n",
            " conv_dw_9_bn (BatchNormaliz  (None, 2, 2, 512)        2048      \n",
            " ation)                                                          \n",
            "                                                                 \n",
            " conv_dw_9_relu (ReLU)       (None, 2, 2, 512)         0         \n",
            "                                                                 \n",
            " conv_pw_9 (Conv2D)          (None, 2, 2, 512)         262144    \n",
            "                                                                 \n",
            " conv_pw_9_bn (BatchNormaliz  (None, 2, 2, 512)        2048      \n",
            " ation)                                                          \n",
            "                                                                 \n",
            " conv_pw_9_relu (ReLU)       (None, 2, 2, 512)         0         \n",
            "                                                                 \n",
            " conv_dw_10 (DepthwiseConv2D  (None, 2, 2, 512)        4608      \n",
            " )                                                               \n",
            "                                                                 \n",
            " conv_dw_10_bn (BatchNormali  (None, 2, 2, 512)        2048      \n",
            " zation)                                                         \n",
            "                                                                 \n",
            " conv_dw_10_relu (ReLU)      (None, 2, 2, 512)         0         \n",
            "                                                                 \n",
            " conv_pw_10 (Conv2D)         (None, 2, 2, 512)         262144    \n",
            "                                                                 \n",
            " conv_pw_10_bn (BatchNormali  (None, 2, 2, 512)        2048      \n",
            " zation)                                                         \n",
            "                                                                 \n",
            " conv_pw_10_relu (ReLU)      (None, 2, 2, 512)         0         \n",
            "                                                                 \n",
            " conv_dw_11 (DepthwiseConv2D  (None, 2, 2, 512)        4608      \n",
            " )                                                               \n",
            "                                                                 \n",
            " conv_dw_11_bn (BatchNormali  (None, 2, 2, 512)        2048      \n",
            " zation)                                                         \n",
            "                                                                 \n",
            " conv_dw_11_relu (ReLU)      (None, 2, 2, 512)         0         \n",
            "                                                                 \n",
            " conv_pw_11 (Conv2D)         (None, 2, 2, 512)         262144    \n",
            "                                                                 \n",
            " conv_pw_11_bn (BatchNormali  (None, 2, 2, 512)        2048      \n",
            " zation)                                                         \n",
            "                                                                 \n",
            " conv_pw_11_relu (ReLU)      (None, 2, 2, 512)         0         \n",
            "                                                                 \n",
            " conv_pad_12 (ZeroPadding2D)  (None, 3, 3, 512)        0         \n",
            "                                                                 \n",
            " conv_dw_12 (DepthwiseConv2D  (None, 1, 1, 512)        4608      \n",
            " )                                                               \n",
            "                                                                 \n",
            " conv_dw_12_bn (BatchNormali  (None, 1, 1, 512)        2048      \n",
            " zation)                                                         \n",
            "                                                                 \n",
            " conv_dw_12_relu (ReLU)      (None, 1, 1, 512)         0         \n",
            "                                                                 \n",
            " conv_pw_12 (Conv2D)         (None, 1, 1, 1024)        524288    \n",
            "                                                                 \n",
            " conv_pw_12_bn (BatchNormali  (None, 1, 1, 1024)       4096      \n",
            " zation)                                                         \n",
            "                                                                 \n",
            " conv_pw_12_relu (ReLU)      (None, 1, 1, 1024)        0         \n",
            "                                                                 \n",
            " conv_dw_13 (DepthwiseConv2D  (None, 1, 1, 1024)       9216      \n",
            " )                                                               \n",
            "                                                                 \n",
            " conv_dw_13_bn (BatchNormali  (None, 1, 1, 1024)       4096      \n",
            " zation)                                                         \n",
            "                                                                 \n",
            " conv_dw_13_relu (ReLU)      (None, 1, 1, 1024)        0         \n",
            "                                                                 \n",
            " conv_pw_13 (Conv2D)         (None, 1, 1, 1024)        1048576   \n",
            "                                                                 \n",
            " conv_pw_13_bn (BatchNormali  (None, 1, 1, 1024)       4096      \n",
            " zation)                                                         \n",
            "                                                                 \n",
            " conv_pw_13_relu (ReLU)      (None, 1, 1, 1024)        0         \n",
            "                                                                 \n",
            "=================================================================\n",
            "Total params: 3,228,288\n",
            "Trainable params: 3,206,400\n",
            "Non-trainable params: 21,888\n",
            "_________________________________________________________________\n"
          ]
        }
      ]
    },
    {
      "cell_type": "code",
      "source": [
        "generator4=keras.Sequential(\n",
        "    [\n",
        "        keras.Input(shape=(latent_dim,)),\n",
        "        layers.Dense(32*32*128),\n",
        "        layers.Reshape((32,32,128)),\n",
        "        layers.Conv2D(32, kernel_size=3, padding=\"same\",input_shape=(32,32,128)),\n",
        "        layers.BatchNormalization(),\n",
        "        layers.LeakyReLU(alpha=0.2),\n",
        "        layers.AveragePooling2D(pool_size=(2, 2)),\n",
        "        layers.Conv2D(64, kernel_size=3, padding=\"same\"),\n",
        "        layers.BatchNormalization(),\n",
        "        layers.LeakyReLU(alpha=0.2),\n",
        "        layers.AveragePooling2D(pool_size=(2, 2)),\n",
        "        layers.Conv2D(128, kernel_size=3, padding=\"same\"),\n",
        "        layers.BatchNormalization(),\n",
        "        layers.LeakyReLU(alpha=0.2),\n",
        "        layers.Conv2D(128, kernel_size=3, padding=\"same\"),\n",
        "        layers.LeakyReLU(alpha=0.2),\n",
        "        layers.UpSampling2D((2,2)),\n",
        "        layers.Conv2D(64, kernel_size=3, padding=\"same\"),\n",
        "        layers.LeakyReLU(alpha=0.2),\n",
        "        layers.UpSampling2D((2,2)),\n",
        "        layers.Conv2D(1, kernel_size=3, padding=\"same\", activation=\"sigmoid\"),\n",
        "        \n",
        "    ],\n",
        "    name=\"generator4\",\n",
        ")\n",
        "generator4.summary()"
      ],
      "metadata": {
        "id": "x3M1WkrgH74f",
        "colab": {
          "base_uri": "https://localhost:8080/"
        },
        "outputId": "d07ba545-bbf3-4d56-948c-91a69d37b78a"
      },
      "execution_count": null,
      "outputs": [
        {
          "output_type": "stream",
          "name": "stdout",
          "text": [
            "Model: \"generator4\"\n",
            "_________________________________________________________________\n",
            " Layer (type)                Output Shape              Param #   \n",
            "=================================================================\n",
            " dense_5 (Dense)             (None, 131072)            16908288  \n",
            "                                                                 \n",
            " reshape_2 (Reshape)         (None, 32, 32, 128)       0         \n",
            "                                                                 \n",
            " conv2d_14 (Conv2D)          (None, 32, 32, 32)        36896     \n",
            "                                                                 \n",
            " batch_normalization_3 (Batc  (None, 32, 32, 32)       128       \n",
            " hNormalization)                                                 \n",
            "                                                                 \n",
            " leaky_re_lu_14 (LeakyReLU)  (None, 32, 32, 32)        0         \n",
            "                                                                 \n",
            " average_pooling2d_2 (Averag  (None, 16, 16, 32)       0         \n",
            " ePooling2D)                                                     \n",
            "                                                                 \n",
            " conv2d_15 (Conv2D)          (None, 16, 16, 64)        18496     \n",
            "                                                                 \n",
            " batch_normalization_4 (Batc  (None, 16, 16, 64)       256       \n",
            " hNormalization)                                                 \n",
            "                                                                 \n",
            " leaky_re_lu_15 (LeakyReLU)  (None, 16, 16, 64)        0         \n",
            "                                                                 \n",
            " average_pooling2d_3 (Averag  (None, 8, 8, 64)         0         \n",
            " ePooling2D)                                                     \n",
            "                                                                 \n",
            " conv2d_16 (Conv2D)          (None, 8, 8, 128)         73856     \n",
            "                                                                 \n",
            " batch_normalization_5 (Batc  (None, 8, 8, 128)        512       \n",
            " hNormalization)                                                 \n",
            "                                                                 \n",
            " leaky_re_lu_16 (LeakyReLU)  (None, 8, 8, 128)         0         \n",
            "                                                                 \n",
            " conv2d_17 (Conv2D)          (None, 8, 8, 128)         147584    \n",
            "                                                                 \n",
            " leaky_re_lu_17 (LeakyReLU)  (None, 8, 8, 128)         0         \n",
            "                                                                 \n",
            " up_sampling2d_2 (UpSampling  (None, 16, 16, 128)      0         \n",
            " 2D)                                                             \n",
            "                                                                 \n",
            " conv2d_18 (Conv2D)          (None, 16, 16, 64)        73792     \n",
            "                                                                 \n",
            " leaky_re_lu_18 (LeakyReLU)  (None, 16, 16, 64)        0         \n",
            "                                                                 \n",
            " up_sampling2d_3 (UpSampling  (None, 32, 32, 64)       0         \n",
            " 2D)                                                             \n",
            "                                                                 \n",
            " conv2d_19 (Conv2D)          (None, 32, 32, 1)         577       \n",
            "                                                                 \n",
            "=================================================================\n",
            "Total params: 17,260,385\n",
            "Trainable params: 17,259,937\n",
            "Non-trainable params: 448\n",
            "_________________________________________________________________\n"
          ]
        }
      ]
    },
    {
      "cell_type": "code",
      "source": [
        "wandb.init(project=\"tfg-silvia-barroso\", entity=\"sail-ugr\", \n",
        "           config= {\n",
        "               \"learning_rate\": 1e-09,\n",
        "               \"epochs\": epochs,\n",
        "               \"num_imagenes\": num_imagenes,\n",
        "               \"opt\": \"Adam\",\n",
        "               \"latent_dim\": latent_dim\n",
        "               })\n",
        "\n",
        "#Definicion del modelo GAN\n",
        "gan = GAN(discriminator=discriminator4, generator=generator4,\n",
        "        latent_dim=latent_dim)\n",
        "\n",
        "#Compilación\n",
        "gan.compile(\n",
        "    d_optimizer=opt_d,\n",
        "    g_optimizer=opt,\n",
        "    loss_fn=keras.losses.BinaryCrossentropy(),\n",
        ")\n",
        "\n",
        "#Entrenamiento\n",
        "history=gan.fit(\n",
        "  x_train , epochs=epochs, callbacks=[WandbCallback()]\n",
        ")\n",
        "\n",
        "wandb.finish()"
      ],
      "metadata": {
        "id": "d7xoSLvsHdKO",
        "colab": {
          "base_uri": "https://localhost:8080/",
          "height": 1000,
          "referenced_widgets": [
            "d73a20aa0e5a435db27b30762dc5a9bb",
            "0fb64d1c77544ab6bbbf798a3dd010ac",
            "fec911cebbd544cea59bd53845e01975",
            "0ec46e0f83424693bb31c2c3e59e2653",
            "92bc0b6169164fbaa2a23a0e51a802da",
            "e311e5ff55d344c0a07574f54b5ad878",
            "ee4b978cc90340af96f34af03205af51",
            "8b89dfe7d0e448ada6516226f3556cc7"
          ]
        },
        "outputId": "84cf6410-a33d-403c-bc21-7c98c6bdb255"
      },
      "execution_count": null,
      "outputs": [
        {
          "output_type": "display_data",
          "data": {
            "text/plain": [
              "<IPython.core.display.HTML object>"
            ],
            "text/html": [
              "Tracking run with wandb version 0.12.16"
            ]
          },
          "metadata": {}
        },
        {
          "output_type": "display_data",
          "data": {
            "text/plain": [
              "<IPython.core.display.HTML object>"
            ],
            "text/html": [
              "Run data is saved locally in <code>/content/wandb/run-20220518_163639-cbmo5ha4</code>"
            ]
          },
          "metadata": {}
        },
        {
          "output_type": "display_data",
          "data": {
            "text/plain": [
              "<IPython.core.display.HTML object>"
            ],
            "text/html": [
              "Syncing run <strong><a href=\"https://wandb.ai/sail-ugr/tfg-silvia-barroso/runs/cbmo5ha4\" target=\"_blank\">dainty-cherry-29</a></strong> to <a href=\"https://wandb.ai/sail-ugr/tfg-silvia-barroso\" target=\"_blank\">Weights & Biases</a> (<a href=\"https://wandb.me/run\" target=\"_blank\">docs</a>)<br/>"
            ]
          },
          "metadata": {}
        },
        {
          "output_type": "stream",
          "name": "stdout",
          "text": [
            "Epoch 1/75\n",
            "8/8 [==============================] - 5s 78ms/step - d_loss: 8.0858 - g_loss: 0.0000e+00 - _timestamp: 1652891810.0000 - _runtime: 11.0000\n",
            "Epoch 2/75\n",
            "8/8 [==============================] - 0s 31ms/step - d_loss: 8.0881 - g_loss: 0.0000e+00 - _timestamp: 1652891810.0000 - _runtime: 11.0000\n",
            "Epoch 3/75\n",
            "8/8 [==============================] - 0s 31ms/step - d_loss: 8.0910 - g_loss: 0.0000e+00 - _timestamp: 1652891810.0000 - _runtime: 11.0000\n",
            "Epoch 4/75\n",
            "8/8 [==============================] - 0s 33ms/step - d_loss: 8.0922 - g_loss: 0.0000e+00 - _timestamp: 1652891810.0000 - _runtime: 11.0000\n",
            "Epoch 5/75\n",
            "8/8 [==============================] - 0s 31ms/step - d_loss: 8.0852 - g_loss: 0.0000e+00 - _timestamp: 1652891811.0000 - _runtime: 12.0000\n",
            "Epoch 6/75\n",
            "8/8 [==============================] - 0s 52ms/step - d_loss: 8.1144 - g_loss: 0.0000e+00 - _timestamp: 1652891811.0000 - _runtime: 12.0000\n",
            "Epoch 7/75\n",
            "8/8 [==============================] - 0s 40ms/step - d_loss: 8.1017 - g_loss: 0.0000e+00 - _timestamp: 1652891811.0000 - _runtime: 12.0000\n",
            "Epoch 8/75\n",
            "8/8 [==============================] - 0s 31ms/step - d_loss: 8.0934 - g_loss: 0.0000e+00 - _timestamp: 1652891812.0000 - _runtime: 13.0000\n",
            "Epoch 9/75\n",
            "8/8 [==============================] - 0s 46ms/step - d_loss: 8.1063 - g_loss: 0.0000e+00 - _timestamp: 1652891812.0000 - _runtime: 13.0000\n",
            "Epoch 10/75\n",
            "8/8 [==============================] - 0s 39ms/step - d_loss: 8.1046 - g_loss: 0.0000e+00 - _timestamp: 1652891812.0000 - _runtime: 13.0000\n",
            "Epoch 11/75\n",
            "8/8 [==============================] - 0s 31ms/step - d_loss: 8.0879 - g_loss: 0.0000e+00 - _timestamp: 1652891813.0000 - _runtime: 14.0000\n",
            "Epoch 12/75\n",
            "8/8 [==============================] - 0s 31ms/step - d_loss: 8.0940 - g_loss: 0.0000e+00 - _timestamp: 1652891813.0000 - _runtime: 14.0000\n",
            "Epoch 13/75\n",
            "8/8 [==============================] - 0s 31ms/step - d_loss: 8.1162 - g_loss: 0.0000e+00 - _timestamp: 1652891813.0000 - _runtime: 14.0000\n",
            "Epoch 14/75\n",
            "8/8 [==============================] - 0s 31ms/step - d_loss: 8.0985 - g_loss: 0.0000e+00 - _timestamp: 1652891813.0000 - _runtime: 14.0000\n",
            "Epoch 15/75\n",
            "8/8 [==============================] - 0s 31ms/step - d_loss: 8.1041 - g_loss: 0.0000e+00 - _timestamp: 1652891814.0000 - _runtime: 15.0000\n",
            "Epoch 16/75\n",
            "8/8 [==============================] - 0s 32ms/step - d_loss: 8.0966 - g_loss: 0.0000e+00 - _timestamp: 1652891814.0000 - _runtime: 15.0000\n",
            "Epoch 17/75\n",
            "8/8 [==============================] - 0s 31ms/step - d_loss: 8.1059 - g_loss: 0.0000e+00 - _timestamp: 1652891814.0000 - _runtime: 15.0000\n",
            "Epoch 18/75\n",
            "8/8 [==============================] - 0s 32ms/step - d_loss: 8.1167 - g_loss: 0.0000e+00 - _timestamp: 1652891815.0000 - _runtime: 16.0000\n",
            "Epoch 19/75\n",
            "8/8 [==============================] - 0s 31ms/step - d_loss: 8.1055 - g_loss: 0.0000e+00 - _timestamp: 1652891815.0000 - _runtime: 16.0000\n",
            "Epoch 20/75\n",
            "8/8 [==============================] - 0s 31ms/step - d_loss: 8.0925 - g_loss: 0.0000e+00 - _timestamp: 1652891815.0000 - _runtime: 16.0000\n",
            "Epoch 21/75\n",
            "8/8 [==============================] - 0s 31ms/step - d_loss: 8.1010 - g_loss: 0.0000e+00 - _timestamp: 1652891815.0000 - _runtime: 16.0000\n",
            "Epoch 22/75\n",
            "8/8 [==============================] - 0s 32ms/step - d_loss: 8.1135 - g_loss: 0.0000e+00 - _timestamp: 1652891816.0000 - _runtime: 17.0000\n",
            "Epoch 23/75\n",
            "8/8 [==============================] - 0s 31ms/step - d_loss: 8.0950 - g_loss: 0.0000e+00 - _timestamp: 1652891816.0000 - _runtime: 17.0000\n",
            "Epoch 24/75\n",
            "8/8 [==============================] - 0s 31ms/step - d_loss: 8.1021 - g_loss: 0.0000e+00 - _timestamp: 1652891816.0000 - _runtime: 17.0000\n",
            "Epoch 25/75\n",
            "8/8 [==============================] - 0s 31ms/step - d_loss: 8.0999 - g_loss: 0.0000e+00 - _timestamp: 1652891816.0000 - _runtime: 17.0000\n",
            "Epoch 26/75\n",
            "8/8 [==============================] - 0s 32ms/step - d_loss: 8.0834 - g_loss: 0.0000e+00 - _timestamp: 1652891817.0000 - _runtime: 18.0000\n",
            "Epoch 27/75\n",
            "8/8 [==============================] - 0s 31ms/step - d_loss: 8.0983 - g_loss: 0.0000e+00 - _timestamp: 1652891817.0000 - _runtime: 18.0000\n",
            "Epoch 28/75\n",
            "8/8 [==============================] - 0s 31ms/step - d_loss: 8.1213 - g_loss: 0.0000e+00 - _timestamp: 1652891817.0000 - _runtime: 18.0000\n",
            "Epoch 29/75\n",
            "8/8 [==============================] - 0s 31ms/step - d_loss: 8.1050 - g_loss: 0.0000e+00 - _timestamp: 1652891817.0000 - _runtime: 18.0000\n",
            "Epoch 30/75\n",
            "8/8 [==============================] - 0s 31ms/step - d_loss: 8.0980 - g_loss: 0.0000e+00 - _timestamp: 1652891818.0000 - _runtime: 19.0000\n",
            "Epoch 31/75\n",
            "8/8 [==============================] - 0s 31ms/step - d_loss: 8.0978 - g_loss: 0.0000e+00 - _timestamp: 1652891818.0000 - _runtime: 19.0000\n",
            "Epoch 32/75\n",
            "8/8 [==============================] - 0s 31ms/step - d_loss: 8.0987 - g_loss: 0.0000e+00 - _timestamp: 1652891818.0000 - _runtime: 19.0000\n",
            "Epoch 33/75\n",
            "8/8 [==============================] - 0s 39ms/step - d_loss: 8.0967 - g_loss: 0.0000e+00 - _timestamp: 1652891818.0000 - _runtime: 19.0000\n",
            "Epoch 34/75\n",
            "8/8 [==============================] - 0s 54ms/step - d_loss: 8.0876 - g_loss: 0.0000e+00 - _timestamp: 1652891819.0000 - _runtime: 20.0000\n",
            "Epoch 35/75\n",
            "8/8 [==============================] - 0s 39ms/step - d_loss: 8.1004 - g_loss: 0.0000e+00 - _timestamp: 1652891819.0000 - _runtime: 20.0000\n",
            "Epoch 36/75\n",
            "8/8 [==============================] - 0s 31ms/step - d_loss: 8.1080 - g_loss: 0.0000e+00 - _timestamp: 1652891819.0000 - _runtime: 20.0000\n",
            "Epoch 37/75\n",
            "8/8 [==============================] - 0s 32ms/step - d_loss: 8.1021 - g_loss: 0.0000e+00 - _timestamp: 1652891820.0000 - _runtime: 21.0000\n",
            "Epoch 38/75\n",
            "8/8 [==============================] - 0s 31ms/step - d_loss: 8.1010 - g_loss: 0.0000e+00 - _timestamp: 1652891820.0000 - _runtime: 21.0000\n",
            "Epoch 39/75\n",
            "8/8 [==============================] - 0s 32ms/step - d_loss: 8.0933 - g_loss: 0.0000e+00 - _timestamp: 1652891820.0000 - _runtime: 21.0000\n",
            "Epoch 40/75\n",
            "8/8 [==============================] - 0s 31ms/step - d_loss: 8.1090 - g_loss: 0.0000e+00 - _timestamp: 1652891820.0000 - _runtime: 21.0000\n",
            "Epoch 41/75\n",
            "8/8 [==============================] - 0s 32ms/step - d_loss: 8.0780 - g_loss: 0.0000e+00 - _timestamp: 1652891821.0000 - _runtime: 22.0000\n",
            "Epoch 42/75\n",
            "8/8 [==============================] - 0s 31ms/step - d_loss: 8.1098 - g_loss: 0.0000e+00 - _timestamp: 1652891821.0000 - _runtime: 22.0000\n",
            "Epoch 43/75\n",
            "8/8 [==============================] - 0s 31ms/step - d_loss: 8.1043 - g_loss: 0.0000e+00 - _timestamp: 1652891821.0000 - _runtime: 22.0000\n",
            "Epoch 44/75\n",
            "8/8 [==============================] - 0s 31ms/step - d_loss: 8.0926 - g_loss: 0.0000e+00 - _timestamp: 1652891821.0000 - _runtime: 22.0000\n",
            "Epoch 45/75\n",
            "8/8 [==============================] - 0s 31ms/step - d_loss: 8.1156 - g_loss: 0.0000e+00 - _timestamp: 1652891822.0000 - _runtime: 23.0000\n",
            "Epoch 46/75\n",
            "8/8 [==============================] - 0s 31ms/step - d_loss: 8.1023 - g_loss: 0.0000e+00 - _timestamp: 1652891822.0000 - _runtime: 23.0000\n",
            "Epoch 47/75\n",
            "8/8 [==============================] - 0s 31ms/step - d_loss: 8.1063 - g_loss: 0.0000e+00 - _timestamp: 1652891822.0000 - _runtime: 23.0000\n",
            "Epoch 48/75\n",
            "8/8 [==============================] - 0s 31ms/step - d_loss: 8.0938 - g_loss: 0.0000e+00 - _timestamp: 1652891823.0000 - _runtime: 24.0000\n",
            "Epoch 49/75\n",
            "8/8 [==============================] - 0s 32ms/step - d_loss: 8.1009 - g_loss: 0.0000e+00 - _timestamp: 1652891823.0000 - _runtime: 24.0000\n",
            "Epoch 50/75\n",
            "8/8 [==============================] - 0s 31ms/step - d_loss: 8.1014 - g_loss: 0.0000e+00 - _timestamp: 1652891823.0000 - _runtime: 24.0000\n",
            "Epoch 51/75\n",
            "8/8 [==============================] - 0s 31ms/step - d_loss: 8.1052 - g_loss: 0.0000e+00 - _timestamp: 1652891823.0000 - _runtime: 24.0000\n",
            "Epoch 52/75\n",
            "8/8 [==============================] - 0s 31ms/step - d_loss: 8.0982 - g_loss: 0.0000e+00 - _timestamp: 1652891824.0000 - _runtime: 25.0000\n",
            "Epoch 53/75\n",
            "8/8 [==============================] - 0s 31ms/step - d_loss: 8.0916 - g_loss: 0.0000e+00 - _timestamp: 1652891824.0000 - _runtime: 25.0000\n",
            "Epoch 54/75\n",
            "8/8 [==============================] - 0s 31ms/step - d_loss: 8.1025 - g_loss: 0.0000e+00 - _timestamp: 1652891824.0000 - _runtime: 25.0000\n",
            "Epoch 55/75\n",
            "8/8 [==============================] - 0s 32ms/step - d_loss: 8.0938 - g_loss: 0.0000e+00 - _timestamp: 1652891824.0000 - _runtime: 25.0000\n",
            "Epoch 56/75\n",
            "8/8 [==============================] - 0s 32ms/step - d_loss: 8.0958 - g_loss: 0.0000e+00 - _timestamp: 1652891825.0000 - _runtime: 26.0000\n",
            "Epoch 57/75\n",
            "8/8 [==============================] - 0s 32ms/step - d_loss: 8.0930 - g_loss: 0.0000e+00 - _timestamp: 1652891825.0000 - _runtime: 26.0000\n",
            "Epoch 58/75\n",
            "8/8 [==============================] - 0s 31ms/step - d_loss: 8.1054 - g_loss: 0.0000e+00 - _timestamp: 1652891825.0000 - _runtime: 26.0000\n",
            "Epoch 59/75\n",
            "8/8 [==============================] - 0s 31ms/step - d_loss: 8.0966 - g_loss: 0.0000e+00 - _timestamp: 1652891825.0000 - _runtime: 26.0000\n",
            "Epoch 60/75\n",
            "8/8 [==============================] - 0s 32ms/step - d_loss: 8.0802 - g_loss: 0.0000e+00 - _timestamp: 1652891826.0000 - _runtime: 27.0000\n",
            "Epoch 61/75\n",
            "8/8 [==============================] - 0s 31ms/step - d_loss: 8.1024 - g_loss: 0.0000e+00 - _timestamp: 1652891826.0000 - _runtime: 27.0000\n",
            "Epoch 62/75\n",
            "8/8 [==============================] - 0s 32ms/step - d_loss: 8.0853 - g_loss: 0.0000e+00 - _timestamp: 1652891826.0000 - _runtime: 27.0000\n",
            "Epoch 63/75\n",
            "8/8 [==============================] - 0s 31ms/step - d_loss: 8.0789 - g_loss: 0.0000e+00 - _timestamp: 1652891826.0000 - _runtime: 27.0000\n",
            "Epoch 64/75\n",
            "8/8 [==============================] - 0s 32ms/step - d_loss: 8.1024 - g_loss: 0.0000e+00 - _timestamp: 1652891827.0000 - _runtime: 28.0000\n",
            "Epoch 65/75\n",
            "8/8 [==============================] - 0s 31ms/step - d_loss: 8.1102 - g_loss: 0.0000e+00 - _timestamp: 1652891827.0000 - _runtime: 28.0000\n",
            "Epoch 66/75\n",
            "8/8 [==============================] - 0s 32ms/step - d_loss: 8.1079 - g_loss: 0.0000e+00 - _timestamp: 1652891827.0000 - _runtime: 28.0000\n",
            "Epoch 67/75\n",
            "8/8 [==============================] - 0s 31ms/step - d_loss: 8.0912 - g_loss: 0.0000e+00 - _timestamp: 1652891827.0000 - _runtime: 28.0000\n",
            "Epoch 68/75\n",
            "8/8 [==============================] - 0s 32ms/step - d_loss: 8.0852 - g_loss: 0.0000e+00 - _timestamp: 1652891828.0000 - _runtime: 29.0000\n",
            "Epoch 69/75\n",
            "8/8 [==============================] - 0s 32ms/step - d_loss: 8.0899 - g_loss: 0.0000e+00 - _timestamp: 1652891828.0000 - _runtime: 29.0000\n",
            "Epoch 70/75\n",
            "8/8 [==============================] - 0s 31ms/step - d_loss: 8.1009 - g_loss: 0.0000e+00 - _timestamp: 1652891828.0000 - _runtime: 29.0000\n",
            "Epoch 71/75\n",
            "8/8 [==============================] - 0s 31ms/step - d_loss: 8.0766 - g_loss: 0.0000e+00 - _timestamp: 1652891828.0000 - _runtime: 29.0000\n",
            "Epoch 72/75\n",
            "8/8 [==============================] - 0s 31ms/step - d_loss: 8.1105 - g_loss: 0.0000e+00 - _timestamp: 1652891829.0000 - _runtime: 30.0000\n",
            "Epoch 73/75\n",
            "8/8 [==============================] - 0s 31ms/step - d_loss: 8.1019 - g_loss: 0.0000e+00 - _timestamp: 1652891829.0000 - _runtime: 30.0000\n",
            "Epoch 74/75\n",
            "8/8 [==============================] - 0s 32ms/step - d_loss: 8.1133 - g_loss: 0.0000e+00 - _timestamp: 1652891829.0000 - _runtime: 30.0000\n",
            "Epoch 75/75\n",
            "8/8 [==============================] - 0s 32ms/step - d_loss: 8.1010 - g_loss: 0.0000e+00 - _timestamp: 1652891830.0000 - _runtime: 31.0000\n"
          ]
        },
        {
          "output_type": "display_data",
          "data": {
            "text/plain": [
              "<IPython.core.display.HTML object>"
            ],
            "text/html": [
              "Waiting for W&B process to finish... <strong style=\"color:green\">(success).</strong>"
            ]
          },
          "metadata": {}
        },
        {
          "output_type": "display_data",
          "data": {
            "text/plain": [
              "VBox(children=(Label(value='0.001 MB of 0.001 MB uploaded (0.000 MB deduped)\\r'), FloatProgress(value=1.0, max…"
            ],
            "application/vnd.jupyter.widget-view+json": {
              "version_major": 2,
              "version_minor": 0,
              "model_id": "d73a20aa0e5a435db27b30762dc5a9bb"
            }
          },
          "metadata": {}
        },
        {
          "output_type": "display_data",
          "data": {
            "text/plain": [
              "<IPython.core.display.HTML object>"
            ],
            "text/html": [
              "<style>\n",
              "    table.wandb td:nth-child(1) { padding: 0 10px; text-align: left ; width: auto;} td:nth-child(2) {text-align: left ; width: 100%}\n",
              "    .wandb-row { display: flex; flex-direction: row; flex-wrap: wrap; justify-content: flex-start; width: 100% }\n",
              "    .wandb-col { display: flex; flex-direction: column; flex-basis: 100%; flex: 1; padding: 10px; }\n",
              "    </style>\n",
              "<div class=\"wandb-row\"><div class=\"wandb-col\"><h3>Run history:</h3><br/><table class=\"wandb\"><tr><td>d_loss</td><td>▃▃▄█▄▆▄▅▄█▆▅▄▅▅▆▅▅▅▅▅▇▇▄▅▄▅▅▆▄▄▄▅▁▇▄▃▁▅▅</td></tr><tr><td>epoch</td><td>▁▁▁▁▂▂▂▂▂▃▃▃▃▃▃▄▄▄▄▄▅▅▅▅▅▅▆▆▆▆▆▆▇▇▇▇▇███</td></tr><tr><td>g_loss</td><td>▁▁▁▁▁▁▁▁▁▁▁▁▁▁▁▁▁▁▁▁▁▁▁▁▁▁▁▁▁▁▁▁▁▁▁▁▁▁▁▁</td></tr></table><br/></div><div class=\"wandb-col\"><h3>Run summary:</h3><br/><table class=\"wandb\"><tr><td>d_loss</td><td>8.10105</td></tr><tr><td>epoch</td><td>74</td></tr><tr><td>g_loss</td><td>0.0</td></tr></table><br/></div></div>"
            ]
          },
          "metadata": {}
        },
        {
          "output_type": "display_data",
          "data": {
            "text/plain": [
              "<IPython.core.display.HTML object>"
            ],
            "text/html": [
              "Synced <strong style=\"color:#cdcd00\">dainty-cherry-29</strong>: <a href=\"https://wandb.ai/sail-ugr/tfg-silvia-barroso/runs/cbmo5ha4\" target=\"_blank\">https://wandb.ai/sail-ugr/tfg-silvia-barroso/runs/cbmo5ha4</a><br/>Synced 5 W&B file(s), 1 media file(s), 0 artifact file(s) and 0 other file(s)"
            ]
          },
          "metadata": {}
        },
        {
          "output_type": "display_data",
          "data": {
            "text/plain": [
              "<IPython.core.display.HTML object>"
            ],
            "text/html": [
              "Find logs at: <code>./wandb/run-20220518_163639-cbmo5ha4/logs</code>"
            ]
          },
          "metadata": {}
        }
      ]
    },
    {
      "cell_type": "code",
      "source": [
        ""
      ],
      "metadata": {
        "id": "X_xyhKzwRatN"
      },
      "execution_count": null,
      "outputs": []
    },
    {
      "cell_type": "code",
      "source": [
        "#Evaluación\n",
        "gan.evaluate_D()\n",
        "gan.evaluate_G()"
      ],
      "metadata": {
        "id": "DETLPlNfI-Ar",
        "colab": {
          "base_uri": "https://localhost:8080/",
          "height": 390
        },
        "outputId": "91acf2ab-3852-43cd-cd34-a9037a754857"
      },
      "execution_count": null,
      "outputs": [
        {
          "output_type": "stream",
          "name": "stdout",
          "text": [
            "8/8 [==============================] - 1s 7ms/step - loss: 15.4249 - accuracy: 0.0000e+00\n",
            "8/8 [==============================] - 0s 6ms/step - loss: 0.0000e+00 - accuracy: 0.0000e+00\n",
            ">Accuracy real: 0%, fake: 0%\n",
            ">Loss real: \n",
            "15.424948692321777\n",
            ">Loss fake: \n",
            "0.0\n"
          ]
        },
        {
          "output_type": "display_data",
          "data": {
            "text/plain": [
              "<Figure size 432x288 with 9 Axes>"
            ],
            "image/png": "[encoded data removed]"
          },
          "metadata": {
            "needs_background": "light"
          }
        }
      ]
    }
  ]
}