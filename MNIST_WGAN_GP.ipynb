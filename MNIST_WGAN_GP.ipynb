{
  "nbformat": 4,
  "nbformat_minor": 0,
  "metadata": {
    "colab": {
      "name": "TFG_WGAN-GP_pruebas2.ipynb",
      "provenance": [],
      "collapsed_sections": [],
      "background_execution": "on"
    },
    "kernelspec": {
      "name": "python3",
      "display_name": "Python 3"
    },
    "language_info": {
      "name": "python"
    },
    "accelerator": "GPU",
    "widgets": {
      "application/vnd.jupyter.widget-state+json": {
        "b62bbc2fc0a5452196edaf8a487dafbb": {
          "model_module": "@jupyter-widgets/controls",
          "model_name": "VBoxModel",
          "model_module_version": "1.5.0",
          "state": {
            "_dom_classes": [],
            "_model_module": "@jupyter-widgets/controls",
            "_model_module_version": "1.5.0",
            "_model_name": "VBoxModel",
            "_view_count": null,
            "_view_module": "@jupyter-widgets/controls",
            "_view_module_version": "1.5.0",
            "_view_name": "VBoxView",
            "box_style": "",
            "children": [
              "IPY_MODEL_976b8a747fc9459d9e69677108f095bd",
              "IPY_MODEL_3fafba52523444ab80aad1443369f1dd"
            ],
            "layout": "IPY_MODEL_3d1d9272d49b4d93812e17f66c1a2522"
          }
        },
        "976b8a747fc9459d9e69677108f095bd": {
          "model_module": "@jupyter-widgets/controls",
          "model_name": "LabelModel",
          "model_module_version": "1.5.0",
          "state": {
            "_dom_classes": [],
            "_model_module": "@jupyter-widgets/controls",
            "_model_module_version": "1.5.0",
            "_model_name": "LabelModel",
            "_view_count": null,
            "_view_module": "@jupyter-widgets/controls",
            "_view_module_version": "1.5.0",
            "_view_name": "LabelView",
            "description": "",
            "description_tooltip": null,
            "layout": "IPY_MODEL_b276477e3cb24c96a762bafae5fed82a",
            "placeholder": "​",
            "style": "IPY_MODEL_fdd6376069ce4d298ee3a5d356ea6521",
            "value": "0.020 MB of 0.020 MB uploaded (0.000 MB deduped)\r"
          }
        },
        "3fafba52523444ab80aad1443369f1dd": {
          "model_module": "@jupyter-widgets/controls",
          "model_name": "FloatProgressModel",
          "model_module_version": "1.5.0",
          "state": {
            "_dom_classes": [],
            "_model_module": "@jupyter-widgets/controls",
            "_model_module_version": "1.5.0",
            "_model_name": "FloatProgressModel",
            "_view_count": null,
            "_view_module": "@jupyter-widgets/controls",
            "_view_module_version": "1.5.0",
            "_view_name": "ProgressView",
            "bar_style": "",
            "description": "",
            "description_tooltip": null,
            "layout": "IPY_MODEL_d7600b08a61f454b80733772b50863d1",
            "max": 1,
            "min": 0,
            "orientation": "horizontal",
            "style": "IPY_MODEL_e48d44fd5dae49f2a95a7d22e3aaca87",
            "value": 1
          }
        },
        "3d1d9272d49b4d93812e17f66c1a2522": {
          "model_module": "@jupyter-widgets/base",
          "model_name": "LayoutModel",
          "model_module_version": "1.2.0",
          "state": {
            "_model_module": "@jupyter-widgets/base",
            "_model_module_version": "1.2.0",
            "_model_name": "LayoutModel",
            "_view_count": null,
            "_view_module": "@jupyter-widgets/base",
            "_view_module_version": "1.2.0",
            "_view_name": "LayoutView",
            "align_content": null,
            "align_items": null,
            "align_self": null,
            "border": null,
            "bottom": null,
            "display": null,
            "flex": null,
            "flex_flow": null,
            "grid_area": null,
            "grid_auto_columns": null,
            "grid_auto_flow": null,
            "grid_auto_rows": null,
            "grid_column": null,
            "grid_gap": null,
            "grid_row": null,
            "grid_template_areas": null,
            "grid_template_columns": null,
            "grid_template_rows": null,
            "height": null,
            "justify_content": null,
            "justify_items": null,
            "left": null,
            "margin": null,
            "max_height": null,
            "max_width": null,
            "min_height": null,
            "min_width": null,
            "object_fit": null,
            "object_position": null,
            "order": null,
            "overflow": null,
            "overflow_x": null,
            "overflow_y": null,
            "padding": null,
            "right": null,
            "top": null,
            "visibility": null,
            "width": null
          }
        },
        "b276477e3cb24c96a762bafae5fed82a": {
          "model_module": "@jupyter-widgets/base",
          "model_name": "LayoutModel",
          "model_module_version": "1.2.0",
          "state": {
            "_model_module": "@jupyter-widgets/base",
            "_model_module_version": "1.2.0",
            "_model_name": "LayoutModel",
            "_view_count": null,
            "_view_module": "@jupyter-widgets/base",
            "_view_module_version": "1.2.0",
            "_view_name": "LayoutView",
            "align_content": null,
            "align_items": null,
            "align_self": null,
            "border": null,
            "bottom": null,
            "display": null,
            "flex": null,
            "flex_flow": null,
            "grid_area": null,
            "grid_auto_columns": null,
            "grid_auto_flow": null,
            "grid_auto_rows": null,
            "grid_column": null,
            "grid_gap": null,
            "grid_row": null,
            "grid_template_areas": null,
            "grid_template_columns": null,
            "grid_template_rows": null,
            "height": null,
            "justify_content": null,
            "justify_items": null,
            "left": null,
            "margin": null,
            "max_height": null,
            "max_width": null,
            "min_height": null,
            "min_width": null,
            "object_fit": null,
            "object_position": null,
            "order": null,
            "overflow": null,
            "overflow_x": null,
            "overflow_y": null,
            "padding": null,
            "right": null,
            "top": null,
            "visibility": null,
            "width": null
          }
        },
        "fdd6376069ce4d298ee3a5d356ea6521": {
          "model_module": "@jupyter-widgets/controls",
          "model_name": "DescriptionStyleModel",
          "model_module_version": "1.5.0",
          "state": {
            "_model_module": "@jupyter-widgets/controls",
            "_model_module_version": "1.5.0",
            "_model_name": "DescriptionStyleModel",
            "_view_count": null,
            "_view_module": "@jupyter-widgets/base",
            "_view_module_version": "1.2.0",
            "_view_name": "StyleView",
            "description_width": ""
          }
        },
        "d7600b08a61f454b80733772b50863d1": {
          "model_module": "@jupyter-widgets/base",
          "model_name": "LayoutModel",
          "model_module_version": "1.2.0",
          "state": {
            "_model_module": "@jupyter-widgets/base",
            "_model_module_version": "1.2.0",
            "_model_name": "LayoutModel",
            "_view_count": null,
            "_view_module": "@jupyter-widgets/base",
            "_view_module_version": "1.2.0",
            "_view_name": "LayoutView",
            "align_content": null,
            "align_items": null,
            "align_self": null,
            "border": null,
            "bottom": null,
            "display": null,
            "flex": null,
            "flex_flow": null,
            "grid_area": null,
            "grid_auto_columns": null,
            "grid_auto_flow": null,
            "grid_auto_rows": null,
            "grid_column": null,
            "grid_gap": null,
            "grid_row": null,
            "grid_template_areas": null,
            "grid_template_columns": null,
            "grid_template_rows": null,
            "height": null,
            "justify_content": null,
            "justify_items": null,
            "left": null,
            "margin": null,
            "max_height": null,
            "max_width": null,
            "min_height": null,
            "min_width": null,
            "object_fit": null,
            "object_position": null,
            "order": null,
            "overflow": null,
            "overflow_x": null,
            "overflow_y": null,
            "padding": null,
            "right": null,
            "top": null,
            "visibility": null,
            "width": null
          }
        },
        "e48d44fd5dae49f2a95a7d22e3aaca87": {
          "model_module": "@jupyter-widgets/controls",
          "model_name": "ProgressStyleModel",
          "model_module_version": "1.5.0",
          "state": {
            "_model_module": "@jupyter-widgets/controls",
            "_model_module_version": "1.5.0",
            "_model_name": "ProgressStyleModel",
            "_view_count": null,
            "_view_module": "@jupyter-widgets/base",
            "_view_module_version": "1.2.0",
            "_view_name": "StyleView",
            "bar_color": null,
            "description_width": ""
          }
        },
        "8a9884359162450eb7e38f546f102b43": {
          "model_module": "@jupyter-widgets/controls",
          "model_name": "VBoxModel",
          "model_module_version": "1.5.0",
          "state": {
            "_dom_classes": [],
            "_model_module": "@jupyter-widgets/controls",
            "_model_module_version": "1.5.0",
            "_model_name": "VBoxModel",
            "_view_count": null,
            "_view_module": "@jupyter-widgets/controls",
            "_view_module_version": "1.5.0",
            "_view_name": "VBoxView",
            "box_style": "",
            "children": [
              "IPY_MODEL_2ccbc85b40f14c8098ae6f7a836363bd",
              "IPY_MODEL_7b86515795fc4f04a02aada8c7187c17"
            ],
            "layout": "IPY_MODEL_7cfe30e5450d4d7b953dc95c16651091"
          }
        },
        "2ccbc85b40f14c8098ae6f7a836363bd": {
          "model_module": "@jupyter-widgets/controls",
          "model_name": "LabelModel",
          "model_module_version": "1.5.0",
          "state": {
            "_dom_classes": [],
            "_model_module": "@jupyter-widgets/controls",
            "_model_module_version": "1.5.0",
            "_model_name": "LabelModel",
            "_view_count": null,
            "_view_module": "@jupyter-widgets/controls",
            "_view_module_version": "1.5.0",
            "_view_name": "LabelView",
            "description": "",
            "description_tooltip": null,
            "layout": "IPY_MODEL_e436397e82c84497b5235f01bbc60863",
            "placeholder": "​",
            "style": "IPY_MODEL_e386c4211f11404c91b4d3e9d6e853aa",
            "value": "0.019 MB of 0.019 MB uploaded (0.000 MB deduped)\r"
          }
        },
        "7b86515795fc4f04a02aada8c7187c17": {
          "model_module": "@jupyter-widgets/controls",
          "model_name": "FloatProgressModel",
          "model_module_version": "1.5.0",
          "state": {
            "_dom_classes": [],
            "_model_module": "@jupyter-widgets/controls",
            "_model_module_version": "1.5.0",
            "_model_name": "FloatProgressModel",
            "_view_count": null,
            "_view_module": "@jupyter-widgets/controls",
            "_view_module_version": "1.5.0",
            "_view_name": "ProgressView",
            "bar_style": "",
            "description": "",
            "description_tooltip": null,
            "layout": "IPY_MODEL_4537ad1bcd014a3190b32b720b9ab976",
            "max": 1,
            "min": 0,
            "orientation": "horizontal",
            "style": "IPY_MODEL_6ede621ba6694b27bf6663a6397f19d0",
            "value": 1
          }
        },
        "7cfe30e5450d4d7b953dc95c16651091": {
          "model_module": "@jupyter-widgets/base",
          "model_name": "LayoutModel",
          "model_module_version": "1.2.0",
          "state": {
            "_model_module": "@jupyter-widgets/base",
            "_model_module_version": "1.2.0",
            "_model_name": "LayoutModel",
            "_view_count": null,
            "_view_module": "@jupyter-widgets/base",
            "_view_module_version": "1.2.0",
            "_view_name": "LayoutView",
            "align_content": null,
            "align_items": null,
            "align_self": null,
            "border": null,
            "bottom": null,
            "display": null,
            "flex": null,
            "flex_flow": null,
            "grid_area": null,
            "grid_auto_columns": null,
            "grid_auto_flow": null,
            "grid_auto_rows": null,
            "grid_column": null,
            "grid_gap": null,
            "grid_row": null,
            "grid_template_areas": null,
            "grid_template_columns": null,
            "grid_template_rows": null,
            "height": null,
            "justify_content": null,
            "justify_items": null,
            "left": null,
            "margin": null,
            "max_height": null,
            "max_width": null,
            "min_height": null,
            "min_width": null,
            "object_fit": null,
            "object_position": null,
            "order": null,
            "overflow": null,
            "overflow_x": null,
            "overflow_y": null,
            "padding": null,
            "right": null,
            "top": null,
            "visibility": null,
            "width": null
          }
        },
        "e436397e82c84497b5235f01bbc60863": {
          "model_module": "@jupyter-widgets/base",
          "model_name": "LayoutModel",
          "model_module_version": "1.2.0",
          "state": {
            "_model_module": "@jupyter-widgets/base",
            "_model_module_version": "1.2.0",
            "_model_name": "LayoutModel",
            "_view_count": null,
            "_view_module": "@jupyter-widgets/base",
            "_view_module_version": "1.2.0",
            "_view_name": "LayoutView",
            "align_content": null,
            "align_items": null,
            "align_self": null,
            "border": null,
            "bottom": null,
            "display": null,
            "flex": null,
            "flex_flow": null,
            "grid_area": null,
            "grid_auto_columns": null,
            "grid_auto_flow": null,
            "grid_auto_rows": null,
            "grid_column": null,
            "grid_gap": null,
            "grid_row": null,
            "grid_template_areas": null,
            "grid_template_columns": null,
            "grid_template_rows": null,
            "height": null,
            "justify_content": null,
            "justify_items": null,
            "left": null,
            "margin": null,
            "max_height": null,
            "max_width": null,
            "min_height": null,
            "min_width": null,
            "object_fit": null,
            "object_position": null,
            "order": null,
            "overflow": null,
            "overflow_x": null,
            "overflow_y": null,
            "padding": null,
            "right": null,
            "top": null,
            "visibility": null,
            "width": null
          }
        },
        "e386c4211f11404c91b4d3e9d6e853aa": {
          "model_module": "@jupyter-widgets/controls",
          "model_name": "DescriptionStyleModel",
          "model_module_version": "1.5.0",
          "state": {
            "_model_module": "@jupyter-widgets/controls",
            "_model_module_version": "1.5.0",
            "_model_name": "DescriptionStyleModel",
            "_view_count": null,
            "_view_module": "@jupyter-widgets/base",
            "_view_module_version": "1.2.0",
            "_view_name": "StyleView",
            "description_width": ""
          }
        },
        "4537ad1bcd014a3190b32b720b9ab976": {
          "model_module": "@jupyter-widgets/base",
          "model_name": "LayoutModel",
          "model_module_version": "1.2.0",
          "state": {
            "_model_module": "@jupyter-widgets/base",
            "_model_module_version": "1.2.0",
            "_model_name": "LayoutModel",
            "_view_count": null,
            "_view_module": "@jupyter-widgets/base",
            "_view_module_version": "1.2.0",
            "_view_name": "LayoutView",
            "align_content": null,
            "align_items": null,
            "align_self": null,
            "border": null,
            "bottom": null,
            "display": null,
            "flex": null,
            "flex_flow": null,
            "grid_area": null,
            "grid_auto_columns": null,
            "grid_auto_flow": null,
            "grid_auto_rows": null,
            "grid_column": null,
            "grid_gap": null,
            "grid_row": null,
            "grid_template_areas": null,
            "grid_template_columns": null,
            "grid_template_rows": null,
            "height": null,
            "justify_content": null,
            "justify_items": null,
            "left": null,
            "margin": null,
            "max_height": null,
            "max_width": null,
            "min_height": null,
            "min_width": null,
            "object_fit": null,
            "object_position": null,
            "order": null,
            "overflow": null,
            "overflow_x": null,
            "overflow_y": null,
            "padding": null,
            "right": null,
            "top": null,
            "visibility": null,
            "width": null
          }
        },
        "6ede621ba6694b27bf6663a6397f19d0": {
          "model_module": "@jupyter-widgets/controls",
          "model_name": "ProgressStyleModel",
          "model_module_version": "1.5.0",
          "state": {
            "_model_module": "@jupyter-widgets/controls",
            "_model_module_version": "1.5.0",
            "_model_name": "ProgressStyleModel",
            "_view_count": null,
            "_view_module": "@jupyter-widgets/base",
            "_view_module_version": "1.2.0",
            "_view_name": "StyleView",
            "bar_color": null,
            "description_width": ""
          }
        },
        "67bda4e5f15b4228ba314ab94e72ee7d": {
          "model_module": "@jupyter-widgets/controls",
          "model_name": "VBoxModel",
          "model_module_version": "1.5.0",
          "state": {
            "_dom_classes": [],
            "_model_module": "@jupyter-widgets/controls",
            "_model_module_version": "1.5.0",
            "_model_name": "VBoxModel",
            "_view_count": null,
            "_view_module": "@jupyter-widgets/controls",
            "_view_module_version": "1.5.0",
            "_view_name": "VBoxView",
            "box_style": "",
            "children": [
              "IPY_MODEL_7437b145b3254d318cee8a834b8e2481",
              "IPY_MODEL_02d09b262686465d854defebf9f3a469"
            ],
            "layout": "IPY_MODEL_056e0e212fd44da398a0f76bfb21eb14"
          }
        },
        "7437b145b3254d318cee8a834b8e2481": {
          "model_module": "@jupyter-widgets/controls",
          "model_name": "LabelModel",
          "model_module_version": "1.5.0",
          "state": {
            "_dom_classes": [],
            "_model_module": "@jupyter-widgets/controls",
            "_model_module_version": "1.5.0",
            "_model_name": "LabelModel",
            "_view_count": null,
            "_view_module": "@jupyter-widgets/controls",
            "_view_module_version": "1.5.0",
            "_view_name": "LabelView",
            "description": "",
            "description_tooltip": null,
            "layout": "IPY_MODEL_23ff8c65ad124eb695be28089a94c5c8",
            "placeholder": "​",
            "style": "IPY_MODEL_5e15c4fa18024c4ab00fc1463f12a806",
            "value": "0.020 MB of 0.020 MB uploaded (0.000 MB deduped)\r"
          }
        },
        "02d09b262686465d854defebf9f3a469": {
          "model_module": "@jupyter-widgets/controls",
          "model_name": "FloatProgressModel",
          "model_module_version": "1.5.0",
          "state": {
            "_dom_classes": [],
            "_model_module": "@jupyter-widgets/controls",
            "_model_module_version": "1.5.0",
            "_model_name": "FloatProgressModel",
            "_view_count": null,
            "_view_module": "@jupyter-widgets/controls",
            "_view_module_version": "1.5.0",
            "_view_name": "ProgressView",
            "bar_style": "",
            "description": "",
            "description_tooltip": null,
            "layout": "IPY_MODEL_18da7e9fbe0643e792b7c05f2eba467d",
            "max": 1,
            "min": 0,
            "orientation": "horizontal",
            "style": "IPY_MODEL_173be3c6d19a43adaaa27b5857cb476e",
            "value": 1
          }
        },
        "056e0e212fd44da398a0f76bfb21eb14": {
          "model_module": "@jupyter-widgets/base",
          "model_name": "LayoutModel",
          "model_module_version": "1.2.0",
          "state": {
            "_model_module": "@jupyter-widgets/base",
            "_model_module_version": "1.2.0",
            "_model_name": "LayoutModel",
            "_view_count": null,
            "_view_module": "@jupyter-widgets/base",
            "_view_module_version": "1.2.0",
            "_view_name": "LayoutView",
            "align_content": null,
            "align_items": null,
            "align_self": null,
            "border": null,
            "bottom": null,
            "display": null,
            "flex": null,
            "flex_flow": null,
            "grid_area": null,
            "grid_auto_columns": null,
            "grid_auto_flow": null,
            "grid_auto_rows": null,
            "grid_column": null,
            "grid_gap": null,
            "grid_row": null,
            "grid_template_areas": null,
            "grid_template_columns": null,
            "grid_template_rows": null,
            "height": null,
            "justify_content": null,
            "justify_items": null,
            "left": null,
            "margin": null,
            "max_height": null,
            "max_width": null,
            "min_height": null,
            "min_width": null,
            "object_fit": null,
            "object_position": null,
            "order": null,
            "overflow": null,
            "overflow_x": null,
            "overflow_y": null,
            "padding": null,
            "right": null,
            "top": null,
            "visibility": null,
            "width": null
          }
        },
        "23ff8c65ad124eb695be28089a94c5c8": {
          "model_module": "@jupyter-widgets/base",
          "model_name": "LayoutModel",
          "model_module_version": "1.2.0",
          "state": {
            "_model_module": "@jupyter-widgets/base",
            "_model_module_version": "1.2.0",
            "_model_name": "LayoutModel",
            "_view_count": null,
            "_view_module": "@jupyter-widgets/base",
            "_view_module_version": "1.2.0",
            "_view_name": "LayoutView",
            "align_content": null,
            "align_items": null,
            "align_self": null,
            "border": null,
            "bottom": null,
            "display": null,
            "flex": null,
            "flex_flow": null,
            "grid_area": null,
            "grid_auto_columns": null,
            "grid_auto_flow": null,
            "grid_auto_rows": null,
            "grid_column": null,
            "grid_gap": null,
            "grid_row": null,
            "grid_template_areas": null,
            "grid_template_columns": null,
            "grid_template_rows": null,
            "height": null,
            "justify_content": null,
            "justify_items": null,
            "left": null,
            "margin": null,
            "max_height": null,
            "max_width": null,
            "min_height": null,
            "min_width": null,
            "object_fit": null,
            "object_position": null,
            "order": null,
            "overflow": null,
            "overflow_x": null,
            "overflow_y": null,
            "padding": null,
            "right": null,
            "top": null,
            "visibility": null,
            "width": null
          }
        },
        "5e15c4fa18024c4ab00fc1463f12a806": {
          "model_module": "@jupyter-widgets/controls",
          "model_name": "DescriptionStyleModel",
          "model_module_version": "1.5.0",
          "state": {
            "_model_module": "@jupyter-widgets/controls",
            "_model_module_version": "1.5.0",
            "_model_name": "DescriptionStyleModel",
            "_view_count": null,
            "_view_module": "@jupyter-widgets/base",
            "_view_module_version": "1.2.0",
            "_view_name": "StyleView",
            "description_width": ""
          }
        },
        "18da7e9fbe0643e792b7c05f2eba467d": {
          "model_module": "@jupyter-widgets/base",
          "model_name": "LayoutModel",
          "model_module_version": "1.2.0",
          "state": {
            "_model_module": "@jupyter-widgets/base",
            "_model_module_version": "1.2.0",
            "_model_name": "LayoutModel",
            "_view_count": null,
            "_view_module": "@jupyter-widgets/base",
            "_view_module_version": "1.2.0",
            "_view_name": "LayoutView",
            "align_content": null,
            "align_items": null,
            "align_self": null,
            "border": null,
            "bottom": null,
            "display": null,
            "flex": null,
            "flex_flow": null,
            "grid_area": null,
            "grid_auto_columns": null,
            "grid_auto_flow": null,
            "grid_auto_rows": null,
            "grid_column": null,
            "grid_gap": null,
            "grid_row": null,
            "grid_template_areas": null,
            "grid_template_columns": null,
            "grid_template_rows": null,
            "height": null,
            "justify_content": null,
            "justify_items": null,
            "left": null,
            "margin": null,
            "max_height": null,
            "max_width": null,
            "min_height": null,
            "min_width": null,
            "object_fit": null,
            "object_position": null,
            "order": null,
            "overflow": null,
            "overflow_x": null,
            "overflow_y": null,
            "padding": null,
            "right": null,
            "top": null,
            "visibility": null,
            "width": null
          }
        },
        "173be3c6d19a43adaaa27b5857cb476e": {
          "model_module": "@jupyter-widgets/controls",
          "model_name": "ProgressStyleModel",
          "model_module_version": "1.5.0",
          "state": {
            "_model_module": "@jupyter-widgets/controls",
            "_model_module_version": "1.5.0",
            "_model_name": "ProgressStyleModel",
            "_view_count": null,
            "_view_module": "@jupyter-widgets/base",
            "_view_module_version": "1.2.0",
            "_view_name": "StyleView",
            "bar_color": null,
            "description_width": ""
          }
        },
        "ad41889529ac470fbca2c3ae6b69ccde": {
          "model_module": "@jupyter-widgets/controls",
          "model_name": "VBoxModel",
          "model_module_version": "1.5.0",
          "state": {
            "_dom_classes": [],
            "_model_module": "@jupyter-widgets/controls",
            "_model_module_version": "1.5.0",
            "_model_name": "VBoxModel",
            "_view_count": null,
            "_view_module": "@jupyter-widgets/controls",
            "_view_module_version": "1.5.0",
            "_view_name": "VBoxView",
            "box_style": "",
            "children": [
              "IPY_MODEL_fc763caacc624af38afce44306529b2a",
              "IPY_MODEL_665a86a00e8544e59af58bee5805b1d9"
            ],
            "layout": "IPY_MODEL_46b815031985429296c47d4906380eec"
          }
        },
        "fc763caacc624af38afce44306529b2a": {
          "model_module": "@jupyter-widgets/controls",
          "model_name": "LabelModel",
          "model_module_version": "1.5.0",
          "state": {
            "_dom_classes": [],
            "_model_module": "@jupyter-widgets/controls",
            "_model_module_version": "1.5.0",
            "_model_name": "LabelModel",
            "_view_count": null,
            "_view_module": "@jupyter-widgets/controls",
            "_view_module_version": "1.5.0",
            "_view_name": "LabelView",
            "description": "",
            "description_tooltip": null,
            "layout": "IPY_MODEL_5bc67758170f42c9a025d93f4b04e2cb",
            "placeholder": "​",
            "style": "IPY_MODEL_4d65f05511d04fdfa36a5ae232b7b68f",
            "value": "0.022 MB of 0.022 MB uploaded (0.000 MB deduped)\r"
          }
        },
        "665a86a00e8544e59af58bee5805b1d9": {
          "model_module": "@jupyter-widgets/controls",
          "model_name": "FloatProgressModel",
          "model_module_version": "1.5.0",
          "state": {
            "_dom_classes": [],
            "_model_module": "@jupyter-widgets/controls",
            "_model_module_version": "1.5.0",
            "_model_name": "FloatProgressModel",
            "_view_count": null,
            "_view_module": "@jupyter-widgets/controls",
            "_view_module_version": "1.5.0",
            "_view_name": "ProgressView",
            "bar_style": "",
            "description": "",
            "description_tooltip": null,
            "layout": "IPY_MODEL_dbf5e351e7424e78abc6f0014963a305",
            "max": 1,
            "min": 0,
            "orientation": "horizontal",
            "style": "IPY_MODEL_135a97eab6674bac838b674a4e1bdb0a",
            "value": 1
          }
        },
        "46b815031985429296c47d4906380eec": {
          "model_module": "@jupyter-widgets/base",
          "model_name": "LayoutModel",
          "model_module_version": "1.2.0",
          "state": {
            "_model_module": "@jupyter-widgets/base",
            "_model_module_version": "1.2.0",
            "_model_name": "LayoutModel",
            "_view_count": null,
            "_view_module": "@jupyter-widgets/base",
            "_view_module_version": "1.2.0",
            "_view_name": "LayoutView",
            "align_content": null,
            "align_items": null,
            "align_self": null,
            "border": null,
            "bottom": null,
            "display": null,
            "flex": null,
            "flex_flow": null,
            "grid_area": null,
            "grid_auto_columns": null,
            "grid_auto_flow": null,
            "grid_auto_rows": null,
            "grid_column": null,
            "grid_gap": null,
            "grid_row": null,
            "grid_template_areas": null,
            "grid_template_columns": null,
            "grid_template_rows": null,
            "height": null,
            "justify_content": null,
            "justify_items": null,
            "left": null,
            "margin": null,
            "max_height": null,
            "max_width": null,
            "min_height": null,
            "min_width": null,
            "object_fit": null,
            "object_position": null,
            "order": null,
            "overflow": null,
            "overflow_x": null,
            "overflow_y": null,
            "padding": null,
            "right": null,
            "top": null,
            "visibility": null,
            "width": null
          }
        },
        "5bc67758170f42c9a025d93f4b04e2cb": {
          "model_module": "@jupyter-widgets/base",
          "model_name": "LayoutModel",
          "model_module_version": "1.2.0",
          "state": {
            "_model_module": "@jupyter-widgets/base",
            "_model_module_version": "1.2.0",
            "_model_name": "LayoutModel",
            "_view_count": null,
            "_view_module": "@jupyter-widgets/base",
            "_view_module_version": "1.2.0",
            "_view_name": "LayoutView",
            "align_content": null,
            "align_items": null,
            "align_self": null,
            "border": null,
            "bottom": null,
            "display": null,
            "flex": null,
            "flex_flow": null,
            "grid_area": null,
            "grid_auto_columns": null,
            "grid_auto_flow": null,
            "grid_auto_rows": null,
            "grid_column": null,
            "grid_gap": null,
            "grid_row": null,
            "grid_template_areas": null,
            "grid_template_columns": null,
            "grid_template_rows": null,
            "height": null,
            "justify_content": null,
            "justify_items": null,
            "left": null,
            "margin": null,
            "max_height": null,
            "max_width": null,
            "min_height": null,
            "min_width": null,
            "object_fit": null,
            "object_position": null,
            "order": null,
            "overflow": null,
            "overflow_x": null,
            "overflow_y": null,
            "padding": null,
            "right": null,
            "top": null,
            "visibility": null,
            "width": null
          }
        },
        "4d65f05511d04fdfa36a5ae232b7b68f": {
          "model_module": "@jupyter-widgets/controls",
          "model_name": "DescriptionStyleModel",
          "model_module_version": "1.5.0",
          "state": {
            "_model_module": "@jupyter-widgets/controls",
            "_model_module_version": "1.5.0",
            "_model_name": "DescriptionStyleModel",
            "_view_count": null,
            "_view_module": "@jupyter-widgets/base",
            "_view_module_version": "1.2.0",
            "_view_name": "StyleView",
            "description_width": ""
          }
        },
        "dbf5e351e7424e78abc6f0014963a305": {
          "model_module": "@jupyter-widgets/base",
          "model_name": "LayoutModel",
          "model_module_version": "1.2.0",
          "state": {
            "_model_module": "@jupyter-widgets/base",
            "_model_module_version": "1.2.0",
            "_model_name": "LayoutModel",
            "_view_count": null,
            "_view_module": "@jupyter-widgets/base",
            "_view_module_version": "1.2.0",
            "_view_name": "LayoutView",
            "align_content": null,
            "align_items": null,
            "align_self": null,
            "border": null,
            "bottom": null,
            "display": null,
            "flex": null,
            "flex_flow": null,
            "grid_area": null,
            "grid_auto_columns": null,
            "grid_auto_flow": null,
            "grid_auto_rows": null,
            "grid_column": null,
            "grid_gap": null,
            "grid_row": null,
            "grid_template_areas": null,
            "grid_template_columns": null,
            "grid_template_rows": null,
            "height": null,
            "justify_content": null,
            "justify_items": null,
            "left": null,
            "margin": null,
            "max_height": null,
            "max_width": null,
            "min_height": null,
            "min_width": null,
            "object_fit": null,
            "object_position": null,
            "order": null,
            "overflow": null,
            "overflow_x": null,
            "overflow_y": null,
            "padding": null,
            "right": null,
            "top": null,
            "visibility": null,
            "width": null
          }
        },
        "135a97eab6674bac838b674a4e1bdb0a": {
          "model_module": "@jupyter-widgets/controls",
          "model_name": "ProgressStyleModel",
          "model_module_version": "1.5.0",
          "state": {
            "_model_module": "@jupyter-widgets/controls",
            "_model_module_version": "1.5.0",
            "_model_name": "ProgressStyleModel",
            "_view_count": null,
            "_view_module": "@jupyter-widgets/base",
            "_view_module_version": "1.2.0",
            "_view_name": "StyleView",
            "bar_color": null,
            "description_width": ""
          }
        }
      }
    }
  },
  "cells": [
    {
      "cell_type": "code",
      "source": [
        "#########################################################################\n",
        "## COMPROBAR GPU ASIGNADA EN COLABORATORY\n",
        "#########################################################################\n",
        "gpu_info = !nvidia-smi\n",
        "gpu_info = '\\n'.join(gpu_info)\n",
        "if gpu_info.find('failed') >= 0:\n",
        "  print('Not connected to a GPU')\n",
        "else:\n",
        "  print(gpu_info)"
      ],
      "metadata": {
        "colab": {
          "base_uri": "https://localhost:8080/"
        },
        "id": "VoQ6608t1JWw",
        "outputId": "13e3caba-2c12-4e50-dee0-79ff2bc9c662"
      },
      "execution_count": null,
      "outputs": [
        {
          "output_type": "stream",
          "name": "stdout",
          "text": [
            "Wed May 18 16:20:29 2022       \n",
            "+-----------------------------------------------------------------------------+\n",
            "| NVIDIA-SMI 460.32.03    Driver Version: 460.32.03    CUDA Version: 11.2     |\n",
            "|-------------------------------+----------------------+----------------------+\n",
            "| GPU  Name        Persistence-M| Bus-Id        Disp.A | Volatile Uncorr. ECC |\n",
            "| Fan  Temp  Perf  Pwr:Usage/Cap|         Memory-Usage | GPU-Util  Compute M. |\n",
            "|                               |                      |               MIG M. |\n",
            "|===============================+======================+======================|\n",
            "|   0  Tesla P100-PCIE...  Off  | 00000000:00:04.0 Off |                    0 |\n",
            "| N/A   38C    P0    27W / 250W |      0MiB / 16280MiB |      0%      Default |\n",
            "|                               |                      |                  N/A |\n",
            "+-------------------------------+----------------------+----------------------+\n",
            "                                                                               \n",
            "+-----------------------------------------------------------------------------+\n",
            "| Processes:                                                                  |\n",
            "|  GPU   GI   CI        PID   Type   Process name                  GPU Memory |\n",
            "|        ID   ID                                                   Usage      |\n",
            "|=============================================================================|\n",
            "|  No running processes found                                                 |\n",
            "+-----------------------------------------------------------------------------+\n"
          ]
        }
      ]
    },
    {
      "cell_type": "code",
      "source": [
        "#########################################################################\n",
        "## MONTAR DRIVE\n",
        "#########################################################################\n",
        "from google.colab import drive\n",
        "drive.mount('/content/drive')"
      ],
      "metadata": {
        "colab": {
          "base_uri": "https://localhost:8080/"
        },
        "id": "GpUfjckI1JDg",
        "outputId": "fa0b9e76-0341-4b71-8ff7-14f15f0249bc"
      },
      "execution_count": null,
      "outputs": [
        {
          "output_type": "stream",
          "name": "stdout",
          "text": [
            "Mounted at /content/drive\n"
          ]
        }
      ]
    },
    {
      "cell_type": "code",
      "source": [
        "#########################################################################\n",
        "## CONFIGURAR WANDB\n",
        "#########################################################################\n",
        "!pip install wandb\n",
        "!wandb login"
      ],
      "metadata": {
        "id": "A1x8gNgsNxtG",
        "colab": {
          "base_uri": "https://localhost:8080/"
        },
        "outputId": "87f88688-6324-4f49-c124-bbc4da151f38"
      },
      "execution_count": null,
      "outputs": [
        {
          "output_type": "stream",
          "name": "stdout",
          "text": [
            "Collecting wandb\n",
            "  Downloading wandb-0.12.16-py2.py3-none-any.whl (1.8 MB)\n",
            "\u001b[?25l\r\u001b[K     |▏                               | 10 kB 28.4 MB/s eta 0:00:01\r\u001b[K     |▍                               | 20 kB 21.3 MB/s eta 0:00:01\r\u001b[K     |▌                               | 30 kB 15.9 MB/s eta 0:00:01\r\u001b[K     |▊                               | 40 kB 14.6 MB/s eta 0:00:01\r\u001b[K     |█                               | 51 kB 6.5 MB/s eta 0:00:01\r\u001b[K     |█                               | 61 kB 7.7 MB/s eta 0:00:01\r\u001b[K     |█▎                              | 71 kB 8.3 MB/s eta 0:00:01\r\u001b[K     |█▌                              | 81 kB 8.3 MB/s eta 0:00:01\r\u001b[K     |█▋                              | 92 kB 9.2 MB/s eta 0:00:01\r\u001b[K     |█▉                              | 102 kB 7.5 MB/s eta 0:00:01\r\u001b[K     |██                              | 112 kB 7.5 MB/s eta 0:00:01\r\u001b[K     |██▏                             | 122 kB 7.5 MB/s eta 0:00:01\r\u001b[K     |██▍                             | 133 kB 7.5 MB/s eta 0:00:01\r\u001b[K     |██▋                             | 143 kB 7.5 MB/s eta 0:00:01\r\u001b[K     |██▊                             | 153 kB 7.5 MB/s eta 0:00:01\r\u001b[K     |███                             | 163 kB 7.5 MB/s eta 0:00:01\r\u001b[K     |███▏                            | 174 kB 7.5 MB/s eta 0:00:01\r\u001b[K     |███▎                            | 184 kB 7.5 MB/s eta 0:00:01\r\u001b[K     |███▌                            | 194 kB 7.5 MB/s eta 0:00:01\r\u001b[K     |███▋                            | 204 kB 7.5 MB/s eta 0:00:01\r\u001b[K     |███▉                            | 215 kB 7.5 MB/s eta 0:00:01\r\u001b[K     |████                            | 225 kB 7.5 MB/s eta 0:00:01\r\u001b[K     |████▏                           | 235 kB 7.5 MB/s eta 0:00:01\r\u001b[K     |████▍                           | 245 kB 7.5 MB/s eta 0:00:01\r\u001b[K     |████▋                           | 256 kB 7.5 MB/s eta 0:00:01\r\u001b[K     |████▊                           | 266 kB 7.5 MB/s eta 0:00:01\r\u001b[K     |█████                           | 276 kB 7.5 MB/s eta 0:00:01\r\u001b[K     |█████▏                          | 286 kB 7.5 MB/s eta 0:00:01\r\u001b[K     |█████▎                          | 296 kB 7.5 MB/s eta 0:00:01\r\u001b[K     |█████▌                          | 307 kB 7.5 MB/s eta 0:00:01\r\u001b[K     |█████▊                          | 317 kB 7.5 MB/s eta 0:00:01\r\u001b[K     |█████▉                          | 327 kB 7.5 MB/s eta 0:00:01\r\u001b[K     |██████                          | 337 kB 7.5 MB/s eta 0:00:01\r\u001b[K     |██████▎                         | 348 kB 7.5 MB/s eta 0:00:01\r\u001b[K     |██████▍                         | 358 kB 7.5 MB/s eta 0:00:01\r\u001b[K     |██████▋                         | 368 kB 7.5 MB/s eta 0:00:01\r\u001b[K     |██████▉                         | 378 kB 7.5 MB/s eta 0:00:01\r\u001b[K     |███████                         | 389 kB 7.5 MB/s eta 0:00:01\r\u001b[K     |███████▏                        | 399 kB 7.5 MB/s eta 0:00:01\r\u001b[K     |███████▎                        | 409 kB 7.5 MB/s eta 0:00:01\r\u001b[K     |███████▌                        | 419 kB 7.5 MB/s eta 0:00:01\r\u001b[K     |███████▊                        | 430 kB 7.5 MB/s eta 0:00:01\r\u001b[K     |███████▉                        | 440 kB 7.5 MB/s eta 0:00:01\r\u001b[K     |████████                        | 450 kB 7.5 MB/s eta 0:00:01\r\u001b[K     |████████▎                       | 460 kB 7.5 MB/s eta 0:00:01\r\u001b[K     |████████▍                       | 471 kB 7.5 MB/s eta 0:00:01\r\u001b[K     |████████▋                       | 481 kB 7.5 MB/s eta 0:00:01\r\u001b[K     |████████▉                       | 491 kB 7.5 MB/s eta 0:00:01\r\u001b[K     |█████████                       | 501 kB 7.5 MB/s eta 0:00:01\r\u001b[K     |█████████▏                      | 512 kB 7.5 MB/s eta 0:00:01\r\u001b[K     |█████████▍                      | 522 kB 7.5 MB/s eta 0:00:01\r\u001b[K     |█████████▌                      | 532 kB 7.5 MB/s eta 0:00:01\r\u001b[K     |█████████▊                      | 542 kB 7.5 MB/s eta 0:00:01\r\u001b[K     |██████████                      | 552 kB 7.5 MB/s eta 0:00:01\r\u001b[K     |██████████                      | 563 kB 7.5 MB/s eta 0:00:01\r\u001b[K     |██████████▎                     | 573 kB 7.5 MB/s eta 0:00:01\r\u001b[K     |██████████▌                     | 583 kB 7.5 MB/s eta 0:00:01\r\u001b[K     |██████████▋                     | 593 kB 7.5 MB/s eta 0:00:01\r\u001b[K     |██████████▉                     | 604 kB 7.5 MB/s eta 0:00:01\r\u001b[K     |███████████                     | 614 kB 7.5 MB/s eta 0:00:01\r\u001b[K     |███████████▏                    | 624 kB 7.5 MB/s eta 0:00:01\r\u001b[K     |███████████▍                    | 634 kB 7.5 MB/s eta 0:00:01\r\u001b[K     |███████████▌                    | 645 kB 7.5 MB/s eta 0:00:01\r\u001b[K     |███████████▊                    | 655 kB 7.5 MB/s eta 0:00:01\r\u001b[K     |████████████                    | 665 kB 7.5 MB/s eta 0:00:01\r\u001b[K     |████████████                    | 675 kB 7.5 MB/s eta 0:00:01\r\u001b[K     |████████████▎                   | 686 kB 7.5 MB/s eta 0:00:01\r\u001b[K     |████████████▌                   | 696 kB 7.5 MB/s eta 0:00:01\r\u001b[K     |████████████▋                   | 706 kB 7.5 MB/s eta 0:00:01\r\u001b[K     |████████████▉                   | 716 kB 7.5 MB/s eta 0:00:01\r\u001b[K     |█████████████                   | 727 kB 7.5 MB/s eta 0:00:01\r\u001b[K     |█████████████▏                  | 737 kB 7.5 MB/s eta 0:00:01\r\u001b[K     |█████████████▍                  | 747 kB 7.5 MB/s eta 0:00:01\r\u001b[K     |█████████████▋                  | 757 kB 7.5 MB/s eta 0:00:01\r\u001b[K     |█████████████▊                  | 768 kB 7.5 MB/s eta 0:00:01\r\u001b[K     |██████████████                  | 778 kB 7.5 MB/s eta 0:00:01\r\u001b[K     |██████████████▏                 | 788 kB 7.5 MB/s eta 0:00:01\r\u001b[K     |██████████████▎                 | 798 kB 7.5 MB/s eta 0:00:01\r\u001b[K     |██████████████▌                 | 808 kB 7.5 MB/s eta 0:00:01\r\u001b[K     |██████████████▋                 | 819 kB 7.5 MB/s eta 0:00:01\r\u001b[K     |██████████████▉                 | 829 kB 7.5 MB/s eta 0:00:01\r\u001b[K     |███████████████                 | 839 kB 7.5 MB/s eta 0:00:01\r\u001b[K     |███████████████▏                | 849 kB 7.5 MB/s eta 0:00:01\r\u001b[K     |███████████████▍                | 860 kB 7.5 MB/s eta 0:00:01\r\u001b[K     |███████████████▋                | 870 kB 7.5 MB/s eta 0:00:01\r\u001b[K     |███████████████▊                | 880 kB 7.5 MB/s eta 0:00:01\r\u001b[K     |████████████████                | 890 kB 7.5 MB/s eta 0:00:01\r\u001b[K     |████████████████▏               | 901 kB 7.5 MB/s eta 0:00:01\r\u001b[K     |████████████████▎               | 911 kB 7.5 MB/s eta 0:00:01\r\u001b[K     |████████████████▌               | 921 kB 7.5 MB/s eta 0:00:01\r\u001b[K     |████████████████▊               | 931 kB 7.5 MB/s eta 0:00:01\r\u001b[K     |████████████████▉               | 942 kB 7.5 MB/s eta 0:00:01\r\u001b[K     |█████████████████               | 952 kB 7.5 MB/s eta 0:00:01\r\u001b[K     |█████████████████▎              | 962 kB 7.5 MB/s eta 0:00:01\r\u001b[K     |█████████████████▍              | 972 kB 7.5 MB/s eta 0:00:01\r\u001b[K     |█████████████████▋              | 983 kB 7.5 MB/s eta 0:00:01\r\u001b[K     |█████████████████▉              | 993 kB 7.5 MB/s eta 0:00:01\r\u001b[K     |██████████████████              | 1.0 MB 7.5 MB/s eta 0:00:01\r\u001b[K     |██████████████████▏             | 1.0 MB 7.5 MB/s eta 0:00:01\r\u001b[K     |██████████████████▎             | 1.0 MB 7.5 MB/s eta 0:00:01\r\u001b[K     |██████████████████▌             | 1.0 MB 7.5 MB/s eta 0:00:01\r\u001b[K     |██████████████████▊             | 1.0 MB 7.5 MB/s eta 0:00:01\r\u001b[K     |██████████████████▉             | 1.1 MB 7.5 MB/s eta 0:00:01\r\u001b[K     |███████████████████             | 1.1 MB 7.5 MB/s eta 0:00:01\r\u001b[K     |███████████████████▎            | 1.1 MB 7.5 MB/s eta 0:00:01\r\u001b[K     |███████████████████▍            | 1.1 MB 7.5 MB/s eta 0:00:01\r\u001b[K     |███████████████████▋            | 1.1 MB 7.5 MB/s eta 0:00:01\r\u001b[K     |███████████████████▉            | 1.1 MB 7.5 MB/s eta 0:00:01\r\u001b[K     |████████████████████            | 1.1 MB 7.5 MB/s eta 0:00:01\r\u001b[K     |████████████████████▏           | 1.1 MB 7.5 MB/s eta 0:00:01\r\u001b[K     |████████████████████▍           | 1.1 MB 7.5 MB/s eta 0:00:01\r\u001b[K     |████████████████████▌           | 1.1 MB 7.5 MB/s eta 0:00:01\r\u001b[K     |████████████████████▊           | 1.2 MB 7.5 MB/s eta 0:00:01\r\u001b[K     |█████████████████████           | 1.2 MB 7.5 MB/s eta 0:00:01\r\u001b[K     |█████████████████████           | 1.2 MB 7.5 MB/s eta 0:00:01\r\u001b[K     |█████████████████████▎          | 1.2 MB 7.5 MB/s eta 0:00:01\r\u001b[K     |█████████████████████▌          | 1.2 MB 7.5 MB/s eta 0:00:01\r\u001b[K     |█████████████████████▋          | 1.2 MB 7.5 MB/s eta 0:00:01\r\u001b[K     |█████████████████████▉          | 1.2 MB 7.5 MB/s eta 0:00:01\r\u001b[K     |██████████████████████          | 1.2 MB 7.5 MB/s eta 0:00:01\r\u001b[K     |██████████████████████▏         | 1.2 MB 7.5 MB/s eta 0:00:01\r\u001b[K     |██████████████████████▍         | 1.2 MB 7.5 MB/s eta 0:00:01\r\u001b[K     |██████████████████████▌         | 1.3 MB 7.5 MB/s eta 0:00:01\r\u001b[K     |██████████████████████▊         | 1.3 MB 7.5 MB/s eta 0:00:01\r\u001b[K     |███████████████████████         | 1.3 MB 7.5 MB/s eta 0:00:01\r\u001b[K     |███████████████████████         | 1.3 MB 7.5 MB/s eta 0:00:01\r\u001b[K     |███████████████████████▎        | 1.3 MB 7.5 MB/s eta 0:00:01\r\u001b[K     |███████████████████████▌        | 1.3 MB 7.5 MB/s eta 0:00:01\r\u001b[K     |███████████████████████▋        | 1.3 MB 7.5 MB/s eta 0:00:01\r\u001b[K     |███████████████████████▉        | 1.3 MB 7.5 MB/s eta 0:00:01\r\u001b[K     |████████████████████████        | 1.3 MB 7.5 MB/s eta 0:00:01\r\u001b[K     |████████████████████████▏       | 1.4 MB 7.5 MB/s eta 0:00:01\r\u001b[K     |████████████████████████▍       | 1.4 MB 7.5 MB/s eta 0:00:01\r\u001b[K     |████████████████████████▋       | 1.4 MB 7.5 MB/s eta 0:00:01\r\u001b[K     |████████████████████████▊       | 1.4 MB 7.5 MB/s eta 0:00:01\r\u001b[K     |█████████████████████████       | 1.4 MB 7.5 MB/s eta 0:00:01\r\u001b[K     |█████████████████████████▏      | 1.4 MB 7.5 MB/s eta 0:00:01\r\u001b[K     |█████████████████████████▎      | 1.4 MB 7.5 MB/s eta 0:00:01\r\u001b[K     |█████████████████████████▌      | 1.4 MB 7.5 MB/s eta 0:00:01\r\u001b[K     |█████████████████████████▋      | 1.4 MB 7.5 MB/s eta 0:00:01\r\u001b[K     |█████████████████████████▉      | 1.4 MB 7.5 MB/s eta 0:00:01\r\u001b[K     |██████████████████████████      | 1.5 MB 7.5 MB/s eta 0:00:01\r\u001b[K     |██████████████████████████▏     | 1.5 MB 7.5 MB/s eta 0:00:01\r\u001b[K     |██████████████████████████▍     | 1.5 MB 7.5 MB/s eta 0:00:01\r\u001b[K     |██████████████████████████▋     | 1.5 MB 7.5 MB/s eta 0:00:01\r\u001b[K     |██████████████████████████▊     | 1.5 MB 7.5 MB/s eta 0:00:01\r\u001b[K     |███████████████████████████     | 1.5 MB 7.5 MB/s eta 0:00:01\r\u001b[K     |███████████████████████████▏    | 1.5 MB 7.5 MB/s eta 0:00:01\r\u001b[K     |███████████████████████████▎    | 1.5 MB 7.5 MB/s eta 0:00:01\r\u001b[K     |███████████████████████████▌    | 1.5 MB 7.5 MB/s eta 0:00:01\r\u001b[K     |███████████████████████████▊    | 1.5 MB 7.5 MB/s eta 0:00:01\r\u001b[K     |███████████████████████████▉    | 1.6 MB 7.5 MB/s eta 0:00:01\r\u001b[K     |████████████████████████████    | 1.6 MB 7.5 MB/s eta 0:00:01\r\u001b[K     |████████████████████████████▎   | 1.6 MB 7.5 MB/s eta 0:00:01\r\u001b[K     |████████████████████████████▍   | 1.6 MB 7.5 MB/s eta 0:00:01\r\u001b[K     |████████████████████████████▋   | 1.6 MB 7.5 MB/s eta 0:00:01\r\u001b[K     |████████████████████████████▉   | 1.6 MB 7.5 MB/s eta 0:00:01\r\u001b[K     |█████████████████████████████   | 1.6 MB 7.5 MB/s eta 0:00:01\r\u001b[K     |█████████████████████████████▏  | 1.6 MB 7.5 MB/s eta 0:00:01\r\u001b[K     |█████████████████████████████▎  | 1.6 MB 7.5 MB/s eta 0:00:01\r\u001b[K     |█████████████████████████████▌  | 1.6 MB 7.5 MB/s eta 0:00:01\r\u001b[K     |█████████████████████████████▊  | 1.7 MB 7.5 MB/s eta 0:00:01\r\u001b[K     |█████████████████████████████▉  | 1.7 MB 7.5 MB/s eta 0:00:01\r\u001b[K     |██████████████████████████████  | 1.7 MB 7.5 MB/s eta 0:00:01\r\u001b[K     |██████████████████████████████▎ | 1.7 MB 7.5 MB/s eta 0:00:01\r\u001b[K     |██████████████████████████████▍ | 1.7 MB 7.5 MB/s eta 0:00:01\r\u001b[K     |██████████████████████████████▋ | 1.7 MB 7.5 MB/s eta 0:00:01\r\u001b[K     |██████████████████████████████▉ | 1.7 MB 7.5 MB/s eta 0:00:01\r\u001b[K     |███████████████████████████████ | 1.7 MB 7.5 MB/s eta 0:00:01\r\u001b[K     |███████████████████████████████▏| 1.7 MB 7.5 MB/s eta 0:00:01\r\u001b[K     |███████████████████████████████▍| 1.8 MB 7.5 MB/s eta 0:00:01\r\u001b[K     |███████████████████████████████▌| 1.8 MB 7.5 MB/s eta 0:00:01\r\u001b[K     |███████████████████████████████▊| 1.8 MB 7.5 MB/s eta 0:00:01\r\u001b[K     |████████████████████████████████| 1.8 MB 7.5 MB/s eta 0:00:01\r\u001b[K     |████████████████████████████████| 1.8 MB 7.5 MB/s \n",
            "\u001b[?25hCollecting docker-pycreds>=0.4.0\n",
            "  Downloading docker_pycreds-0.4.0-py2.py3-none-any.whl (9.0 kB)\n",
            "Requirement already satisfied: PyYAML in /usr/local/lib/python3.7/dist-packages (from wandb) (3.13)\n",
            "Requirement already satisfied: promise<3,>=2.0 in /usr/local/lib/python3.7/dist-packages (from wandb) (2.3)\n",
            "Requirement already satisfied: six>=1.13.0 in /usr/local/lib/python3.7/dist-packages (from wandb) (1.15.0)\n",
            "Requirement already satisfied: setuptools in /usr/local/lib/python3.7/dist-packages (from wandb) (57.4.0)\n",
            "Collecting setproctitle\n",
            "  Downloading setproctitle-1.2.3-cp37-cp37m-manylinux_2_5_x86_64.manylinux1_x86_64.manylinux_2_17_x86_64.manylinux2014_x86_64.whl (29 kB)\n",
            "Requirement already satisfied: Click!=8.0.0,>=7.0 in /usr/local/lib/python3.7/dist-packages (from wandb) (7.1.2)\n",
            "Requirement already satisfied: protobuf>=3.12.0 in /usr/local/lib/python3.7/dist-packages (from wandb) (3.17.3)\n",
            "Collecting GitPython>=1.0.0\n",
            "  Downloading GitPython-3.1.27-py3-none-any.whl (181 kB)\n",
            "\u001b[K     |████████████████████████████████| 181 kB 67.9 MB/s \n",
            "\u001b[?25hRequirement already satisfied: python-dateutil>=2.6.1 in /usr/local/lib/python3.7/dist-packages (from wandb) (2.8.2)\n",
            "Collecting sentry-sdk>=1.0.0\n",
            "  Downloading sentry_sdk-1.5.12-py2.py3-none-any.whl (145 kB)\n",
            "\u001b[K     |████████████████████████████████| 145 kB 49.3 MB/s \n",
            "\u001b[?25hCollecting pathtools\n",
            "  Downloading pathtools-0.1.2.tar.gz (11 kB)\n",
            "Requirement already satisfied: psutil>=5.0.0 in /usr/local/lib/python3.7/dist-packages (from wandb) (5.4.8)\n",
            "Collecting shortuuid>=0.5.0\n",
            "  Downloading shortuuid-1.0.9-py3-none-any.whl (9.4 kB)\n",
            "Requirement already satisfied: requests<3,>=2.0.0 in /usr/local/lib/python3.7/dist-packages (from wandb) (2.23.0)\n",
            "Requirement already satisfied: typing-extensions>=3.7.4.3 in /usr/local/lib/python3.7/dist-packages (from GitPython>=1.0.0->wandb) (4.2.0)\n",
            "Collecting gitdb<5,>=4.0.1\n",
            "  Downloading gitdb-4.0.9-py3-none-any.whl (63 kB)\n",
            "\u001b[K     |████████████████████████████████| 63 kB 2.0 MB/s \n",
            "\u001b[?25hCollecting smmap<6,>=3.0.1\n",
            "  Downloading smmap-5.0.0-py3-none-any.whl (24 kB)\n",
            "Requirement already satisfied: urllib3!=1.25.0,!=1.25.1,<1.26,>=1.21.1 in /usr/local/lib/python3.7/dist-packages (from requests<3,>=2.0.0->wandb) (1.24.3)\n",
            "Requirement already satisfied: chardet<4,>=3.0.2 in /usr/local/lib/python3.7/dist-packages (from requests<3,>=2.0.0->wandb) (3.0.4)\n",
            "Requirement already satisfied: certifi>=2017.4.17 in /usr/local/lib/python3.7/dist-packages (from requests<3,>=2.0.0->wandb) (2021.10.8)\n",
            "Requirement already satisfied: idna<3,>=2.5 in /usr/local/lib/python3.7/dist-packages (from requests<3,>=2.0.0->wandb) (2.10)\n",
            "Building wheels for collected packages: pathtools\n",
            "  Building wheel for pathtools (setup.py) ... \u001b[?25l\u001b[?25hdone\n",
            "  Created wheel for pathtools: filename=pathtools-0.1.2-py3-none-any.whl size=8806 sha256=f85afddee9e41c85bdf94520be74a94c03e2bef8c517be3cb215b91fd09f9722\n",
            "  Stored in directory: /root/.cache/pip/wheels/3e/31/09/fa59cef12cdcfecc627b3d24273699f390e71828921b2cbba2\n",
            "Successfully built pathtools\n",
            "Installing collected packages: smmap, gitdb, shortuuid, setproctitle, sentry-sdk, pathtools, GitPython, docker-pycreds, wandb\n",
            "Successfully installed GitPython-3.1.27 docker-pycreds-0.4.0 gitdb-4.0.9 pathtools-0.1.2 sentry-sdk-1.5.12 setproctitle-1.2.3 shortuuid-1.0.9 smmap-5.0.0 wandb-0.12.16\n",
            "\u001b[34m\u001b[1mwandb\u001b[0m: You can find your API key in your browser here: https://wandb.ai/authorize\n",
            "\u001b[34m\u001b[1mwandb\u001b[0m: Paste an API key from your profile and hit enter, or press ctrl+c to quit: \n",
            "\u001b[34m\u001b[1mwandb\u001b[0m: \u001b[32m\u001b[41mERROR\u001b[0m No API key specified.\n",
            "\u001b[34m\u001b[1mwandb\u001b[0m: You can find your API key in your browser here: https://wandb.ai/authorize\n",
            "\u001b[34m\u001b[1mwandb\u001b[0m: Paste an API key from your profile and hit enter, or press ctrl+c to quit: \n",
            "\u001b[34m\u001b[1mwandb\u001b[0m: Appending key for api.wandb.ai to your netrc file: /root/.netrc\n"
          ]
        }
      ]
    },
    {
      "cell_type": "code",
      "execution_count": null,
      "metadata": {
        "id": "uEfz242c3AWL"
      },
      "outputs": [],
      "source": [
        "#########################################################################\n",
        "## CARGAR LAS LIBRERÍAS NECESARIAS\n",
        "#########################################################################\n",
        "import matplotlib.pyplot as plt\n",
        "import numpy as np\n",
        "import tensorflow as tf\n",
        "\n",
        "from keras.datasets import mnist\n",
        "import numpy as np\n",
        "\n",
        "from random import shuffle,seed\n",
        "\n",
        "import seaborn as sns\n",
        "\n",
        "import keras\n",
        "from tensorflow.keras import layers\n",
        "\n",
        "from keras import metrics\n",
        "import keras.utils\n",
        "\n",
        "from skimage.transform import resize"
      ]
    },
    {
      "cell_type": "code",
      "source": [
        "#########################################################################\n",
        "## INICIAR WANDB\n",
        "#########################################################################\n",
        "import wandb\n",
        "from wandb.keras import WandbCallback"
      ],
      "metadata": {
        "id": "nRjWQli5N0H1"
      },
      "execution_count": null,
      "outputs": []
    },
    {
      "cell_type": "code",
      "execution_count": null,
      "metadata": {
        "id": "xhz8ZYqO3IHM"
      },
      "outputs": [],
      "source": [
        "# Variables globales\n",
        "num_imagenes=250 \n",
        "batch_size=8\n",
        "epochs = 75\n",
        "latent_dim=128"
      ]
    },
    {
      "cell_type": "code",
      "execution_count": null,
      "metadata": {
        "id": "lJEgOnzS3O50",
        "colab": {
          "base_uri": "https://localhost:8080/"
        },
        "outputId": "aaf8dffb-59bb-44c7-f00a-0faa4e7530f1"
      },
      "outputs": [
        {
          "output_type": "stream",
          "name": "stdout",
          "text": [
            "Downloading data from https://storage.googleapis.com/tensorflow/tf-keras-datasets/mnist.npz\n",
            "11493376/11490434 [==============================] - 0s 0us/step\n",
            "11501568/11490434 [==============================] - 0s 0us/step\n"
          ]
        }
      ],
      "source": [
        "################################################################################################################\n",
        "## FUNCIÓN PARA CARGAR EL CONJUNTO DE DATOS\n",
        "###############################################################################################################\n",
        "\n",
        "# La base de datos MNIST contiene 60000 ejemplos en el conjunto de entrenamiento y 10000 en el conjunto de prueba\n",
        "# Las imagenes tienen un tamaño 28x28 que redimensionaremos a 28x28x1\n",
        "def load_data(): \n",
        "    (x_train, y_train), (x_test, y_test) = mnist.load_data()\n",
        "   \n",
        "    #Cambio el tamaño de las imágenes de 28x28 a 28x28x1\n",
        "    x_train= x_train.reshape((60000, 28, 28, 1))\n",
        "    x_test= x_test.reshape((10000, 28, 28, 1))\n",
        "   \n",
        "    x_train = x_train.astype('float32')\n",
        "    x_test = x_test.astype('float32')\n",
        "   \n",
        "    #Añadir algo de ruido en el conjunto de prueba\n",
        "    x_test = np.random.normal(x_test) \n",
        "   \n",
        "    #Normalizamos a escala [0,1] \n",
        "    x_train,x_test= x_train / 255,x_test / 255\n",
        "\n",
        "    return (x_train, y_train), (x_test, y_test)\n",
        "\n",
        "#Cargamos toda la base de datos MNIST\n",
        "(x_train, y_train), (x_test, y_test) = load_data()"
      ]
    },
    {
      "cell_type": "code",
      "execution_count": null,
      "metadata": {
        "id": "f2hMFufB3ZOn"
      },
      "outputs": [],
      "source": [
        "# Barajamos el conjunto de datos para no tener clases contiguas y nos quedamos con num_imagenes imágenes\n",
        "\n",
        "# Declaramos una semilla\n",
        "seed(123456)\n",
        "\n",
        "# Guardamos índices\n",
        "ind_train = list(range(len(x_train)))\n",
        "ind_test = list(range(len(x_test)))\n",
        "\n",
        "# Desordenamos los indices para quedarnos con num_imagenes imagenes aleatorias\n",
        "shuffle(ind_train)\n",
        "shuffle(ind_test)\n",
        "\n",
        "# En base a los indices nos quedamos con num_imagenes imágenes\n",
        "x_train            = x_train[ind_train[0:num_imagenes]]\n",
        "y_train            = y_train[ind_train[0:num_imagenes]]\n",
        "\n",
        "x_test             = x_test[ind_test[0:num_imagenes]]\n",
        "y_test             = y_test[ind_test[0:num_imagenes]]"
      ]
    },
    {
      "cell_type": "code",
      "execution_count": null,
      "metadata": {
        "id": "MnxN5hkx4BRR"
      },
      "outputs": [],
      "source": [
        "################################################################################################################\n",
        "## CLASE WGAN\n",
        "###############################################################################################################\n",
        "class WGAN(keras.Model):\n",
        "    def __init__(self, discriminator, generator, latent_dim, \n",
        "                 discriminator_extra_steps=3, gp_weight=10.0):\n",
        "        super(WGAN, self).__init__()\n",
        "        \n",
        "        self.discriminator = discriminator\n",
        "        self.generator = generator\n",
        "        self.latent_dim = latent_dim\n",
        "        self.d_steps = discriminator_extra_steps\n",
        "        self.gp_weight = gp_weight\n",
        "\n",
        "    def compile(self, d_optimizer, g_optimizer, d_loss_fn, g_loss_fn):\n",
        "        super(WGAN, self).compile()\n",
        "        self.d_optimizer = d_optimizer\n",
        "        self.g_optimizer = g_optimizer\n",
        "        self.d_loss_fn = d_loss_fn\n",
        "        self.g_loss_fn = g_loss_fn\n",
        "\n",
        "    # Evaluación del Discriminador\n",
        "    def evaluate_D(self):\n",
        "      #Generamos las imágenes a partir del espacio latente y el generador\n",
        "      batch_size = tf.shape(x_train)[0]\n",
        "      random_latent_vectors = tf.random.normal( shape=(batch_size, self.latent_dim))\n",
        "      generated_images = self.generator(random_latent_vectors)\n",
        "      \n",
        "      #Compilamos el modelo discriminador\n",
        "      self.discriminator.compile(optimizer=self.d_optimizer,loss=self.d_loss_fn,metrics=['accuracy'])\n",
        "      \n",
        "      #Evaluación del discriminador con las imágenes reales\n",
        "      loss_real, acc_real = self.discriminator.evaluate(x_test,tf.ones((batch_size, 1),dtype=tf.dtypes.float32), verbose=1)\n",
        "\n",
        "      #Evaluación del discriminador con las imágenes falsas\n",
        "      loss_fake, acc_fake = self.discriminator.evaluate(generated_images,tf.zeros((batch_size, 1),dtype=tf.dtypes.float32) , verbose=1)\n",
        "\n",
        "      # Mostramos por pantalla un resumen \n",
        "      print('>Accuracy real: %.0f%%, fake: %.0f%%' % (acc_real*100, acc_fake*100))\n",
        "      print('>Loss real: ')\n",
        "      print(loss_real)\n",
        "      print('>Loss fake: ')\n",
        "      print(loss_fake)\n",
        "      \n",
        "    # Evaluación del Generador\n",
        "    def evaluate_G(self):\n",
        "      #Generamos las imágenes a partir del espacio latente y el generador\n",
        "      batch_size = tf.shape(x_train)[0]\n",
        "      random_latent_vectors = tf.random.normal( shape=(batch_size, self.latent_dim))\n",
        "      generated_images = self.generator(random_latent_vectors)\n",
        "\n",
        "      #Visualizamos varias imágenes generadas seleccionadas de forma aleatoria\n",
        "      for i in range(9):\n",
        "          random_latent_vectors = tf.random.normal(\n",
        "        shape=(9, 128))\n",
        "          pred = generator(random_latent_vectors )\n",
        "          plt.subplot(331 + i)\n",
        "          plt.axis('off')\n",
        "          plt.imshow(np.squeeze(pred[0]), cmap='gray')\n",
        "      plt.show()\n",
        "\n",
        "    # Calculo de la penalización del gradiente\n",
        "    def gradient_penalty(self, batch_size, real_images, fake_images):\n",
        "        # Imagen interpolada\n",
        "        alpha = tf.random.normal([batch_size, 1, 1, 1], 0.0, 1.0)\n",
        "        diff = fake_images - real_images\n",
        "        interpolated = real_images + alpha * diff\n",
        "\n",
        "        with tf.GradientTape() as gp_tape:\n",
        "            gp_tape.watch(interpolated)\n",
        "            pred = self.discriminator(interpolated, training=True)\n",
        "\n",
        "        grads = gp_tape.gradient(pred, [interpolated])[0]\n",
        "        norm = tf.sqrt(tf.reduce_sum(tf.square(grads), axis=[1, 2, 3]))\n",
        "        gp = tf.reduce_mean((norm - 1.0) ** 2)\n",
        "        return gp\n",
        "\n",
        "    #Entrenamiento\n",
        "    def train_step(self, real_images):\n",
        "      if isinstance(real_images, tuple):\n",
        "          real_images = real_images[0]\n",
        "\n",
        "      batch_size = tf.shape(real_images)[0]\n",
        "\n",
        "      #ENTRENAMIENTO DEL DISCRIMINADOR: se entrena al discriminador varias veces entre cada actualización del generador.\n",
        "      for i in range(self.d_steps):\n",
        "          # Vector latente\n",
        "          random_latent_vectors = tf.random.normal(\n",
        "              shape=(batch_size, self.latent_dim)\n",
        "          )\n",
        "          with tf.GradientTape() as tape:\n",
        "              #Generamos la imagen falsa\n",
        "              fake_images = self.generator(random_latent_vectors, training=True)\n",
        "              # Obtenemos los logits de la imagen falsa\n",
        "              fake_logits = self.discriminator(fake_images, training=True)\n",
        "              # Obtenemos los logits de la imagen real\n",
        "              real_logits = self.discriminator(real_images, training=True)\n",
        "\n",
        "              # Calculamos la pérdida del discriminador usando los logits de la imagen real y falsa\n",
        "              d_cost = self.d_loss_fn(real_img=real_logits, fake_img=fake_logits)\n",
        "              # Calculamos la penalización del gradiente\n",
        "              gp = self.gradient_penalty(batch_size, real_images, fake_images)\n",
        "              # Añadimos la penalizacion del gradiente a la pérdida del discriminador\n",
        "              d_loss = d_cost + gp * self.gp_weight\n",
        "\n",
        "          # Obtenemos el gradiente w.r.t de la función de  pérdida del discriminador\n",
        "          d_gradient = tape.gradient(d_loss, self.discriminator.trainable_variables)\n",
        "          # Actualizamos los pesos del modelo DISCRIMINADOR usando el optimizador del discriminador\n",
        "          self.d_optimizer.apply_gradients(zip(d_gradient, self.discriminator.trainable_variables))\n",
        "\n",
        "      # ENTRENAMIENTO DEL GENERADOR\n",
        "      random_latent_vectors = tf.random.normal(shape=(batch_size, self.latent_dim))\n",
        "      with tf.GradientTape() as tape:\n",
        "          # Generamos la imagen falsa a traves del generador\n",
        "          generated_images = self.generator(random_latent_vectors, training=True)\n",
        "          # Obtenemos los logits del discriminador en la imagen falsa\n",
        "          gen_img_logits = self.discriminator(generated_images, training=True)\n",
        "          # Calculamos la función de pérdida del generador\n",
        "          g_loss = self.g_loss_fn(gen_img_logits)\n",
        "\n",
        "      # Conseguimos el gradiente w.r.t de la pérdida del generador\n",
        "      gen_gradient = tape.gradient(g_loss, self.generator.trainable_variables)\n",
        "      # Actualizamos los pesos del GENERATOR usando el optimizador del generador\n",
        "      self.g_optimizer.apply_gradients(zip(gen_gradient, self.generator.trainable_variables))\n",
        "      return {\"d_loss\": d_loss, \"g_loss\": g_loss}"
      ]
    },
    {
      "cell_type": "code",
      "source": [
        "################################################################################################################\n",
        "## Función para mostrar por pantalla 9 imágenes reales, 9 imagenes reales con ruido \n",
        "## y 9 imágenes generadas por nuestro modelo generador\n",
        "###############################################################################################################\n",
        "def generated_images_plot(original, noised_data, generator):\n",
        "    \"\"\"Plot subplot of images during training.\"\"\"\n",
        "    print('NOISED')\n",
        "    for i in range(9):\n",
        "        plt.subplot(331 + i)\n",
        "        plt.axis('off')\n",
        "        plt.imshow(np.squeeze(noised_data[i]), cmap='gray')\n",
        "    plt.show()\n",
        "    \n",
        "    print('GENERATED')\n",
        "    for i in range(9):\n",
        "        random_latent_vectors = tf.random.normal(\n",
        "      shape=(9, 128))\n",
        "        pred = generator(random_latent_vectors )\n",
        "        plt.subplot(331 + i)\n",
        "        plt.axis('off')\n",
        "        plt.imshow(np.squeeze(pred[0]), cmap='gray')\n",
        "    plt.show()\n",
        "    print('ORIGINAL')\n",
        "    for i in range(9):\n",
        "        plt.subplot(331 + i)\n",
        "        plt.axis('off')\n",
        "        plt.imshow(np.squeeze(original[i]), cmap='gray')\n",
        "    plt.show()\n"
      ],
      "metadata": {
        "id": "VgjhTGl2_ER8"
      },
      "execution_count": null,
      "outputs": []
    },
    {
      "cell_type": "code",
      "execution_count": null,
      "metadata": {
        "id": "ZWrlSQEI4pNr"
      },
      "outputs": [],
      "source": [
        "################################################################################\n",
        "# Declaramos optimizadores y funciones de pérdida del generador-discriminador\n",
        "#################################################################################\n",
        "generator_optimizer = tf.keras.optimizers.Adam(\n",
        "\tlearning_rate=0.0001, beta_1=0.5, beta_2=0.9)\n",
        "\n",
        "discriminator_optimizer =tf.keras.optimizers.Adam(\n",
        "\tlearning_rate=0.0001, beta_1=0.5, beta_2=0.9)\n",
        "\n",
        "def discriminator_loss(real_img, fake_img):\n",
        "    real_loss = tf.reduce_mean(real_img)\n",
        "    fake_loss = tf.reduce_mean(fake_img)\n",
        "    return fake_loss - real_loss\n",
        "\n",
        "def generator_loss(fake_img):\n",
        "    return -tf.reduce_mean(fake_img)"
      ]
    },
    {
      "cell_type": "markdown",
      "source": [
        "# EXPERIMENTO 1"
      ],
      "metadata": {
        "id": "Jn5mD8lFW_SF"
      }
    },
    {
      "cell_type": "code",
      "source": [
        "discriminator=keras.Sequential(\n",
        "    [\n",
        "        keras.Input(shape=(28,28,1)),\n",
        "        layers.Conv2D(64,kernel_size=3,strides=2,padding=\"same\"),\n",
        "        layers.LeakyReLU(alpha=0.2),\n",
        "        layers.Conv2D(128, kernel_size=3, strides=2, padding=\"same\"),\n",
        "        layers.LeakyReLU(alpha=0.2),\n",
        "        layers.Flatten(),\n",
        "        layers.Dropout(0.2),\n",
        "        layers.Dense(1), #Se elimina la activación sigmoidea para que la salida no este en [0,1]\n",
        "    ],\n",
        "    name=\"discriminator\"\n",
        "\n",
        ")\n",
        "discriminator.summary()"
      ],
      "metadata": {
        "colab": {
          "base_uri": "https://localhost:8080/"
        },
        "id": "2FDIHLL5Xc93",
        "outputId": "0140f929-5d17-4526-cdf7-7d93f6ebd243"
      },
      "execution_count": null,
      "outputs": [
        {
          "output_type": "stream",
          "name": "stdout",
          "text": [
            "Model: \"discriminator\"\n",
            "_________________________________________________________________\n",
            " Layer (type)                Output Shape              Param #   \n",
            "=================================================================\n",
            " conv2d (Conv2D)             (None, 14, 14, 64)        640       \n",
            "                                                                 \n",
            " leaky_re_lu (LeakyReLU)     (None, 14, 14, 64)        0         \n",
            "                                                                 \n",
            " conv2d_1 (Conv2D)           (None, 7, 7, 128)         73856     \n",
            "                                                                 \n",
            " leaky_re_lu_1 (LeakyReLU)   (None, 7, 7, 128)         0         \n",
            "                                                                 \n",
            " flatten (Flatten)           (None, 6272)              0         \n",
            "                                                                 \n",
            " dropout (Dropout)           (None, 6272)              0         \n",
            "                                                                 \n",
            " dense (Dense)               (None, 1)                 6273      \n",
            "                                                                 \n",
            "=================================================================\n",
            "Total params: 80,769\n",
            "Trainable params: 80,769\n",
            "Non-trainable params: 0\n",
            "_________________________________________________________________\n"
          ]
        }
      ]
    },
    {
      "cell_type": "code",
      "source": [
        "generator=keras.Sequential(\n",
        "    [\n",
        "        keras.Input(shape=(latent_dim,)),\n",
        "        layers.Dense(7*7*128),\n",
        "        layers.Reshape((7,7,128)),\n",
        "        layers.Conv2DTranspose(128, kernel_size=3, strides=2, padding=\"same\"),\n",
        "        layers.LeakyReLU(alpha=0.2),\n",
        "        layers.Conv2DTranspose(64, kernel_size=3, strides=2, padding=\"same\"),\n",
        "        layers.LeakyReLU(alpha=0.2),\n",
        "        layers.Conv2D(1, kernel_size=3, padding=\"same\", activation=\"sigmoid\"),\n",
        "    ],\n",
        "    name=\"generator\",\n",
        ")\n",
        "generator.summary()"
      ],
      "metadata": {
        "colab": {
          "base_uri": "https://localhost:8080/"
        },
        "id": "hZFskdjo7ovk",
        "outputId": "9b106f8b-aba9-4193-dc79-ddb0511387fe"
      },
      "execution_count": null,
      "outputs": [
        {
          "output_type": "stream",
          "name": "stdout",
          "text": [
            "Model: \"generator\"\n",
            "_________________________________________________________________\n",
            " Layer (type)                Output Shape              Param #   \n",
            "=================================================================\n",
            " dense_1 (Dense)             (None, 6272)              809088    \n",
            "                                                                 \n",
            " reshape (Reshape)           (None, 7, 7, 128)         0         \n",
            "                                                                 \n",
            " conv2d_transpose (Conv2DTra  (None, 14, 14, 128)      147584    \n",
            " nspose)                                                         \n",
            "                                                                 \n",
            " leaky_re_lu_2 (LeakyReLU)   (None, 14, 14, 128)       0         \n",
            "                                                                 \n",
            " conv2d_transpose_1 (Conv2DT  (None, 28, 28, 64)       73792     \n",
            " ranspose)                                                       \n",
            "                                                                 \n",
            " leaky_re_lu_3 (LeakyReLU)   (None, 28, 28, 64)        0         \n",
            "                                                                 \n",
            " conv2d_2 (Conv2D)           (None, 28, 28, 1)         577       \n",
            "                                                                 \n",
            "=================================================================\n",
            "Total params: 1,031,041\n",
            "Trainable params: 1,031,041\n",
            "Non-trainable params: 0\n",
            "_________________________________________________________________\n"
          ]
        }
      ]
    },
    {
      "cell_type": "code",
      "execution_count": null,
      "metadata": {
        "colab": {
          "base_uri": "https://localhost:8080/",
          "height": 1000,
          "referenced_widgets": [
            "b62bbc2fc0a5452196edaf8a487dafbb",
            "976b8a747fc9459d9e69677108f095bd",
            "3fafba52523444ab80aad1443369f1dd",
            "3d1d9272d49b4d93812e17f66c1a2522",
            "b276477e3cb24c96a762bafae5fed82a",
            "fdd6376069ce4d298ee3a5d356ea6521",
            "d7600b08a61f454b80733772b50863d1",
            "e48d44fd5dae49f2a95a7d22e3aaca87"
          ]
        },
        "id": "HvssRs004rG9",
        "outputId": "d7aea051-beb7-4502-f506-9299ed6b5f97"
      },
      "outputs": [
        {
          "output_type": "stream",
          "name": "stderr",
          "text": [
            "\u001b[34m\u001b[1mwandb\u001b[0m: Currently logged in as: \u001b[33mugr-sail\u001b[0m (\u001b[33msail-ugr\u001b[0m). Use \u001b[1m`wandb login --relogin`\u001b[0m to force relogin\n"
          ]
        },
        {
          "output_type": "display_data",
          "data": {
            "text/plain": [
              "<IPython.core.display.HTML object>"
            ],
            "text/html": [
              "Tracking run with wandb version 0.12.16"
            ]
          },
          "metadata": {}
        },
        {
          "output_type": "display_data",
          "data": {
            "text/plain": [
              "<IPython.core.display.HTML object>"
            ],
            "text/html": [
              "Run data is saved locally in <code>/content/wandb/run-20220518_162232-15s4rpba</code>"
            ]
          },
          "metadata": {}
        },
        {
          "output_type": "display_data",
          "data": {
            "text/plain": [
              "<IPython.core.display.HTML object>"
            ],
            "text/html": [
              "Syncing run <strong><a href=\"https://wandb.ai/sail-ugr/tfg-silvia-barroso/runs/15s4rpba\" target=\"_blank\">rural-forest-22</a></strong> to <a href=\"https://wandb.ai/sail-ugr/tfg-silvia-barroso\" target=\"_blank\">Weights & Biases</a> (<a href=\"https://wandb.me/run\" target=\"_blank\">docs</a>)<br/>"
            ]
          },
          "metadata": {}
        },
        {
          "output_type": "stream",
          "name": "stderr",
          "text": [
            "\u001b[34m\u001b[1mwandb\u001b[0m: \u001b[33mWARNING\u001b[0m The save_model argument by default saves the model in the HDF5 format that cannot save custom objects like subclassed models and custom layers. This behavior will be deprecated in a future release in favor of the SavedModel format. Meanwhile, the HDF5 model is saved as W&B files and the SavedModel as W&B Artifacts.\n"
          ]
        },
        {
          "output_type": "stream",
          "name": "stdout",
          "text": [
            "Epoch 1/75\n",
            "8/8 [==============================] - 20s 37ms/step - d_loss: 5.8381 - g_loss: 0.6479 - _timestamp: 1652890979.0000 - _runtime: 27.0000\n",
            "Epoch 2/75\n",
            "8/8 [==============================] - 0s 27ms/step - d_loss: -0.1282 - g_loss: 3.4255 - _timestamp: 1652890979.0000 - _runtime: 27.0000\n",
            "Epoch 3/75\n",
            "8/8 [==============================] - 0s 27ms/step - d_loss: -7.1498 - g_loss: 9.4369 - _timestamp: 1652890979.0000 - _runtime: 27.0000\n",
            "Epoch 4/75\n",
            "8/8 [==============================] - 0s 28ms/step - d_loss: -10.7165 - g_loss: 14.8039 - _timestamp: 1652890979.0000 - _runtime: 27.0000\n",
            "Epoch 5/75\n",
            "8/8 [==============================] - 0s 28ms/step - d_loss: -12.5840 - g_loss: 16.9973 - _timestamp: 1652890980.0000 - _runtime: 28.0000\n",
            "Epoch 6/75\n",
            "8/8 [==============================] - 0s 27ms/step - d_loss: -13.1627 - g_loss: 17.1258 - _timestamp: 1652890980.0000 - _runtime: 28.0000\n",
            "Epoch 7/75\n",
            "8/8 [==============================] - 0s 27ms/step - d_loss: -13.5608 - g_loss: 15.2130 - _timestamp: 1652890980.0000 - _runtime: 28.0000\n",
            "Epoch 8/75\n",
            "8/8 [==============================] - 0s 27ms/step - d_loss: -13.0086 - g_loss: 12.2875 - _timestamp: 1652890980.0000 - _runtime: 28.0000\n",
            "Epoch 9/75\n",
            "8/8 [==============================] - 0s 27ms/step - d_loss: -11.8764 - g_loss: 9.0979 - _timestamp: 1652890981.0000 - _runtime: 29.0000\n",
            "Epoch 10/75\n",
            "8/8 [==============================] - 0s 27ms/step - d_loss: -11.7257 - g_loss: 5.6226 - _timestamp: 1652890981.0000 - _runtime: 29.0000\n",
            "Epoch 11/75\n",
            "8/8 [==============================] - 0s 27ms/step - d_loss: -11.1793 - g_loss: 2.3473 - _timestamp: 1652890981.0000 - _runtime: 29.0000\n",
            "Epoch 12/75\n",
            "8/8 [==============================] - 0s 27ms/step - d_loss: -10.5480 - g_loss: -0.4098 - _timestamp: 1652890981.0000 - _runtime: 29.0000\n",
            "Epoch 13/75\n",
            "8/8 [==============================] - 0s 28ms/step - d_loss: -9.9767 - g_loss: -2.5177 - _timestamp: 1652890981.0000 - _runtime: 29.0000\n",
            "Epoch 14/75\n",
            "8/8 [==============================] - 0s 28ms/step - d_loss: -9.4603 - g_loss: -4.2776 - _timestamp: 1652890982.0000 - _runtime: 30.0000\n",
            "Epoch 15/75\n",
            "8/8 [==============================] - 0s 27ms/step - d_loss: -9.2177 - g_loss: -5.3307 - _timestamp: 1652890982.0000 - _runtime: 30.0000\n",
            "Epoch 16/75\n",
            "8/8 [==============================] - 0s 28ms/step - d_loss: -8.5993 - g_loss: -6.3837 - _timestamp: 1652890982.0000 - _runtime: 30.0000\n",
            "Epoch 17/75\n",
            "8/8 [==============================] - 0s 29ms/step - d_loss: -7.7429 - g_loss: -6.6594 - _timestamp: 1652890982.0000 - _runtime: 30.0000\n",
            "Epoch 18/75\n",
            "8/8 [==============================] - 0s 28ms/step - d_loss: -7.6516 - g_loss: -6.8431 - _timestamp: 1652890983.0000 - _runtime: 31.0000\n",
            "Epoch 19/75\n",
            "8/8 [==============================] - 0s 29ms/step - d_loss: -7.0134 - g_loss: -6.9525 - _timestamp: 1652890983.0000 - _runtime: 31.0000\n",
            "Epoch 20/75\n",
            "8/8 [==============================] - 0s 27ms/step - d_loss: -6.6727 - g_loss: -7.0832 - _timestamp: 1652890983.0000 - _runtime: 31.0000\n",
            "Epoch 21/75\n",
            "8/8 [==============================] - 0s 28ms/step - d_loss: -6.2923 - g_loss: -6.3996 - _timestamp: 1652890983.0000 - _runtime: 31.0000\n",
            "Epoch 22/75\n",
            "8/8 [==============================] - 0s 28ms/step - d_loss: -5.6712 - g_loss: -5.9494 - _timestamp: 1652890983.0000 - _runtime: 31.0000\n",
            "Epoch 23/75\n",
            "8/8 [==============================] - 0s 27ms/step - d_loss: -5.2130 - g_loss: -6.0350 - _timestamp: 1652890984.0000 - _runtime: 32.0000\n",
            "Epoch 24/75\n",
            "8/8 [==============================] - 0s 27ms/step - d_loss: -4.8203 - g_loss: -5.6688 - _timestamp: 1652890984.0000 - _runtime: 32.0000\n",
            "Epoch 25/75\n",
            "8/8 [==============================] - 0s 28ms/step - d_loss: -4.7000 - g_loss: -5.1547 - _timestamp: 1652890984.0000 - _runtime: 32.0000\n",
            "Epoch 26/75\n",
            "8/8 [==============================] - 0s 28ms/step - d_loss: -4.4329 - g_loss: -4.7902 - _timestamp: 1652890984.0000 - _runtime: 32.0000\n",
            "Epoch 27/75\n",
            "8/8 [==============================] - 0s 28ms/step - d_loss: -3.8763 - g_loss: -4.0940 - _timestamp: 1652890985.0000 - _runtime: 33.0000\n",
            "Epoch 28/75\n",
            "8/8 [==============================] - 0s 28ms/step - d_loss: -3.8239 - g_loss: -3.5586 - _timestamp: 1652890985.0000 - _runtime: 33.0000\n",
            "Epoch 29/75\n",
            "8/8 [==============================] - 0s 27ms/step - d_loss: -3.5668 - g_loss: -3.0257 - _timestamp: 1652890985.0000 - _runtime: 33.0000\n",
            "Epoch 30/75\n",
            "8/8 [==============================] - 0s 27ms/step - d_loss: -3.6116 - g_loss: -2.7487 - _timestamp: 1652890985.0000 - _runtime: 33.0000\n",
            "Epoch 31/75\n",
            "8/8 [==============================] - 0s 29ms/step - d_loss: -3.3162 - g_loss: -2.4201 - _timestamp: 1652890986.0000 - _runtime: 34.0000\n",
            "Epoch 32/75\n",
            "8/8 [==============================] - 0s 27ms/step - d_loss: -3.2912 - g_loss: -2.1720 - _timestamp: 1652890986.0000 - _runtime: 34.0000\n",
            "Epoch 33/75\n",
            "8/8 [==============================] - 0s 27ms/step - d_loss: -3.0992 - g_loss: -1.5552 - _timestamp: 1652890986.0000 - _runtime: 34.0000\n",
            "Epoch 34/75\n",
            "8/8 [==============================] - 0s 27ms/step - d_loss: -3.0988 - g_loss: -1.2084 - _timestamp: 1652890986.0000 - _runtime: 34.0000\n",
            "Epoch 35/75\n",
            "8/8 [==============================] - 0s 27ms/step - d_loss: -2.9349 - g_loss: -0.7641 - _timestamp: 1652890986.0000 - _runtime: 34.0000\n",
            "Epoch 36/75\n",
            "8/8 [==============================] - 0s 29ms/step - d_loss: -2.7460 - g_loss: -0.7602 - _timestamp: 1652890987.0000 - _runtime: 35.0000\n",
            "Epoch 37/75\n",
            "8/8 [==============================] - 0s 26ms/step - d_loss: -2.6504 - g_loss: -0.5896 - _timestamp: 1652890987.0000 - _runtime: 35.0000\n",
            "Epoch 38/75\n",
            "8/8 [==============================] - 0s 27ms/step - d_loss: -2.6765 - g_loss: -0.1997 - _timestamp: 1652890987.0000 - _runtime: 35.0000\n",
            "Epoch 39/75\n",
            "8/8 [==============================] - 0s 27ms/step - d_loss: -2.5414 - g_loss: -0.2406 - _timestamp: 1652890987.0000 - _runtime: 35.0000\n",
            "Epoch 40/75\n",
            "8/8 [==============================] - 0s 28ms/step - d_loss: -2.5624 - g_loss: -0.0345 - _timestamp: 1652890988.0000 - _runtime: 36.0000\n",
            "Epoch 41/75\n",
            "8/8 [==============================] - 0s 28ms/step - d_loss: -2.3120 - g_loss: -0.0514 - _timestamp: 1652890988.0000 - _runtime: 36.0000\n",
            "Epoch 42/75\n",
            "8/8 [==============================] - 0s 27ms/step - d_loss: -2.3514 - g_loss: -0.0820 - _timestamp: 1652890988.0000 - _runtime: 36.0000\n",
            "Epoch 43/75\n",
            "8/8 [==============================] - 0s 28ms/step - d_loss: -2.1831 - g_loss: 0.4139 - _timestamp: 1652890988.0000 - _runtime: 36.0000\n",
            "Epoch 44/75\n",
            "8/8 [==============================] - 0s 29ms/step - d_loss: -2.1624 - g_loss: 0.5323 - _timestamp: 1652890988.0000 - _runtime: 36.0000\n",
            "Epoch 45/75\n",
            "8/8 [==============================] - 0s 31ms/step - d_loss: -2.1242 - g_loss: 0.9600 - _timestamp: 1652890989.0000 - _runtime: 37.0000\n",
            "Epoch 46/75\n",
            "8/8 [==============================] - 0s 27ms/step - d_loss: -2.0787 - g_loss: 0.7326 - _timestamp: 1652890989.0000 - _runtime: 37.0000\n",
            "Epoch 47/75\n",
            "8/8 [==============================] - 0s 27ms/step - d_loss: -2.0600 - g_loss: 0.7059 - _timestamp: 1652890989.0000 - _runtime: 37.0000\n",
            "Epoch 48/75\n",
            "8/8 [==============================] - 0s 27ms/step - d_loss: -1.8843 - g_loss: 0.9271 - _timestamp: 1652890989.0000 - _runtime: 37.0000\n",
            "Epoch 49/75\n",
            "8/8 [==============================] - 0s 28ms/step - d_loss: -1.9915 - g_loss: 1.3382 - _timestamp: 1652890990.0000 - _runtime: 38.0000\n",
            "Epoch 50/75\n",
            "8/8 [==============================] - 0s 28ms/step - d_loss: -1.8447 - g_loss: 1.5599 - _timestamp: 1652890990.0000 - _runtime: 38.0000\n",
            "Epoch 51/75\n",
            "8/8 [==============================] - 0s 27ms/step - d_loss: -1.8775 - g_loss: 1.4098 - _timestamp: 1652890990.0000 - _runtime: 38.0000\n",
            "Epoch 52/75\n",
            "8/8 [==============================] - 0s 27ms/step - d_loss: -1.7749 - g_loss: 1.6391 - _timestamp: 1652890990.0000 - _runtime: 38.0000\n",
            "Epoch 53/75\n",
            "8/8 [==============================] - 0s 30ms/step - d_loss: -1.7788 - g_loss: 2.1611 - _timestamp: 1652890991.0000 - _runtime: 39.0000\n",
            "Epoch 54/75\n",
            "8/8 [==============================] - 0s 28ms/step - d_loss: -1.7843 - g_loss: 2.0576 - _timestamp: 1652890991.0000 - _runtime: 39.0000\n",
            "Epoch 55/75\n",
            "8/8 [==============================] - 0s 27ms/step - d_loss: -1.6417 - g_loss: 2.2827 - _timestamp: 1652890991.0000 - _runtime: 39.0000\n",
            "Epoch 56/75\n",
            "8/8 [==============================] - 0s 27ms/step - d_loss: -1.6546 - g_loss: 2.5067 - _timestamp: 1652890991.0000 - _runtime: 39.0000\n",
            "Epoch 57/75\n",
            "8/8 [==============================] - 0s 27ms/step - d_loss: -1.5810 - g_loss: 2.9057 - _timestamp: 1652890991.0000 - _runtime: 39.0000\n",
            "Epoch 58/75\n",
            "8/8 [==============================] - 0s 29ms/step - d_loss: -1.4785 - g_loss: 2.9972 - _timestamp: 1652890992.0000 - _runtime: 40.0000\n",
            "Epoch 59/75\n",
            "8/8 [==============================] - 0s 27ms/step - d_loss: -1.5803 - g_loss: 3.0452 - _timestamp: 1652890992.0000 - _runtime: 40.0000\n",
            "Epoch 60/75\n",
            "8/8 [==============================] - 0s 27ms/step - d_loss: -1.3974 - g_loss: 3.1011 - _timestamp: 1652890992.0000 - _runtime: 40.0000\n",
            "Epoch 61/75\n",
            "8/8 [==============================] - 0s 28ms/step - d_loss: -1.5611 - g_loss: 3.5647 - _timestamp: 1652890992.0000 - _runtime: 40.0000\n",
            "Epoch 62/75\n",
            "8/8 [==============================] - 0s 31ms/step - d_loss: -1.4425 - g_loss: 3.7199 - _timestamp: 1652890993.0000 - _runtime: 41.0000\n",
            "Epoch 63/75\n",
            "8/8 [==============================] - 0s 28ms/step - d_loss: -1.3549 - g_loss: 3.7492 - _timestamp: 1652890993.0000 - _runtime: 41.0000\n",
            "Epoch 64/75\n",
            "8/8 [==============================] - 0s 28ms/step - d_loss: -1.3095 - g_loss: 3.9637 - _timestamp: 1652890993.0000 - _runtime: 41.0000\n",
            "Epoch 65/75\n",
            "8/8 [==============================] - 0s 28ms/step - d_loss: -1.4022 - g_loss: 4.3880 - _timestamp: 1652890993.0000 - _runtime: 41.0000\n",
            "Epoch 66/75\n",
            "8/8 [==============================] - 0s 29ms/step - d_loss: -1.3329 - g_loss: 4.6312 - _timestamp: 1652890994.0000 - _runtime: 42.0000\n",
            "Epoch 67/75\n",
            "8/8 [==============================] - 0s 28ms/step - d_loss: -1.3980 - g_loss: 4.7620 - _timestamp: 1652890994.0000 - _runtime: 42.0000\n",
            "Epoch 68/75\n",
            "8/8 [==============================] - 0s 28ms/step - d_loss: -1.2318 - g_loss: 4.8922 - _timestamp: 1652890994.0000 - _runtime: 42.0000\n",
            "Epoch 69/75\n",
            "8/8 [==============================] - 0s 28ms/step - d_loss: -1.3026 - g_loss: 4.9819 - _timestamp: 1652890994.0000 - _runtime: 42.0000\n",
            "Epoch 70/75\n",
            "8/8 [==============================] - 0s 27ms/step - d_loss: -1.2410 - g_loss: 5.3763 - _timestamp: 1652890994.0000 - _runtime: 42.0000\n",
            "Epoch 71/75\n",
            "8/8 [==============================] - 0s 28ms/step - d_loss: -1.2037 - g_loss: 5.4512 - _timestamp: 1652890995.0000 - _runtime: 43.0000\n",
            "Epoch 72/75\n",
            "8/8 [==============================] - 0s 27ms/step - d_loss: -1.2587 - g_loss: 5.9746 - _timestamp: 1652890995.0000 - _runtime: 43.0000\n",
            "Epoch 73/75\n",
            "8/8 [==============================] - 0s 28ms/step - d_loss: -1.0995 - g_loss: 5.7860 - _timestamp: 1652890995.0000 - _runtime: 43.0000\n",
            "Epoch 74/75\n",
            "8/8 [==============================] - 0s 28ms/step - d_loss: -1.1658 - g_loss: 6.5068 - _timestamp: 1652890995.0000 - _runtime: 43.0000\n",
            "Epoch 75/75\n",
            "8/8 [==============================] - 0s 28ms/step - d_loss: -1.1622 - g_loss: 6.5486 - _timestamp: 1652890996.0000 - _runtime: 44.0000\n"
          ]
        },
        {
          "output_type": "display_data",
          "data": {
            "text/plain": [
              "<IPython.core.display.HTML object>"
            ],
            "text/html": [
              "Waiting for W&B process to finish... <strong style=\"color:green\">(success).</strong>"
            ]
          },
          "metadata": {}
        },
        {
          "output_type": "display_data",
          "data": {
            "text/plain": [
              "VBox(children=(Label(value='0.001 MB of 0.001 MB uploaded (0.000 MB deduped)\\r'), FloatProgress(value=1.0, max…"
            ],
            "application/vnd.jupyter.widget-view+json": {
              "version_major": 2,
              "version_minor": 0,
              "model_id": "b62bbc2fc0a5452196edaf8a487dafbb"
            }
          },
          "metadata": {}
        },
        {
          "output_type": "display_data",
          "data": {
            "text/plain": [
              "<IPython.core.display.HTML object>"
            ],
            "text/html": [
              "<style>\n",
              "    table.wandb td:nth-child(1) { padding: 0 10px; text-align: left ; width: auto;} td:nth-child(2) {text-align: left ; width: 100%}\n",
              "    .wandb-row { display: flex; flex-direction: row; flex-wrap: wrap; justify-content: flex-start; width: 100% }\n",
              "    .wandb-col { display: flex; flex-direction: column; flex-basis: 100%; flex: 1; padding: 10px; }\n",
              "    </style>\n",
              "<div class=\"wandb-row\"><div class=\"wandb-col\"><h3>Run history:</h3><br/><table class=\"wandb\"><tr><td>d_loss</td><td>█▅▂▁▁▂▂▃▃▃▄▄▅▄▅▅▅▅▅▅▅▅▅▅▆▆▆▆▆▆▆▆▆▆▆▆▆▆▆▆</td></tr><tr><td>epoch</td><td>▁▁▁▁▂▂▂▂▂▃▃▃▃▃▃▄▄▄▄▄▅▅▅▅▅▅▆▆▆▆▆▆▇▇▇▇▇███</td></tr><tr><td>g_loss</td><td>▃▅██▆▄▃▂▁▁▁▁▁▂▂▂▂▃▃▃▃▃▃▃▃▃▃▄▄▄▄▄▄▄▄▅▅▅▅▅</td></tr></table><br/></div><div class=\"wandb-col\"><h3>Run summary:</h3><br/><table class=\"wandb\"><tr><td>d_loss</td><td>-1.29312</td></tr><tr><td>epoch</td><td>74</td></tr><tr><td>g_loss</td><td>7.37</td></tr></table><br/></div></div>"
            ]
          },
          "metadata": {}
        },
        {
          "output_type": "display_data",
          "data": {
            "text/plain": [
              "<IPython.core.display.HTML object>"
            ],
            "text/html": [
              "Synced <strong style=\"color:#cdcd00\">rural-forest-22</strong>: <a href=\"https://wandb.ai/sail-ugr/tfg-silvia-barroso/runs/15s4rpba\" target=\"_blank\">https://wandb.ai/sail-ugr/tfg-silvia-barroso/runs/15s4rpba</a><br/>Synced 5 W&B file(s), 1 media file(s), 0 artifact file(s) and 0 other file(s)"
            ]
          },
          "metadata": {}
        },
        {
          "output_type": "display_data",
          "data": {
            "text/plain": [
              "<IPython.core.display.HTML object>"
            ],
            "text/html": [
              "Find logs at: <code>./wandb/run-20220518_162232-15s4rpba/logs</code>"
            ]
          },
          "metadata": {}
        }
      ],
      "source": [
        "wandb.init(project=\"tfg-silvia-barroso\", entity=\"sail-ugr\", \n",
        "          config= {\n",
        "               \"learning_rate\": 0.0001,\n",
        "               \"epochs\": epochs,\n",
        "               \"num_imagenes\": 6332,\n",
        "               \"opt\": \"Adam\",\n",
        "               \"latent_dim\": latent_dim\n",
        "               })\n",
        "\n",
        "# Definimos el modelo WGAN.\n",
        "wgan = WGAN(discriminator=discriminator,\n",
        "\t\t\tgenerator=generator,\n",
        "            latent_dim=latent_dim,\n",
        "            discriminator_extra_steps=5,)\n",
        "\n",
        "# Compilacion\n",
        "wgan.compile(d_optimizer=discriminator_optimizer,\n",
        "\t\t\t g_optimizer=generator_optimizer,\n",
        "             g_loss_fn=generator_loss,\n",
        "             d_loss_fn=discriminator_loss,)\n",
        "\n",
        "# Entrenamiento\n",
        "wgan.fit(x_train, epochs=epochs, callbacks=[WandbCallback()])\n",
        "\n",
        "wandb.finish()\n",
        "       "
      ]
    },
    {
      "cell_type": "code",
      "source": [
        "#Evaluación\n",
        "wgan.evaluate_D()\n",
        "wgan.evaluate_G()"
      ],
      "metadata": {
        "colab": {
          "base_uri": "https://localhost:8080/",
          "height": 370
        },
        "id": "dvdQCh4sZVW2",
        "outputId": "aa80e6a2-8ba2-4e57-f4ef-2378da1d5fa9"
      },
      "execution_count": null,
      "outputs": [
        {
          "output_type": "stream",
          "name": "stdout",
          "text": [
            "8/8 [==============================] - 0s 3ms/step - loss: -7.2754 - accuracy: 0.0000e+00\n",
            "8/8 [==============================] - 0s 3ms/step - loss: -7.3079 - accuracy: 1.0000\n",
            ">Accuracy real: 0%, fake: 100%\n",
            ">Loss real: \n",
            "-7.275440216064453\n",
            ">Loss fake: \n",
            "-7.307855606079102\n"
          ]
        },
        {
          "output_type": "display_data",
          "data": {
            "text/plain": [
              "<Figure size 432x288 with 9 Axes>"
            ],
            "image/png": "[encoded data removed]"
          },
          "metadata": {
            "needs_background": "light"
          }
        }
      ]
    },
    {
      "cell_type": "markdown",
      "source": [
        "# EXPERIMENTO 2\n",
        "Vamos a realizar la siguiente mejora para que la pérdida del generador no supere a la pérdida del discriminador y consigan igualarse.  \n",
        "En el **Discriminador** vamos a hacer una **reducción del learning rate** y un **incremento del dropout**."
      ],
      "metadata": {
        "id": "hAO-aHem8Y7P"
      }
    },
    {
      "cell_type": "code",
      "source": [
        "discriminator_optimizer = tf.keras.optimizers.Adam(\n",
        "    learning_rate=1e-3, beta_1=0.5, beta_2=0.9)\n",
        "discriminator2=keras.Sequential(\n",
        "    [\n",
        "        keras.Input(shape=(28,28,1)),\n",
        "        layers.Conv2D(64,kernel_size=3,strides=2,padding=\"same\"),\n",
        "        layers.LeakyReLU(alpha=0.2),\n",
        "        layers.Conv2D(128, kernel_size=3, strides=2, padding=\"same\"),\n",
        "        layers.LeakyReLU(alpha=0.2),\n",
        "        layers.Flatten(),\n",
        "        layers.Dropout(0.4),\n",
        "        layers.Dense(1),\n",
        "    ],\n",
        "    name=\"discriminator2\"\n",
        "\n",
        ")\n",
        "discriminator2.summary()"
      ],
      "metadata": {
        "colab": {
          "base_uri": "https://localhost:8080/"
        },
        "id": "TALOKqcAaFDI",
        "outputId": "0bdcb956-8a29-44dc-fd97-4de6ee6fce6a"
      },
      "execution_count": null,
      "outputs": [
        {
          "output_type": "stream",
          "name": "stdout",
          "text": [
            "Model: \"discriminator2\"\n",
            "_________________________________________________________________\n",
            " Layer (type)                Output Shape              Param #   \n",
            "=================================================================\n",
            " conv2d_3 (Conv2D)           (None, 14, 14, 64)        640       \n",
            "                                                                 \n",
            " leaky_re_lu_4 (LeakyReLU)   (None, 14, 14, 64)        0         \n",
            "                                                                 \n",
            " conv2d_4 (Conv2D)           (None, 7, 7, 128)         73856     \n",
            "                                                                 \n",
            " leaky_re_lu_5 (LeakyReLU)   (None, 7, 7, 128)         0         \n",
            "                                                                 \n",
            " flatten_1 (Flatten)         (None, 6272)              0         \n",
            "                                                                 \n",
            " dropout_1 (Dropout)         (None, 6272)              0         \n",
            "                                                                 \n",
            " dense_2 (Dense)             (None, 1)                 6273      \n",
            "                                                                 \n",
            "=================================================================\n",
            "Total params: 80,769\n",
            "Trainable params: 80,769\n",
            "Non-trainable params: 0\n",
            "_________________________________________________________________\n"
          ]
        }
      ]
    },
    {
      "cell_type": "code",
      "source": [
        "wandb.init(project=\"tfg-silvia-barroso\", entity=\"sail-ugr\", \n",
        "          config= {\n",
        "               \"learning_rate\": 1e-3,\n",
        "               \"epochs\": epochs,\n",
        "               \"num_imagenes\": 6332,\n",
        "               \"opt\": \"Adam\",\n",
        "               \"latent_dim\": latent_dim\n",
        "               })\n",
        "\n",
        "# Definimos el modelo WGAN.\n",
        "wgan = WGAN(discriminator=discriminator2,\n",
        "\t\t\tgenerator=generator,\n",
        "            latent_dim=latent_dim,\n",
        "            discriminator_extra_steps=5,)\n",
        "\n",
        "# Compilacion\n",
        "wgan.compile(d_optimizer=discriminator_optimizer,\n",
        "\t\t\t g_optimizer=generator_optimizer,\n",
        "             g_loss_fn=generator_loss,\n",
        "             d_loss_fn=discriminator_loss,)\n",
        "\n",
        "# Entrenamiento\n",
        "wgan.fit(x_train, epochs=epochs, callbacks=[WandbCallback()])\n",
        "\n",
        "wandb.finish()"
      ],
      "metadata": {
        "colab": {
          "base_uri": "https://localhost:8080/",
          "height": 1000,
          "referenced_widgets": [
            "8a9884359162450eb7e38f546f102b43",
            "2ccbc85b40f14c8098ae6f7a836363bd",
            "7b86515795fc4f04a02aada8c7187c17",
            "7cfe30e5450d4d7b953dc95c16651091",
            "e436397e82c84497b5235f01bbc60863",
            "e386c4211f11404c91b4d3e9d6e853aa",
            "4537ad1bcd014a3190b32b720b9ab976",
            "6ede621ba6694b27bf6663a6397f19d0"
          ]
        },
        "id": "Xoabuy0Ydxjg",
        "outputId": "1726e346-59fe-4759-a196-62f922fcae08"
      },
      "execution_count": null,
      "outputs": [
        {
          "output_type": "display_data",
          "data": {
            "text/plain": [
              "<IPython.core.display.HTML object>"
            ],
            "text/html": [
              "Tracking run with wandb version 0.12.16"
            ]
          },
          "metadata": {}
        },
        {
          "output_type": "display_data",
          "data": {
            "text/plain": [
              "<IPython.core.display.HTML object>"
            ],
            "text/html": [
              "Run data is saved locally in <code>/content/wandb/run-20220518_162334-26v5ok1e</code>"
            ]
          },
          "metadata": {}
        },
        {
          "output_type": "display_data",
          "data": {
            "text/plain": [
              "<IPython.core.display.HTML object>"
            ],
            "text/html": [
              "Syncing run <strong><a href=\"https://wandb.ai/sail-ugr/tfg-silvia-barroso/runs/26v5ok1e\" target=\"_blank\">exalted-dawn-23</a></strong> to <a href=\"https://wandb.ai/sail-ugr/tfg-silvia-barroso\" target=\"_blank\">Weights & Biases</a> (<a href=\"https://wandb.me/run\" target=\"_blank\">docs</a>)<br/>"
            ]
          },
          "metadata": {}
        },
        {
          "output_type": "stream",
          "name": "stdout",
          "text": [
            "Epoch 1/75\n",
            "8/8 [==============================] - 4s 31ms/step - d_loss: 0.6324 - g_loss: -0.0561 - _timestamp: 1652891022.0000 - _runtime: 8.0000\n",
            "Epoch 2/75\n",
            "8/8 [==============================] - 0s 27ms/step - d_loss: -0.1843 - g_loss: 0.1578 - _timestamp: 1652891023.0000 - _runtime: 9.0000\n",
            "Epoch 3/75\n",
            "8/8 [==============================] - 0s 27ms/step - d_loss: -0.4872 - g_loss: 1.5860 - _timestamp: 1652891023.0000 - _runtime: 9.0000\n",
            "Epoch 4/75\n",
            "8/8 [==============================] - 0s 28ms/step - d_loss: -0.5935 - g_loss: 0.7882 - _timestamp: 1652891023.0000 - _runtime: 9.0000\n",
            "Epoch 5/75\n",
            "8/8 [==============================] - 0s 27ms/step - d_loss: -0.6823 - g_loss: 1.9946 - _timestamp: 1652891023.0000 - _runtime: 9.0000\n",
            "Epoch 6/75\n",
            "8/8 [==============================] - 0s 29ms/step - d_loss: -0.8037 - g_loss: 2.6129 - _timestamp: 1652891024.0000 - _runtime: 10.0000\n",
            "Epoch 7/75\n",
            "8/8 [==============================] - 0s 27ms/step - d_loss: -1.0831 - g_loss: 1.8138 - _timestamp: 1652891024.0000 - _runtime: 10.0000\n",
            "Epoch 8/75\n",
            "8/8 [==============================] - 0s 27ms/step - d_loss: -0.9412 - g_loss: 2.2454 - _timestamp: 1652891024.0000 - _runtime: 10.0000\n",
            "Epoch 9/75\n",
            "8/8 [==============================] - 0s 29ms/step - d_loss: -1.1624 - g_loss: 2.9928 - _timestamp: 1652891024.0000 - _runtime: 10.0000\n",
            "Epoch 10/75\n",
            "8/8 [==============================] - 0s 27ms/step - d_loss: -1.1245 - g_loss: 1.9830 - _timestamp: 1652891024.0000 - _runtime: 10.0000\n",
            "Epoch 11/75\n",
            "8/8 [==============================] - 0s 28ms/step - d_loss: -1.2469 - g_loss: 2.2943 - _timestamp: 1652891025.0000 - _runtime: 11.0000\n",
            "Epoch 12/75\n",
            "8/8 [==============================] - 0s 27ms/step - d_loss: -1.4363 - g_loss: 2.3893 - _timestamp: 1652891025.0000 - _runtime: 11.0000\n",
            "Epoch 13/75\n",
            "8/8 [==============================] - 0s 28ms/step - d_loss: -1.2471 - g_loss: 3.0169 - _timestamp: 1652891025.0000 - _runtime: 11.0000\n",
            "Epoch 14/75\n",
            "8/8 [==============================] - 0s 27ms/step - d_loss: -1.3853 - g_loss: 2.6912 - _timestamp: 1652891025.0000 - _runtime: 11.0000\n",
            "Epoch 15/75\n",
            "8/8 [==============================] - 0s 27ms/step - d_loss: -1.4117 - g_loss: 2.9288 - _timestamp: 1652891026.0000 - _runtime: 12.0000\n",
            "Epoch 16/75\n",
            "8/8 [==============================] - 0s 28ms/step - d_loss: -1.5673 - g_loss: 2.7129 - _timestamp: 1652891026.0000 - _runtime: 12.0000\n",
            "Epoch 17/75\n",
            "8/8 [==============================] - 0s 27ms/step - d_loss: -1.4540 - g_loss: 3.4891 - _timestamp: 1652891026.0000 - _runtime: 12.0000\n",
            "Epoch 18/75\n",
            "8/8 [==============================] - 0s 29ms/step - d_loss: -1.5749 - g_loss: 3.0598 - _timestamp: 1652891026.0000 - _runtime: 12.0000\n",
            "Epoch 19/75\n",
            "8/8 [==============================] - 0s 26ms/step - d_loss: -1.5219 - g_loss: 3.3627 - _timestamp: 1652891026.0000 - _runtime: 12.0000\n",
            "Epoch 20/75\n",
            "8/8 [==============================] - 0s 27ms/step - d_loss: -1.6154 - g_loss: 3.4832 - _timestamp: 1652891027.0000 - _runtime: 13.0000\n",
            "Epoch 21/75\n",
            "8/8 [==============================] - 0s 26ms/step - d_loss: -1.5036 - g_loss: 4.0777 - _timestamp: 1652891027.0000 - _runtime: 13.0000\n",
            "Epoch 22/75\n",
            "8/8 [==============================] - 0s 28ms/step - d_loss: -1.4368 - g_loss: 3.8569 - _timestamp: 1652891027.0000 - _runtime: 13.0000\n",
            "Epoch 23/75\n",
            "8/8 [==============================] - 0s 27ms/step - d_loss: -1.7933 - g_loss: 4.4096 - _timestamp: 1652891027.0000 - _runtime: 13.0000\n",
            "Epoch 24/75\n",
            "8/8 [==============================] - 0s 26ms/step - d_loss: -1.5155 - g_loss: 4.1792 - _timestamp: 1652891028.0000 - _runtime: 14.0000\n",
            "Epoch 25/75\n",
            "8/8 [==============================] - 0s 26ms/step - d_loss: -1.6182 - g_loss: 3.8943 - _timestamp: 1652891028.0000 - _runtime: 14.0000\n",
            "Epoch 26/75\n",
            "8/8 [==============================] - 0s 27ms/step - d_loss: -1.5471 - g_loss: 3.9105 - _timestamp: 1652891028.0000 - _runtime: 14.0000\n",
            "Epoch 27/75\n",
            "8/8 [==============================] - 0s 28ms/step - d_loss: -1.6020 - g_loss: 3.6516 - _timestamp: 1652891028.0000 - _runtime: 14.0000\n",
            "Epoch 28/75\n",
            "8/8 [==============================] - 0s 27ms/step - d_loss: -1.4829 - g_loss: 3.0519 - _timestamp: 1652891028.0000 - _runtime: 14.0000\n",
            "Epoch 29/75\n",
            "8/8 [==============================] - 0s 28ms/step - d_loss: -1.5427 - g_loss: 3.1066 - _timestamp: 1652891029.0000 - _runtime: 15.0000\n",
            "Epoch 30/75\n",
            "8/8 [==============================] - 0s 27ms/step - d_loss: -1.7330 - g_loss: 3.9949 - _timestamp: 1652891029.0000 - _runtime: 15.0000\n",
            "Epoch 31/75\n",
            "8/8 [==============================] - 0s 27ms/step - d_loss: -1.5504 - g_loss: 2.9522 - _timestamp: 1652891029.0000 - _runtime: 15.0000\n",
            "Epoch 32/75\n",
            "8/8 [==============================] - 0s 26ms/step - d_loss: -1.6547 - g_loss: 2.9347 - _timestamp: 1652891029.0000 - _runtime: 15.0000\n",
            "Epoch 33/75\n",
            "8/8 [==============================] - 0s 26ms/step - d_loss: -1.6036 - g_loss: 2.5888 - _timestamp: 1652891030.0000 - _runtime: 16.0000\n",
            "Epoch 34/75\n",
            "8/8 [==============================] - 0s 27ms/step - d_loss: -1.7462 - g_loss: 2.9393 - _timestamp: 1652891030.0000 - _runtime: 16.0000\n",
            "Epoch 35/75\n",
            "8/8 [==============================] - 0s 26ms/step - d_loss: -1.6922 - g_loss: 3.0349 - _timestamp: 1652891030.0000 - _runtime: 16.0000\n",
            "Epoch 36/75\n",
            "8/8 [==============================] - 0s 27ms/step - d_loss: -1.5818 - g_loss: 3.0458 - _timestamp: 1652891030.0000 - _runtime: 16.0000\n",
            "Epoch 37/75\n",
            "8/8 [==============================] - 0s 27ms/step - d_loss: -1.7456 - g_loss: 2.3557 - _timestamp: 1652891030.0000 - _runtime: 16.0000\n",
            "Epoch 38/75\n",
            "8/8 [==============================] - 0s 28ms/step - d_loss: -1.5950 - g_loss: 2.7344 - _timestamp: 1652891031.0000 - _runtime: 17.0000\n",
            "Epoch 39/75\n",
            "8/8 [==============================] - 0s 26ms/step - d_loss: -1.6894 - g_loss: 2.4211 - _timestamp: 1652891031.0000 - _runtime: 17.0000\n",
            "Epoch 40/75\n",
            "8/8 [==============================] - 0s 27ms/step - d_loss: -1.7213 - g_loss: 2.3423 - _timestamp: 1652891031.0000 - _runtime: 17.0000\n",
            "Epoch 41/75\n",
            "8/8 [==============================] - 0s 28ms/step - d_loss: -1.6080 - g_loss: 2.5572 - _timestamp: 1652891031.0000 - _runtime: 17.0000\n",
            "Epoch 42/75\n",
            "8/8 [==============================] - 0s 27ms/step - d_loss: -1.6714 - g_loss: 2.3444 - _timestamp: 1652891032.0000 - _runtime: 18.0000\n",
            "Epoch 43/75\n",
            "8/8 [==============================] - 0s 28ms/step - d_loss: -1.8010 - g_loss: 2.8856 - _timestamp: 1652891032.0000 - _runtime: 18.0000\n",
            "Epoch 44/75\n",
            "8/8 [==============================] - 0s 26ms/step - d_loss: -1.5662 - g_loss: 2.7418 - _timestamp: 1652891032.0000 - _runtime: 18.0000\n",
            "Epoch 45/75\n",
            "8/8 [==============================] - 0s 28ms/step - d_loss: -1.7166 - g_loss: 2.9567 - _timestamp: 1652891032.0000 - _runtime: 18.0000\n",
            "Epoch 46/75\n",
            "8/8 [==============================] - 0s 27ms/step - d_loss: -1.7171 - g_loss: 3.2088 - _timestamp: 1652891032.0000 - _runtime: 18.0000\n",
            "Epoch 47/75\n",
            "8/8 [==============================] - 0s 28ms/step - d_loss: -1.7521 - g_loss: 2.8509 - _timestamp: 1652891033.0000 - _runtime: 19.0000\n",
            "Epoch 48/75\n",
            "8/8 [==============================] - 0s 26ms/step - d_loss: -1.6158 - g_loss: 2.3435 - _timestamp: 1652891033.0000 - _runtime: 19.0000\n",
            "Epoch 49/75\n",
            "8/8 [==============================] - 0s 27ms/step - d_loss: -1.5558 - g_loss: 2.7491 - _timestamp: 1652891033.0000 - _runtime: 19.0000\n",
            "Epoch 50/75\n",
            "8/8 [==============================] - 0s 28ms/step - d_loss: -1.7535 - g_loss: 2.6747 - _timestamp: 1652891033.0000 - _runtime: 19.0000\n",
            "Epoch 51/75\n",
            "8/8 [==============================] - 0s 27ms/step - d_loss: -1.6511 - g_loss: 2.5757 - _timestamp: 1652891034.0000 - _runtime: 20.0000\n",
            "Epoch 52/75\n",
            "8/8 [==============================] - 0s 27ms/step - d_loss: -1.7599 - g_loss: 2.3362 - _timestamp: 1652891034.0000 - _runtime: 20.0000\n",
            "Epoch 53/75\n",
            "8/8 [==============================] - 0s 31ms/step - d_loss: -1.6445 - g_loss: 2.5576 - _timestamp: 1652891034.0000 - _runtime: 20.0000\n",
            "Epoch 54/75\n",
            "8/8 [==============================] - 0s 28ms/step - d_loss: -1.7238 - g_loss: 1.6433 - _timestamp: 1652891034.0000 - _runtime: 20.0000\n",
            "Epoch 55/75\n",
            "8/8 [==============================] - 0s 27ms/step - d_loss: -1.6538 - g_loss: 1.6319 - _timestamp: 1652891035.0000 - _runtime: 21.0000\n",
            "Epoch 56/75\n",
            "8/8 [==============================] - 0s 26ms/step - d_loss: -1.7080 - g_loss: 1.5362 - _timestamp: 1652891035.0000 - _runtime: 21.0000\n",
            "Epoch 57/75\n",
            "8/8 [==============================] - 0s 26ms/step - d_loss: -1.7088 - g_loss: 1.9760 - _timestamp: 1652891035.0000 - _runtime: 21.0000\n",
            "Epoch 58/75\n",
            "8/8 [==============================] - 0s 26ms/step - d_loss: -1.7941 - g_loss: 1.7399 - _timestamp: 1652891035.0000 - _runtime: 21.0000\n",
            "Epoch 59/75\n",
            "8/8 [==============================] - 0s 26ms/step - d_loss: -1.7621 - g_loss: 1.7744 - _timestamp: 1652891035.0000 - _runtime: 21.0000\n",
            "Epoch 60/75\n",
            "8/8 [==============================] - 0s 26ms/step - d_loss: -1.7719 - g_loss: 1.6672 - _timestamp: 1652891036.0000 - _runtime: 22.0000\n",
            "Epoch 61/75\n",
            "8/8 [==============================] - 0s 28ms/step - d_loss: -1.8587 - g_loss: 1.6655 - _timestamp: 1652891036.0000 - _runtime: 22.0000\n",
            "Epoch 62/75\n",
            "8/8 [==============================] - 0s 27ms/step - d_loss: -1.6856 - g_loss: 2.3895 - _timestamp: 1652891036.0000 - _runtime: 22.0000\n",
            "Epoch 63/75\n",
            "8/8 [==============================] - 0s 29ms/step - d_loss: -1.7496 - g_loss: 2.1744 - _timestamp: 1652891036.0000 - _runtime: 22.0000\n",
            "Epoch 64/75\n",
            "8/8 [==============================] - 0s 27ms/step - d_loss: -1.8420 - g_loss: 1.8120 - _timestamp: 1652891036.0000 - _runtime: 22.0000\n",
            "Epoch 65/75\n",
            "8/8 [==============================] - 0s 27ms/step - d_loss: -1.7424 - g_loss: 1.7462 - _timestamp: 1652891037.0000 - _runtime: 23.0000\n",
            "Epoch 66/75\n",
            "8/8 [==============================] - 0s 27ms/step - d_loss: -1.6385 - g_loss: 1.9572 - _timestamp: 1652891037.0000 - _runtime: 23.0000\n",
            "Epoch 67/75\n",
            "8/8 [==============================] - 0s 27ms/step - d_loss: -1.7496 - g_loss: 2.2114 - _timestamp: 1652891037.0000 - _runtime: 23.0000\n",
            "Epoch 68/75\n",
            "8/8 [==============================] - 0s 27ms/step - d_loss: -1.6970 - g_loss: 2.1367 - _timestamp: 1652891037.0000 - _runtime: 23.0000\n",
            "Epoch 69/75\n",
            "8/8 [==============================] - 0s 26ms/step - d_loss: -1.7037 - g_loss: 1.7418 - _timestamp: 1652891038.0000 - _runtime: 24.0000\n",
            "Epoch 70/75\n",
            "8/8 [==============================] - 0s 28ms/step - d_loss: -1.7312 - g_loss: 1.3920 - _timestamp: 1652891038.0000 - _runtime: 24.0000\n",
            "Epoch 71/75\n",
            "8/8 [==============================] - 0s 28ms/step - d_loss: -1.6516 - g_loss: 1.6723 - _timestamp: 1652891038.0000 - _runtime: 24.0000\n",
            "Epoch 72/75\n",
            "8/8 [==============================] - 0s 29ms/step - d_loss: -1.5851 - g_loss: 1.8563 - _timestamp: 1652891038.0000 - _runtime: 24.0000\n",
            "Epoch 73/75\n",
            "8/8 [==============================] - 0s 27ms/step - d_loss: -1.8313 - g_loss: 2.0839 - _timestamp: 1652891039.0000 - _runtime: 25.0000\n",
            "Epoch 74/75\n",
            "8/8 [==============================] - 0s 27ms/step - d_loss: -1.7352 - g_loss: 1.5003 - _timestamp: 1652891039.0000 - _runtime: 25.0000\n",
            "Epoch 75/75\n",
            "8/8 [==============================] - 0s 26ms/step - d_loss: -1.7646 - g_loss: 2.2456 - _timestamp: 1652891039.0000 - _runtime: 25.0000\n"
          ]
        },
        {
          "output_type": "display_data",
          "data": {
            "text/plain": [
              "<IPython.core.display.HTML object>"
            ],
            "text/html": [
              "Waiting for W&B process to finish... <strong style=\"color:green\">(success).</strong>"
            ]
          },
          "metadata": {}
        },
        {
          "output_type": "display_data",
          "data": {
            "text/plain": [
              "VBox(children=(Label(value='0.001 MB of 0.001 MB uploaded (0.000 MB deduped)\\r'), FloatProgress(value=1.0, max…"
            ],
            "application/vnd.jupyter.widget-view+json": {
              "version_major": 2,
              "version_minor": 0,
              "model_id": "8a9884359162450eb7e38f546f102b43"
            }
          },
          "metadata": {}
        },
        {
          "output_type": "display_data",
          "data": {
            "text/plain": [
              "<IPython.core.display.HTML object>"
            ],
            "text/html": [
              "<style>\n",
              "    table.wandb td:nth-child(1) { padding: 0 10px; text-align: left ; width: auto;} td:nth-child(2) {text-align: left ; width: 100%}\n",
              "    .wandb-row { display: flex; flex-direction: row; flex-wrap: wrap; justify-content: flex-start; width: 100% }\n",
              "    .wandb-col { display: flex; flex-direction: column; flex-basis: 100%; flex: 1; padding: 10px; }\n",
              "    </style>\n",
              "<div class=\"wandb-row\"><div class=\"wandb-col\"><h3>Run history:</h3><br/><table class=\"wandb\"><tr><td>d_loss</td><td>██▆▆▆▄▃▃▄▄▃▃▁▃▂▄▄▃▃▃▄▃▅▄▃▃▃▂▄▃▃▂▁▃▅▃▄▃▁▃</td></tr><tr><td>epoch</td><td>▁▁▁▁▂▂▂▂▂▃▃▃▃▃▃▄▄▄▄▄▅▅▅▅▅▅▆▆▆▆▆▆▇▇▇▇▇███</td></tr><tr><td>g_loss</td><td>▁▃▂▃▅▃▇▄▇▅▆▆█▆▄▃▅▄▆▄▄▃▃▄▇▄▄▅▂▂▄▂▁▃▂▅▂▂▆▄</td></tr></table><br/></div><div class=\"wandb-col\"><h3>Run summary:</h3><br/><table class=\"wandb\"><tr><td>d_loss</td><td>-1.55598</td></tr><tr><td>epoch</td><td>74</td></tr><tr><td>g_loss</td><td>1.72799</td></tr></table><br/></div></div>"
            ]
          },
          "metadata": {}
        },
        {
          "output_type": "display_data",
          "data": {
            "text/plain": [
              "<IPython.core.display.HTML object>"
            ],
            "text/html": [
              "Synced <strong style=\"color:#cdcd00\">exalted-dawn-23</strong>: <a href=\"https://wandb.ai/sail-ugr/tfg-silvia-barroso/runs/26v5ok1e\" target=\"_blank\">https://wandb.ai/sail-ugr/tfg-silvia-barroso/runs/26v5ok1e</a><br/>Synced 5 W&B file(s), 1 media file(s), 0 artifact file(s) and 0 other file(s)"
            ]
          },
          "metadata": {}
        },
        {
          "output_type": "display_data",
          "data": {
            "text/plain": [
              "<IPython.core.display.HTML object>"
            ],
            "text/html": [
              "Find logs at: <code>./wandb/run-20220518_162334-26v5ok1e/logs</code>"
            ]
          },
          "metadata": {}
        }
      ]
    },
    {
      "cell_type": "code",
      "source": [
        "#Evaluación\n",
        "wgan.evaluate_D()\n",
        "wgan.evaluate_G()"
      ],
      "metadata": {
        "colab": {
          "base_uri": "https://localhost:8080/",
          "height": 370
        },
        "id": "yYUoaI_Xd6pr",
        "outputId": "35943ba7-101d-4f9f-907b-81503e882126"
      },
      "execution_count": null,
      "outputs": [
        {
          "output_type": "stream",
          "name": "stdout",
          "text": [
            "8/8 [==============================] - 0s 3ms/step - loss: -1.0288 - accuracy: 0.2080\n",
            "8/8 [==============================] - 0s 3ms/step - loss: -1.4681 - accuracy: 1.0000\n",
            ">Accuracy real: 21%, fake: 100%\n",
            ">Loss real: \n",
            "-1.0287593603134155\n",
            ">Loss fake: \n",
            "-1.4680918455123901\n"
          ]
        },
        {
          "output_type": "display_data",
          "data": {
            "text/plain": [
              "<Figure size 432x288 with 9 Axes>"
            ],
            "image/png": "[encoded data removed]"
          },
          "metadata": {
            "needs_background": "light"
          }
        }
      ]
    },
    {
      "cell_type": "code",
      "source": [
        "#Veamos las imágenes generadas por el modelo generador que se ha definido para el EXPERIMENTO 1 y EXPERIMENTO 2\n",
        "generated_images_plot(x_train, x_test, generator)"
      ],
      "metadata": {
        "colab": {
          "base_uri": "https://localhost:8080/",
          "height": 762
        },
        "id": "XcV03FC0eBa6",
        "outputId": "7c2e86fa-926f-4520-cafc-b394a29dcf43"
      },
      "execution_count": null,
      "outputs": [
        {
          "output_type": "stream",
          "name": "stdout",
          "text": [
            "NOISED\n"
          ]
        },
        {
          "output_type": "display_data",
          "data": {
            "text/plain": [
              "<Figure size 432x288 with 9 Axes>"
            ],
            "image/png": "[encoded data removed]"
          },
          "metadata": {
            "needs_background": "light"
          }
        },
        {
          "output_type": "stream",
          "name": "stdout",
          "text": [
            "GENERATED\n"
          ]
        },
        {
          "output_type": "display_data",
          "data": {
            "text/plain": [
              "<Figure size 432x288 with 9 Axes>"
            ],
            "image/png": "[encoded data removed]"
          },
          "metadata": {
            "needs_background": "light"
          }
        },
        {
          "output_type": "stream",
          "name": "stdout",
          "text": [
            "ORIGINAL\n"
          ]
        },
        {
          "output_type": "display_data",
          "data": {
            "text/plain": [
              "<Figure size 432x288 with 9 Axes>"
            ],
            "image/png": "[encoded data removed]"
          },
          "metadata": {
            "needs_background": "light"
          }
        }
      ]
    },
    {
      "cell_type": "markdown",
      "source": [
        "# EXPERIMENTO 3\n",
        "Hemos cambiado la arquitectura del generador y del discriminador para que sea más sotisficada.  \n",
        "\n",
        "*   En el discriminador se ha incluido más capas de Dropout y se ha utilizado las mejoras citadas en el experimento 2( incrementar dropout y reducir el learning rate). \n",
        "*   En el generador se ha implementado una arquitectura más profunda con más capas de convolución y añadiendo capas de BatchNormalization. "
      ],
      "metadata": {
        "id": "OLxzLzbs-mHW"
      }
    },
    {
      "cell_type": "code",
      "source": [
        "discriminator3=keras.Sequential(\n",
        "    [\n",
        "        layers.Input(shape=(28,28,1)),\n",
        "        layers.Conv2D(64,kernel_size=3,strides=2,padding=\"same\",activation = 'linear'),\n",
        "        layers.LeakyReLU(alpha=0.2),\n",
        "        layers.Dropout(0.4),\n",
        "        layers.Conv2D(128, kernel_size=3, strides=2, padding=\"same\",activation = 'linear'),\n",
        "        layers.LeakyReLU(alpha=0.2),\n",
        "        layers.Dropout(0.4),\n",
        "        layers.Conv2D(256, kernel_size=3, padding=\"same\",activation = 'linear'),\n",
        "        layers.LeakyReLU(alpha=0.2),\n",
        "        layers.Dropout(0.4),\n",
        "        layers.Flatten(),\n",
        "        layers.Dense(1),\n",
        "    ],\n",
        "    name=\"discriminator3\"\n",
        "\n",
        ")\n",
        "discriminator3.summary()"
      ],
      "metadata": {
        "colab": {
          "base_uri": "https://localhost:8080/"
        },
        "id": "h5ciFB-8efDE",
        "outputId": "f4ce7a33-f9a1-41c8-aa90-7fbcd5e71aff"
      },
      "execution_count": null,
      "outputs": [
        {
          "output_type": "stream",
          "name": "stdout",
          "text": [
            "Model: \"discriminator3\"\n",
            "_________________________________________________________________\n",
            " Layer (type)                Output Shape              Param #   \n",
            "=================================================================\n",
            " conv2d_5 (Conv2D)           (None, 14, 14, 64)        640       \n",
            "                                                                 \n",
            " leaky_re_lu_6 (LeakyReLU)   (None, 14, 14, 64)        0         \n",
            "                                                                 \n",
            " dropout_2 (Dropout)         (None, 14, 14, 64)        0         \n",
            "                                                                 \n",
            " conv2d_6 (Conv2D)           (None, 7, 7, 128)         73856     \n",
            "                                                                 \n",
            " leaky_re_lu_7 (LeakyReLU)   (None, 7, 7, 128)         0         \n",
            "                                                                 \n",
            " dropout_3 (Dropout)         (None, 7, 7, 128)         0         \n",
            "                                                                 \n",
            " conv2d_7 (Conv2D)           (None, 7, 7, 256)         295168    \n",
            "                                                                 \n",
            " leaky_re_lu_8 (LeakyReLU)   (None, 7, 7, 256)         0         \n",
            "                                                                 \n",
            " dropout_4 (Dropout)         (None, 7, 7, 256)         0         \n",
            "                                                                 \n",
            " flatten_2 (Flatten)         (None, 12544)             0         \n",
            "                                                                 \n",
            " dense_3 (Dense)             (None, 1)                 12545     \n",
            "                                                                 \n",
            "=================================================================\n",
            "Total params: 382,209\n",
            "Trainable params: 382,209\n",
            "Non-trainable params: 0\n",
            "_________________________________________________________________\n"
          ]
        }
      ]
    },
    {
      "cell_type": "code",
      "source": [
        "generator3=keras.Sequential(\n",
        "    [\n",
        "        keras.Input(shape=(latent_dim,)),\n",
        "        layers.Dense(28*28*128),\n",
        "        layers.Reshape((28,28,128)),\n",
        "        layers.Conv2D(32, kernel_size=3, padding=\"same\",input_shape=(28,28,128)),\n",
        "        layers.BatchNormalization(),\n",
        "        layers.LeakyReLU(alpha=0.2),\n",
        "        layers.AveragePooling2D(pool_size=(2, 2)),\n",
        "        layers.Conv2D(64, kernel_size=3, padding=\"same\"),\n",
        "        layers.BatchNormalization(),\n",
        "        layers.LeakyReLU(alpha=0.2),\n",
        "        layers.AveragePooling2D(pool_size=(2, 2)),\n",
        "        layers.Conv2D(128, kernel_size=3, padding=\"same\"),\n",
        "        layers.BatchNormalization(),\n",
        "        layers.LeakyReLU(alpha=0.2),\n",
        "        layers.Conv2D(128, kernel_size=3, padding=\"same\"),\n",
        "        layers.LeakyReLU(alpha=0.2),\n",
        "        layers.UpSampling2D((2,2)),\n",
        "        layers.Conv2D(64, kernel_size=3, padding=\"same\"),\n",
        "        layers.LeakyReLU(alpha=0.2),\n",
        "        layers.UpSampling2D((2,2)),\n",
        "        layers.Conv2D(1, kernel_size=3, padding=\"same\", activation=\"sigmoid\"),\n",
        "    ],\n",
        "    name=\"generator3\",\n",
        ")\n",
        "generator3.summary()"
      ],
      "metadata": {
        "colab": {
          "base_uri": "https://localhost:8080/"
        },
        "id": "R2bfXrjXewr_",
        "outputId": "9bd78f5d-6e5a-4058-aec1-177e5999fcda"
      },
      "execution_count": null,
      "outputs": [
        {
          "output_type": "stream",
          "name": "stdout",
          "text": [
            "Model: \"generator3\"\n",
            "_________________________________________________________________\n",
            " Layer (type)                Output Shape              Param #   \n",
            "=================================================================\n",
            " dense_4 (Dense)             (None, 100352)            12945408  \n",
            "                                                                 \n",
            " reshape_1 (Reshape)         (None, 28, 28, 128)       0         \n",
            "                                                                 \n",
            " conv2d_8 (Conv2D)           (None, 28, 28, 32)        36896     \n",
            "                                                                 \n",
            " batch_normalization (BatchN  (None, 28, 28, 32)       128       \n",
            " ormalization)                                                   \n",
            "                                                                 \n",
            " leaky_re_lu_9 (LeakyReLU)   (None, 28, 28, 32)        0         \n",
            "                                                                 \n",
            " average_pooling2d (AverageP  (None, 14, 14, 32)       0         \n",
            " ooling2D)                                                       \n",
            "                                                                 \n",
            " conv2d_9 (Conv2D)           (None, 14, 14, 64)        18496     \n",
            "                                                                 \n",
            " batch_normalization_1 (Batc  (None, 14, 14, 64)       256       \n",
            " hNormalization)                                                 \n",
            "                                                                 \n",
            " leaky_re_lu_10 (LeakyReLU)  (None, 14, 14, 64)        0         \n",
            "                                                                 \n",
            " average_pooling2d_1 (Averag  (None, 7, 7, 64)         0         \n",
            " ePooling2D)                                                     \n",
            "                                                                 \n",
            " conv2d_10 (Conv2D)          (None, 7, 7, 128)         73856     \n",
            "                                                                 \n",
            " batch_normalization_2 (Batc  (None, 7, 7, 128)        512       \n",
            " hNormalization)                                                 \n",
            "                                                                 \n",
            " leaky_re_lu_11 (LeakyReLU)  (None, 7, 7, 128)         0         \n",
            "                                                                 \n",
            " conv2d_11 (Conv2D)          (None, 7, 7, 128)         147584    \n",
            "                                                                 \n",
            " leaky_re_lu_12 (LeakyReLU)  (None, 7, 7, 128)         0         \n",
            "                                                                 \n",
            " up_sampling2d (UpSampling2D  (None, 14, 14, 128)      0         \n",
            " )                                                               \n",
            "                                                                 \n",
            " conv2d_12 (Conv2D)          (None, 14, 14, 64)        73792     \n",
            "                                                                 \n",
            " leaky_re_lu_13 (LeakyReLU)  (None, 14, 14, 64)        0         \n",
            "                                                                 \n",
            " up_sampling2d_1 (UpSampling  (None, 28, 28, 64)       0         \n",
            " 2D)                                                             \n",
            "                                                                 \n",
            " conv2d_13 (Conv2D)          (None, 28, 28, 1)         577       \n",
            "                                                                 \n",
            "=================================================================\n",
            "Total params: 13,297,505\n",
            "Trainable params: 13,297,057\n",
            "Non-trainable params: 448\n",
            "_________________________________________________________________\n"
          ]
        }
      ]
    },
    {
      "cell_type": "code",
      "source": [
        "wandb.init(project=\"tfg-silvia-barroso\", entity=\"sail-ugr\", \n",
        "          config= {\n",
        "               \"learning_rate\": 1e-3,\n",
        "               \"epochs\": epochs,\n",
        "               \"num_imagenes\": 6332,\n",
        "               \"opt\": \"Adam\",\n",
        "               \"latent_dim\": latent_dim\n",
        "               })\n",
        "\n",
        "# Definimos el modelo WGAN.\n",
        "wgan = WGAN(discriminator=discriminator3,\n",
        "\t\t\tgenerator=generator3,\n",
        "            latent_dim=latent_dim,\n",
        "            discriminator_extra_steps=5,)\n",
        "\n",
        "# Compilacion\n",
        "wgan.compile(d_optimizer=discriminator_optimizer,\n",
        "\t\t\t g_optimizer=generator_optimizer,\n",
        "             g_loss_fn=generator_loss,\n",
        "             d_loss_fn=discriminator_loss,)\n",
        "\n",
        "# Entrenamiento\n",
        "wgan.fit(x_train, epochs=epochs, callbacks=[WandbCallback()])\n",
        "\n",
        "wandb.finish()"
      ],
      "metadata": {
        "colab": {
          "base_uri": "https://localhost:8080/",
          "height": 1000,
          "referenced_widgets": [
            "67bda4e5f15b4228ba314ab94e72ee7d",
            "7437b145b3254d318cee8a834b8e2481",
            "02d09b262686465d854defebf9f3a469",
            "056e0e212fd44da398a0f76bfb21eb14",
            "23ff8c65ad124eb695be28089a94c5c8",
            "5e15c4fa18024c4ab00fc1463f12a806",
            "18da7e9fbe0643e792b7c05f2eba467d",
            "173be3c6d19a43adaaa27b5857cb476e"
          ]
        },
        "id": "6sf9Wetse-fw",
        "outputId": "a934aeb5-e0db-4916-e30d-ca587a0b2bfd"
      },
      "execution_count": null,
      "outputs": [
        {
          "output_type": "display_data",
          "data": {
            "text/plain": [
              "<IPython.core.display.HTML object>"
            ],
            "text/html": [
              "Tracking run with wandb version 0.12.16"
            ]
          },
          "metadata": {}
        },
        {
          "output_type": "display_data",
          "data": {
            "text/plain": [
              "<IPython.core.display.HTML object>"
            ],
            "text/html": [
              "Run data is saved locally in <code>/content/wandb/run-20220518_162408-3k4537ug</code>"
            ]
          },
          "metadata": {}
        },
        {
          "output_type": "display_data",
          "data": {
            "text/plain": [
              "<IPython.core.display.HTML object>"
            ],
            "text/html": [
              "Syncing run <strong><a href=\"https://wandb.ai/sail-ugr/tfg-silvia-barroso/runs/3k4537ug\" target=\"_blank\">glowing-snowflake-24</a></strong> to <a href=\"https://wandb.ai/sail-ugr/tfg-silvia-barroso\" target=\"_blank\">Weights & Biases</a> (<a href=\"https://wandb.me/run\" target=\"_blank\">docs</a>)<br/>"
            ]
          },
          "metadata": {}
        },
        {
          "output_type": "stream",
          "name": "stdout",
          "text": [
            "Epoch 1/75\n",
            "8/8 [==============================] - 7s 60ms/step - d_loss: -7.6279 - g_loss: 3.1537 - _timestamp: 1652891060.0000 - _runtime: 11.0000\n",
            "Epoch 2/75\n",
            "8/8 [==============================] - 0s 44ms/step - d_loss: -4.6496 - g_loss: -3.8286 - _timestamp: 1652891060.0000 - _runtime: 11.0000\n",
            "Epoch 3/75\n",
            "8/8 [==============================] - 0s 46ms/step - d_loss: -3.1620 - g_loss: -3.5657 - _timestamp: 1652891061.0000 - _runtime: 12.0000\n",
            "Epoch 4/75\n",
            "8/8 [==============================] - 0s 46ms/step - d_loss: -2.7500 - g_loss: -1.7436 - _timestamp: 1652891061.0000 - _runtime: 12.0000\n",
            "Epoch 5/75\n",
            "8/8 [==============================] - 0s 45ms/step - d_loss: -2.2431 - g_loss: -1.5405 - _timestamp: 1652891061.0000 - _runtime: 12.0000\n",
            "Epoch 6/75\n",
            "8/8 [==============================] - 0s 46ms/step - d_loss: -2.1523 - g_loss: -0.6281 - _timestamp: 1652891062.0000 - _runtime: 13.0000\n",
            "Epoch 7/75\n",
            "8/8 [==============================] - 0s 45ms/step - d_loss: -1.9115 - g_loss: 0.3654 - _timestamp: 1652891062.0000 - _runtime: 13.0000\n",
            "Epoch 8/75\n",
            "8/8 [==============================] - 0s 44ms/step - d_loss: -1.6531 - g_loss: 2.7856 - _timestamp: 1652891063.0000 - _runtime: 14.0000\n",
            "Epoch 9/75\n",
            "8/8 [==============================] - 0s 45ms/step - d_loss: -1.5755 - g_loss: 1.2253 - _timestamp: 1652891063.0000 - _runtime: 14.0000\n",
            "Epoch 10/75\n",
            "8/8 [==============================] - 0s 44ms/step - d_loss: -1.5693 - g_loss: 1.7616 - _timestamp: 1652891063.0000 - _runtime: 14.0000\n",
            "Epoch 11/75\n",
            "8/8 [==============================] - 0s 45ms/step - d_loss: -1.6609 - g_loss: 1.1868 - _timestamp: 1652891064.0000 - _runtime: 15.0000\n",
            "Epoch 12/75\n",
            "8/8 [==============================] - 0s 47ms/step - d_loss: -1.7194 - g_loss: 2.1742 - _timestamp: 1652891064.0000 - _runtime: 15.0000\n",
            "Epoch 13/75\n",
            "8/8 [==============================] - 0s 46ms/step - d_loss: -1.5531 - g_loss: 1.0100 - _timestamp: 1652891064.0000 - _runtime: 15.0000\n",
            "Epoch 14/75\n",
            "8/8 [==============================] - 0s 45ms/step - d_loss: -1.5595 - g_loss: 0.3115 - _timestamp: 1652891065.0000 - _runtime: 16.0000\n",
            "Epoch 15/75\n",
            "8/8 [==============================] - 0s 50ms/step - d_loss: -1.5260 - g_loss: 2.8439 - _timestamp: 1652891065.0000 - _runtime: 16.0000\n",
            "Epoch 16/75\n",
            "8/8 [==============================] - 1s 75ms/step - d_loss: -1.2918 - g_loss: 1.0969 - _timestamp: 1652891066.0000 - _runtime: 17.0000\n",
            "Epoch 17/75\n",
            "8/8 [==============================] - 1s 58ms/step - d_loss: -1.4177 - g_loss: 3.2349 - _timestamp: 1652891066.0000 - _runtime: 17.0000\n",
            "Epoch 18/75\n",
            "8/8 [==============================] - 0s 45ms/step - d_loss: -1.4272 - g_loss: 3.1956 - _timestamp: 1652891067.0000 - _runtime: 18.0000\n",
            "Epoch 19/75\n",
            "8/8 [==============================] - 0s 46ms/step - d_loss: -1.2813 - g_loss: 2.0664 - _timestamp: 1652891067.0000 - _runtime: 18.0000\n",
            "Epoch 20/75\n",
            "8/8 [==============================] - 0s 45ms/step - d_loss: -1.3704 - g_loss: 2.3269 - _timestamp: 1652891067.0000 - _runtime: 18.0000\n",
            "Epoch 21/75\n",
            "8/8 [==============================] - 0s 47ms/step - d_loss: -1.4628 - g_loss: 2.0102 - _timestamp: 1652891068.0000 - _runtime: 19.0000\n",
            "Epoch 22/75\n",
            "8/8 [==============================] - 0s 48ms/step - d_loss: -1.3829 - g_loss: 3.5813 - _timestamp: 1652891068.0000 - _runtime: 19.0000\n",
            "Epoch 23/75\n",
            "8/8 [==============================] - 0s 45ms/step - d_loss: -1.4806 - g_loss: 2.9500 - _timestamp: 1652891069.0000 - _runtime: 20.0000\n",
            "Epoch 24/75\n",
            "8/8 [==============================] - 0s 48ms/step - d_loss: -1.3395 - g_loss: 4.1196 - _timestamp: 1652891069.0000 - _runtime: 20.0000\n",
            "Epoch 25/75\n",
            "8/8 [==============================] - 0s 46ms/step - d_loss: -1.3429 - g_loss: 4.1429 - _timestamp: 1652891069.0000 - _runtime: 20.0000\n",
            "Epoch 26/75\n",
            "8/8 [==============================] - 0s 45ms/step - d_loss: -1.0627 - g_loss: 2.5856 - _timestamp: 1652891070.0000 - _runtime: 21.0000\n",
            "Epoch 27/75\n",
            "8/8 [==============================] - 0s 45ms/step - d_loss: -1.0715 - g_loss: 2.7327 - _timestamp: 1652891070.0000 - _runtime: 21.0000\n",
            "Epoch 28/75\n",
            "8/8 [==============================] - 0s 47ms/step - d_loss: -1.3410 - g_loss: 2.7393 - _timestamp: 1652891070.0000 - _runtime: 21.0000\n",
            "Epoch 29/75\n",
            "8/8 [==============================] - 0s 46ms/step - d_loss: -1.4715 - g_loss: 4.0344 - _timestamp: 1652891071.0000 - _runtime: 22.0000\n",
            "Epoch 30/75\n",
            "8/8 [==============================] - 0s 46ms/step - d_loss: -1.2797 - g_loss: 2.3303 - _timestamp: 1652891071.0000 - _runtime: 22.0000\n",
            "Epoch 31/75\n",
            "8/8 [==============================] - 0s 45ms/step - d_loss: -1.2564 - g_loss: 2.4768 - _timestamp: 1652891072.0000 - _runtime: 23.0000\n",
            "Epoch 32/75\n",
            "8/8 [==============================] - 0s 45ms/step - d_loss: -1.2474 - g_loss: 4.6719 - _timestamp: 1652891072.0000 - _runtime: 23.0000\n",
            "Epoch 33/75\n",
            "8/8 [==============================] - 0s 45ms/step - d_loss: -1.2279 - g_loss: 4.0636 - _timestamp: 1652891072.0000 - _runtime: 23.0000\n",
            "Epoch 34/75\n",
            "8/8 [==============================] - 0s 45ms/step - d_loss: -1.1802 - g_loss: 2.8274 - _timestamp: 1652891073.0000 - _runtime: 24.0000\n",
            "Epoch 35/75\n",
            "8/8 [==============================] - 0s 47ms/step - d_loss: -1.3912 - g_loss: 2.5203 - _timestamp: 1652891073.0000 - _runtime: 24.0000\n",
            "Epoch 36/75\n",
            "8/8 [==============================] - 0s 45ms/step - d_loss: -1.2356 - g_loss: 2.6101 - _timestamp: 1652891073.0000 - _runtime: 24.0000\n",
            "Epoch 37/75\n",
            "8/8 [==============================] - 0s 47ms/step - d_loss: -1.0865 - g_loss: 4.5881 - _timestamp: 1652891074.0000 - _runtime: 25.0000\n",
            "Epoch 38/75\n",
            "8/8 [==============================] - 0s 46ms/step - d_loss: -1.2701 - g_loss: 3.0629 - _timestamp: 1652891074.0000 - _runtime: 25.0000\n",
            "Epoch 39/75\n",
            "8/8 [==============================] - 0s 45ms/step - d_loss: -1.2601 - g_loss: 3.9700 - _timestamp: 1652891074.0000 - _runtime: 25.0000\n",
            "Epoch 40/75\n",
            "8/8 [==============================] - 0s 44ms/step - d_loss: -1.1747 - g_loss: 3.0212 - _timestamp: 1652891075.0000 - _runtime: 26.0000\n",
            "Epoch 41/75\n",
            "8/8 [==============================] - 0s 48ms/step - d_loss: -0.9856 - g_loss: 2.5406 - _timestamp: 1652891075.0000 - _runtime: 26.0000\n",
            "Epoch 42/75\n",
            "8/8 [==============================] - 0s 46ms/step - d_loss: -1.2921 - g_loss: 2.5488 - _timestamp: 1652891076.0000 - _runtime: 27.0000\n",
            "Epoch 43/75\n",
            "8/8 [==============================] - 0s 45ms/step - d_loss: -1.0668 - g_loss: 4.1334 - _timestamp: 1652891076.0000 - _runtime: 27.0000\n",
            "Epoch 44/75\n",
            "8/8 [==============================] - 0s 45ms/step - d_loss: -0.8688 - g_loss: 4.6958 - _timestamp: 1652891076.0000 - _runtime: 27.0000\n",
            "Epoch 45/75\n",
            "8/8 [==============================] - 0s 45ms/step - d_loss: -0.8244 - g_loss: 2.3289 - _timestamp: 1652891077.0000 - _runtime: 28.0000\n",
            "Epoch 46/75\n",
            "8/8 [==============================] - 0s 48ms/step - d_loss: -0.8871 - g_loss: 2.9191 - _timestamp: 1652891077.0000 - _runtime: 28.0000\n",
            "Epoch 47/75\n",
            "8/8 [==============================] - 0s 45ms/step - d_loss: -0.9691 - g_loss: 2.8786 - _timestamp: 1652891077.0000 - _runtime: 28.0000\n",
            "Epoch 48/75\n",
            "8/8 [==============================] - 0s 47ms/step - d_loss: -1.2759 - g_loss: 1.0080 - _timestamp: 1652891078.0000 - _runtime: 29.0000\n",
            "Epoch 49/75\n",
            "8/8 [==============================] - 0s 46ms/step - d_loss: -1.2044 - g_loss: 2.0196 - _timestamp: 1652891078.0000 - _runtime: 29.0000\n",
            "Epoch 50/75\n",
            "8/8 [==============================] - 0s 46ms/step - d_loss: -1.0630 - g_loss: 3.0527 - _timestamp: 1652891079.0000 - _runtime: 30.0000\n",
            "Epoch 51/75\n",
            "8/8 [==============================] - 0s 47ms/step - d_loss: -1.1756 - g_loss: 3.1195 - _timestamp: 1652891079.0000 - _runtime: 30.0000\n",
            "Epoch 52/75\n",
            "8/8 [==============================] - 0s 47ms/step - d_loss: -0.9198 - g_loss: 1.5686 - _timestamp: 1652891079.0000 - _runtime: 30.0000\n",
            "Epoch 53/75\n",
            "8/8 [==============================] - 0s 46ms/step - d_loss: -0.7868 - g_loss: 0.8245 - _timestamp: 1652891080.0000 - _runtime: 31.0000\n",
            "Epoch 54/75\n",
            "8/8 [==============================] - 0s 47ms/step - d_loss: -0.6498 - g_loss: 2.0723 - _timestamp: 1652891080.0000 - _runtime: 31.0000\n",
            "Epoch 55/75\n",
            "8/8 [==============================] - 0s 47ms/step - d_loss: -0.8523 - g_loss: 2.2272 - _timestamp: 1652891081.0000 - _runtime: 32.0000\n",
            "Epoch 56/75\n",
            "8/8 [==============================] - 0s 46ms/step - d_loss: -0.7274 - g_loss: 2.5031 - _timestamp: 1652891081.0000 - _runtime: 32.0000\n",
            "Epoch 57/75\n",
            "8/8 [==============================] - 0s 48ms/step - d_loss: -0.9454 - g_loss: 0.9457 - _timestamp: 1652891081.0000 - _runtime: 32.0000\n",
            "Epoch 58/75\n",
            "8/8 [==============================] - 0s 46ms/step - d_loss: -0.9177 - g_loss: 2.3323 - _timestamp: 1652891082.0000 - _runtime: 33.0000\n",
            "Epoch 59/75\n",
            "8/8 [==============================] - 0s 45ms/step - d_loss: -1.3734 - g_loss: 2.2589 - _timestamp: 1652891082.0000 - _runtime: 33.0000\n",
            "Epoch 60/75\n",
            "8/8 [==============================] - 0s 44ms/step - d_loss: -0.7790 - g_loss: 3.1213 - _timestamp: 1652891082.0000 - _runtime: 33.0000\n",
            "Epoch 61/75\n",
            "8/8 [==============================] - 0s 45ms/step - d_loss: -0.6983 - g_loss: 3.1828 - _timestamp: 1652891083.0000 - _runtime: 34.0000\n",
            "Epoch 62/75\n",
            "8/8 [==============================] - 0s 47ms/step - d_loss: -0.5857 - g_loss: 1.5595 - _timestamp: 1652891083.0000 - _runtime: 34.0000\n",
            "Epoch 63/75\n",
            "8/8 [==============================] - 0s 46ms/step - d_loss: -0.8011 - g_loss: 2.3998 - _timestamp: 1652891084.0000 - _runtime: 35.0000\n",
            "Epoch 64/75\n",
            "8/8 [==============================] - 0s 47ms/step - d_loss: -1.4542 - g_loss: 2.6295 - _timestamp: 1652891084.0000 - _runtime: 35.0000\n",
            "Epoch 65/75\n",
            "8/8 [==============================] - 0s 46ms/step - d_loss: -1.3051 - g_loss: 4.3568 - _timestamp: 1652891084.0000 - _runtime: 35.0000\n",
            "Epoch 66/75\n",
            "8/8 [==============================] - 0s 46ms/step - d_loss: -1.0142 - g_loss: 3.4532 - _timestamp: 1652891085.0000 - _runtime: 36.0000\n",
            "Epoch 67/75\n",
            "8/8 [==============================] - 0s 46ms/step - d_loss: -0.9156 - g_loss: 3.6683 - _timestamp: 1652891085.0000 - _runtime: 36.0000\n",
            "Epoch 68/75\n",
            "8/8 [==============================] - 0s 47ms/step - d_loss: -0.6288 - g_loss: 3.7681 - _timestamp: 1652891085.0000 - _runtime: 36.0000\n",
            "Epoch 69/75\n",
            "8/8 [==============================] - 0s 51ms/step - d_loss: -0.5189 - g_loss: 3.6753 - _timestamp: 1652891086.0000 - _runtime: 37.0000\n",
            "Epoch 70/75\n",
            "8/8 [==============================] - 0s 46ms/step - d_loss: -0.7793 - g_loss: 3.5231 - _timestamp: 1652891086.0000 - _runtime: 37.0000\n",
            "Epoch 71/75\n",
            "8/8 [==============================] - 0s 47ms/step - d_loss: -0.5549 - g_loss: 2.9509 - _timestamp: 1652891087.0000 - _runtime: 38.0000\n",
            "Epoch 72/75\n",
            "8/8 [==============================] - 0s 46ms/step - d_loss: -0.4868 - g_loss: 2.2238 - _timestamp: 1652891087.0000 - _runtime: 38.0000\n",
            "Epoch 73/75\n",
            "8/8 [==============================] - 0s 47ms/step - d_loss: -0.8248 - g_loss: 1.9404 - _timestamp: 1652891087.0000 - _runtime: 38.0000\n",
            "Epoch 74/75\n",
            "8/8 [==============================] - 0s 45ms/step - d_loss: -0.9156 - g_loss: 2.7676 - _timestamp: 1652891088.0000 - _runtime: 39.0000\n",
            "Epoch 75/75\n",
            "8/8 [==============================] - 0s 46ms/step - d_loss: -0.8425 - g_loss: 1.8873 - _timestamp: 1652891088.0000 - _runtime: 39.0000\n"
          ]
        },
        {
          "output_type": "display_data",
          "data": {
            "text/plain": [
              "<IPython.core.display.HTML object>"
            ],
            "text/html": [
              "Waiting for W&B process to finish... <strong style=\"color:green\">(success).</strong>"
            ]
          },
          "metadata": {}
        },
        {
          "output_type": "display_data",
          "data": {
            "text/plain": [
              "VBox(children=(Label(value='0.001 MB of 0.001 MB uploaded (0.000 MB deduped)\\r'), FloatProgress(value=1.0, max…"
            ],
            "application/vnd.jupyter.widget-view+json": {
              "version_major": 2,
              "version_minor": 0,
              "model_id": "67bda4e5f15b4228ba314ab94e72ee7d"
            }
          },
          "metadata": {}
        },
        {
          "output_type": "display_data",
          "data": {
            "text/plain": [
              "<IPython.core.display.HTML object>"
            ],
            "text/html": [
              "<style>\n",
              "    table.wandb td:nth-child(1) { padding: 0 10px; text-align: left ; width: auto;} td:nth-child(2) {text-align: left ; width: 100%}\n",
              "    .wandb-row { display: flex; flex-direction: row; flex-wrap: wrap; justify-content: flex-start; width: 100% }\n",
              "    .wandb-col { display: flex; flex-direction: column; flex-basis: 100%; flex: 1; padding: 10px; }\n",
              "    </style>\n",
              "<div class=\"wandb-row\"><div class=\"wandb-col\"><h3>Run history:</h3><br/><table class=\"wandb\"><tr><td>d_loss</td><td>▁▄▅▅▆▆▆▆▆▆▇▆▆▆▆▆▆▆▆▆▆▆▆▆▇▆▆▇▇▇▇▅▇█▆▇█▇▆▆</td></tr><tr><td>epoch</td><td>▁▁▁▁▂▂▂▂▂▃▃▃▃▃▃▄▄▄▄▄▅▅▅▅▅▅▆▆▆▆▆▆▇▇▇▇▇███</td></tr><tr><td>g_loss</td><td>▁▁▃▂▅▃█▃▄▆▅▅▇█▇█▄▇▅▇▆▄▃▆▆▄▅▅▄▅▂▆▄▄▇█▄▆▄▄</td></tr></table><br/></div><div class=\"wandb-col\"><h3>Run summary:</h3><br/><table class=\"wandb\"><tr><td>d_loss</td><td>-1.28557</td></tr><tr><td>epoch</td><td>74</td></tr><tr><td>g_loss</td><td>1.47252</td></tr></table><br/></div></div>"
            ]
          },
          "metadata": {}
        },
        {
          "output_type": "display_data",
          "data": {
            "text/plain": [
              "<IPython.core.display.HTML object>"
            ],
            "text/html": [
              "Synced <strong style=\"color:#cdcd00\">glowing-snowflake-24</strong>: <a href=\"https://wandb.ai/sail-ugr/tfg-silvia-barroso/runs/3k4537ug\" target=\"_blank\">https://wandb.ai/sail-ugr/tfg-silvia-barroso/runs/3k4537ug</a><br/>Synced 5 W&B file(s), 1 media file(s), 0 artifact file(s) and 0 other file(s)"
            ]
          },
          "metadata": {}
        },
        {
          "output_type": "display_data",
          "data": {
            "text/plain": [
              "<IPython.core.display.HTML object>"
            ],
            "text/html": [
              "Find logs at: <code>./wandb/run-20220518_162408-3k4537ug/logs</code>"
            ]
          },
          "metadata": {}
        }
      ]
    },
    {
      "cell_type": "code",
      "source": [
        "#Evaluación\n",
        "wgan.evaluate_D()\n",
        "wgan.evaluate_G()"
      ],
      "metadata": {
        "colab": {
          "base_uri": "https://localhost:8080/",
          "height": 370
        },
        "id": "VyipuhulfQ9V",
        "outputId": "6aa7ccff-bec2-4cbe-8f26-8c5fa64b385b"
      },
      "execution_count": null,
      "outputs": [
        {
          "output_type": "stream",
          "name": "stdout",
          "text": [
            "8/8 [==============================] - 0s 4ms/step - loss: -1.7293 - accuracy: 0.0280\n",
            "8/8 [==============================] - 0s 3ms/step - loss: -1.2022 - accuracy: 1.0000\n",
            ">Accuracy real: 3%, fake: 100%\n",
            ">Loss real: \n",
            "-1.7292641401290894\n",
            ">Loss fake: \n",
            "-1.2022409439086914\n"
          ]
        },
        {
          "output_type": "display_data",
          "data": {
            "text/plain": [
              "<Figure size 432x288 with 9 Axes>"
            ],
            "image/png": "[encoded data removed]"
          },
          "metadata": {
            "needs_background": "light"
          }
        }
      ]
    },
    {
      "cell_type": "code",
      "source": [
        "#Veamos las imágenes generadas por el nuevo modelo generador que se ha definido para el EXPERIMENTO 3 \n",
        "generated_images_plot(x_train, x_test, generator3)"
      ],
      "metadata": {
        "colab": {
          "base_uri": "https://localhost:8080/",
          "height": 762
        },
        "id": "ztu1qN-2fTuN",
        "outputId": "957f73a2-7a1c-43c8-f1a5-1510f04c22d5"
      },
      "execution_count": null,
      "outputs": [
        {
          "output_type": "stream",
          "name": "stdout",
          "text": [
            "NOISED\n"
          ]
        },
        {
          "output_type": "display_data",
          "data": {
            "text/plain": [
              "<Figure size 432x288 with 9 Axes>"
            ],
            "image/png": "[encoded data removed]"
          },
          "metadata": {
            "needs_background": "light"
          }
        },
        {
          "output_type": "stream",
          "name": "stdout",
          "text": [
            "GENERATED\n"
          ]
        },
        {
          "output_type": "display_data",
          "data": {
            "text/plain": [
              "<Figure size 432x288 with 9 Axes>"
            ],
            "image/png": "[encoded data removed]"
          },
          "metadata": {
            "needs_background": "light"
          }
        },
        {
          "output_type": "stream",
          "name": "stdout",
          "text": [
            "ORIGINAL\n"
          ]
        },
        {
          "output_type": "display_data",
          "data": {
            "text/plain": [
              "<Figure size 432x288 with 9 Axes>"
            ],
            "image/png": "[encoded data removed]"
          },
          "metadata": {
            "needs_background": "light"
          }
        }
      ]
    },
    {
      "cell_type": "markdown",
      "source": [
        "# EXPERIMENTO 4\n",
        "Vamos a definir nuestro modelo discriminador con una arquitectura que ya vienen preconfiguradas en Keras, llamada MobileNet. \n",
        "\n",
        "Esta arquitectura tiene como limitación que acepta imágenes de tamaño minimo 32x32,esto es, el parámetro input_shape de MobileNet no debe ser inferior a 32. Por tanto,tenemos que volver a leer nuestros datos y redimensionarlos de 28x28 a 32x32. \n",
        "\n",
        "El generador es un vesión adaptada del generador definido en Experimento 3, de forma que produce imágenes de tamaño 32x32x1"
      ],
      "metadata": {
        "id": "JLRj4EIoDo2p"
      }
    },
    {
      "cell_type": "code",
      "source": [
        "################################################################################################################\n",
        "## FUNCIÓN PARA CARGAR EL CONJUNTO DE DATOS Y  REDIMENSIONAR LAS IMAGENES A 32x32x1\n",
        "###############################################################################################################\n",
        "\n",
        "# La base de datos MNIST contiene 60000 ejemplos en el conjunto de entrenamiento y 10000 en el conjunto de prueba\n",
        "# Las imagenes tienen un tamaño 28x28 que redimensionaremos a 32x32x1\n",
        "def load_data_resize(): \n",
        "    (x_train, y_train), (x_test, y_test) = mnist.load_data()\n",
        "   \n",
        "    #Primero paso: Redimensiono las imagenes de 28x28 a 32x32\n",
        "    ret=[]\n",
        "    ret_test=[]\n",
        "    for img in x_train:\n",
        "      ret.append(resize(img,(32,32)))\n",
        "    for img in x_test:\n",
        "      ret_test.append(resize(img,(32,32)))\n",
        "\n",
        "    x_train=np.asarray(ret)\n",
        "    x_test=np.asarray(ret_test)\n",
        "\n",
        "    #Segundo paso: Redimensiono las imagenes de 32x32 a 32x32x1\n",
        "    x_train= x_train.reshape((60000, 32, 32, 1))\n",
        "    x_test= x_test.reshape((10000, 32, 32, 1))\n",
        "   \n",
        "    x_train = x_train.astype('float32')\n",
        "    x_test = x_test.astype('float32')\n",
        "   \n",
        "    #Añadir algo de ruido en el conjunto de prueba\n",
        "    x_test = np.random.normal(x_test)  \n",
        "   \n",
        "    #Normalizamos a escala [0,1]\n",
        "    x_train,x_test= x_train / 255,x_test / 255\n",
        "\n",
        "    return (x_train, y_train), (x_test, y_test)\n",
        "\n",
        "#Cargamos toda la base de datos MNIST redimensionada \n",
        "(x_train, y_train), (x_test, y_test) = load_data_resize()\n"
      ],
      "metadata": {
        "id": "XVwFNhQQFvjk"
      },
      "execution_count": null,
      "outputs": []
    },
    {
      "cell_type": "code",
      "source": [
        "# Barajamos el conjunto de datos para no tener clases contiguas y nos quedamos con num_imagenes imágenes\n",
        "\n",
        "# Declaramos una semilla\n",
        "seed(123456)\n",
        "\n",
        "# Guardamos índices\n",
        "ind_train = list(range(len(x_train)))\n",
        "ind_test = list(range(len(x_test)))\n",
        "\n",
        "# Desordenamos los indices para quedarnos con num_imagenes imagenes aleatorias\n",
        "shuffle(ind_train)\n",
        "shuffle(ind_test)\n",
        "\n",
        "# En base a los indices nos quedamos con num_imagenes imágenes\n",
        "x_train            = x_train[ind_train[0:num_imagenes]]\n",
        "y_train            = y_train[ind_train[0:num_imagenes]]\n",
        "\n",
        "x_test             = x_test[ind_test[0:num_imagenes]]\n",
        "y_test             = y_test[ind_test[0:num_imagenes]]"
      ],
      "metadata": {
        "id": "mlfM0sFCHi0b"
      },
      "execution_count": null,
      "outputs": []
    },
    {
      "cell_type": "code",
      "source": [
        "discriminator4=tf.keras.applications.MobileNet(\n",
        "    input_shape=(32,32,1), \n",
        "    alpha=1.0, \n",
        "    depth_multiplier=1,\n",
        "    dropout=0.5, \n",
        "    include_top=False, \n",
        "    weights=None,  # Inicialización aleatoria de los pesos\n",
        "    input_tensor=None, \n",
        "    pooling=None,\n",
        "    classes=2,\n",
        "    classifier_activation=\"sigmoid\"\n",
        ")\n",
        "discriminator4.summary()"
      ],
      "metadata": {
        "id": "GjEeA9EJHnqL",
        "colab": {
          "base_uri": "https://localhost:8080/"
        },
        "outputId": "28f9bfba-8cc8-4403-e843-8e6a002e071f"
      },
      "execution_count": null,
      "outputs": [
        {
          "output_type": "stream",
          "name": "stdout",
          "text": [
            "Model: \"mobilenet_1.00_32\"\n",
            "_________________________________________________________________\n",
            " Layer (type)                Output Shape              Param #   \n",
            "=================================================================\n",
            " input_6 (InputLayer)        [(None, 32, 32, 1)]       0         \n",
            "                                                                 \n",
            " conv1 (Conv2D)              (None, 16, 16, 32)        288       \n",
            "                                                                 \n",
            " conv1_bn (BatchNormalizatio  (None, 16, 16, 32)       128       \n",
            " n)                                                              \n",
            "                                                                 \n",
            " conv1_relu (ReLU)           (None, 16, 16, 32)        0         \n",
            "                                                                 \n",
            " conv_dw_1 (DepthwiseConv2D)  (None, 16, 16, 32)       288       \n",
            "                                                                 \n",
            " conv_dw_1_bn (BatchNormaliz  (None, 16, 16, 32)       128       \n",
            " ation)                                                          \n",
            "                                                                 \n",
            " conv_dw_1_relu (ReLU)       (None, 16, 16, 32)        0         \n",
            "                                                                 \n",
            " conv_pw_1 (Conv2D)          (None, 16, 16, 64)        2048      \n",
            "                                                                 \n",
            " conv_pw_1_bn (BatchNormaliz  (None, 16, 16, 64)       256       \n",
            " ation)                                                          \n",
            "                                                                 \n",
            " conv_pw_1_relu (ReLU)       (None, 16, 16, 64)        0         \n",
            "                                                                 \n",
            " conv_pad_2 (ZeroPadding2D)  (None, 17, 17, 64)        0         \n",
            "                                                                 \n",
            " conv_dw_2 (DepthwiseConv2D)  (None, 8, 8, 64)         576       \n",
            "                                                                 \n",
            " conv_dw_2_bn (BatchNormaliz  (None, 8, 8, 64)         256       \n",
            " ation)                                                          \n",
            "                                                                 \n",
            " conv_dw_2_relu (ReLU)       (None, 8, 8, 64)          0         \n",
            "                                                                 \n",
            " conv_pw_2 (Conv2D)          (None, 8, 8, 128)         8192      \n",
            "                                                                 \n",
            " conv_pw_2_bn (BatchNormaliz  (None, 8, 8, 128)        512       \n",
            " ation)                                                          \n",
            "                                                                 \n",
            " conv_pw_2_relu (ReLU)       (None, 8, 8, 128)         0         \n",
            "                                                                 \n",
            " conv_dw_3 (DepthwiseConv2D)  (None, 8, 8, 128)        1152      \n",
            "                                                                 \n",
            " conv_dw_3_bn (BatchNormaliz  (None, 8, 8, 128)        512       \n",
            " ation)                                                          \n",
            "                                                                 \n",
            " conv_dw_3_relu (ReLU)       (None, 8, 8, 128)         0         \n",
            "                                                                 \n",
            " conv_pw_3 (Conv2D)          (None, 8, 8, 128)         16384     \n",
            "                                                                 \n",
            " conv_pw_3_bn (BatchNormaliz  (None, 8, 8, 128)        512       \n",
            " ation)                                                          \n",
            "                                                                 \n",
            " conv_pw_3_relu (ReLU)       (None, 8, 8, 128)         0         \n",
            "                                                                 \n",
            " conv_pad_4 (ZeroPadding2D)  (None, 9, 9, 128)         0         \n",
            "                                                                 \n",
            " conv_dw_4 (DepthwiseConv2D)  (None, 4, 4, 128)        1152      \n",
            "                                                                 \n",
            " conv_dw_4_bn (BatchNormaliz  (None, 4, 4, 128)        512       \n",
            " ation)                                                          \n",
            "                                                                 \n",
            " conv_dw_4_relu (ReLU)       (None, 4, 4, 128)         0         \n",
            "                                                                 \n",
            " conv_pw_4 (Conv2D)          (None, 4, 4, 256)         32768     \n",
            "                                                                 \n",
            " conv_pw_4_bn (BatchNormaliz  (None, 4, 4, 256)        1024      \n",
            " ation)                                                          \n",
            "                                                                 \n",
            " conv_pw_4_relu (ReLU)       (None, 4, 4, 256)         0         \n",
            "                                                                 \n",
            " conv_dw_5 (DepthwiseConv2D)  (None, 4, 4, 256)        2304      \n",
            "                                                                 \n",
            " conv_dw_5_bn (BatchNormaliz  (None, 4, 4, 256)        1024      \n",
            " ation)                                                          \n",
            "                                                                 \n",
            " conv_dw_5_relu (ReLU)       (None, 4, 4, 256)         0         \n",
            "                                                                 \n",
            " conv_pw_5 (Conv2D)          (None, 4, 4, 256)         65536     \n",
            "                                                                 \n",
            " conv_pw_5_bn (BatchNormaliz  (None, 4, 4, 256)        1024      \n",
            " ation)                                                          \n",
            "                                                                 \n",
            " conv_pw_5_relu (ReLU)       (None, 4, 4, 256)         0         \n",
            "                                                                 \n",
            " conv_pad_6 (ZeroPadding2D)  (None, 5, 5, 256)         0         \n",
            "                                                                 \n",
            " conv_dw_6 (DepthwiseConv2D)  (None, 2, 2, 256)        2304      \n",
            "                                                                 \n",
            " conv_dw_6_bn (BatchNormaliz  (None, 2, 2, 256)        1024      \n",
            " ation)                                                          \n",
            "                                                                 \n",
            " conv_dw_6_relu (ReLU)       (None, 2, 2, 256)         0         \n",
            "                                                                 \n",
            " conv_pw_6 (Conv2D)          (None, 2, 2, 512)         131072    \n",
            "                                                                 \n",
            " conv_pw_6_bn (BatchNormaliz  (None, 2, 2, 512)        2048      \n",
            " ation)                                                          \n",
            "                                                                 \n",
            " conv_pw_6_relu (ReLU)       (None, 2, 2, 512)         0         \n",
            "                                                                 \n",
            " conv_dw_7 (DepthwiseConv2D)  (None, 2, 2, 512)        4608      \n",
            "                                                                 \n",
            " conv_dw_7_bn (BatchNormaliz  (None, 2, 2, 512)        2048      \n",
            " ation)                                                          \n",
            "                                                                 \n",
            " conv_dw_7_relu (ReLU)       (None, 2, 2, 512)         0         \n",
            "                                                                 \n",
            " conv_pw_7 (Conv2D)          (None, 2, 2, 512)         262144    \n",
            "                                                                 \n",
            " conv_pw_7_bn (BatchNormaliz  (None, 2, 2, 512)        2048      \n",
            " ation)                                                          \n",
            "                                                                 \n",
            " conv_pw_7_relu (ReLU)       (None, 2, 2, 512)         0         \n",
            "                                                                 \n",
            " conv_dw_8 (DepthwiseConv2D)  (None, 2, 2, 512)        4608      \n",
            "                                                                 \n",
            " conv_dw_8_bn (BatchNormaliz  (None, 2, 2, 512)        2048      \n",
            " ation)                                                          \n",
            "                                                                 \n",
            " conv_dw_8_relu (ReLU)       (None, 2, 2, 512)         0         \n",
            "                                                                 \n",
            " conv_pw_8 (Conv2D)          (None, 2, 2, 512)         262144    \n",
            "                                                                 \n",
            " conv_pw_8_bn (BatchNormaliz  (None, 2, 2, 512)        2048      \n",
            " ation)                                                          \n",
            "                                                                 \n",
            " conv_pw_8_relu (ReLU)       (None, 2, 2, 512)         0         \n",
            "                                                                 \n",
            " conv_dw_9 (DepthwiseConv2D)  (None, 2, 2, 512)        4608      \n",
            "                                                                 \n",
            " conv_dw_9_bn (BatchNormaliz  (None, 2, 2, 512)        2048      \n",
            " ation)                                                          \n",
            "                                                                 \n",
            " conv_dw_9_relu (ReLU)       (None, 2, 2, 512)         0         \n",
            "                                                                 \n",
            " conv_pw_9 (Conv2D)          (None, 2, 2, 512)         262144    \n",
            "                                                                 \n",
            " conv_pw_9_bn (BatchNormaliz  (None, 2, 2, 512)        2048      \n",
            " ation)                                                          \n",
            "                                                                 \n",
            " conv_pw_9_relu (ReLU)       (None, 2, 2, 512)         0         \n",
            "                                                                 \n",
            " conv_dw_10 (DepthwiseConv2D  (None, 2, 2, 512)        4608      \n",
            " )                                                               \n",
            "                                                                 \n",
            " conv_dw_10_bn (BatchNormali  (None, 2, 2, 512)        2048      \n",
            " zation)                                                         \n",
            "                                                                 \n",
            " conv_dw_10_relu (ReLU)      (None, 2, 2, 512)         0         \n",
            "                                                                 \n",
            " conv_pw_10 (Conv2D)         (None, 2, 2, 512)         262144    \n",
            "                                                                 \n",
            " conv_pw_10_bn (BatchNormali  (None, 2, 2, 512)        2048      \n",
            " zation)                                                         \n",
            "                                                                 \n",
            " conv_pw_10_relu (ReLU)      (None, 2, 2, 512)         0         \n",
            "                                                                 \n",
            " conv_dw_11 (DepthwiseConv2D  (None, 2, 2, 512)        4608      \n",
            " )                                                               \n",
            "                                                                 \n",
            " conv_dw_11_bn (BatchNormali  (None, 2, 2, 512)        2048      \n",
            " zation)                                                         \n",
            "                                                                 \n",
            " conv_dw_11_relu (ReLU)      (None, 2, 2, 512)         0         \n",
            "                                                                 \n",
            " conv_pw_11 (Conv2D)         (None, 2, 2, 512)         262144    \n",
            "                                                                 \n",
            " conv_pw_11_bn (BatchNormali  (None, 2, 2, 512)        2048      \n",
            " zation)                                                         \n",
            "                                                                 \n",
            " conv_pw_11_relu (ReLU)      (None, 2, 2, 512)         0         \n",
            "                                                                 \n",
            " conv_pad_12 (ZeroPadding2D)  (None, 3, 3, 512)        0         \n",
            "                                                                 \n",
            " conv_dw_12 (DepthwiseConv2D  (None, 1, 1, 512)        4608      \n",
            " )                                                               \n",
            "                                                                 \n",
            " conv_dw_12_bn (BatchNormali  (None, 1, 1, 512)        2048      \n",
            " zation)                                                         \n",
            "                                                                 \n",
            " conv_dw_12_relu (ReLU)      (None, 1, 1, 512)         0         \n",
            "                                                                 \n",
            " conv_pw_12 (Conv2D)         (None, 1, 1, 1024)        524288    \n",
            "                                                                 \n",
            " conv_pw_12_bn (BatchNormali  (None, 1, 1, 1024)       4096      \n",
            " zation)                                                         \n",
            "                                                                 \n",
            " conv_pw_12_relu (ReLU)      (None, 1, 1, 1024)        0         \n",
            "                                                                 \n",
            " conv_dw_13 (DepthwiseConv2D  (None, 1, 1, 1024)       9216      \n",
            " )                                                               \n",
            "                                                                 \n",
            " conv_dw_13_bn (BatchNormali  (None, 1, 1, 1024)       4096      \n",
            " zation)                                                         \n",
            "                                                                 \n",
            " conv_dw_13_relu (ReLU)      (None, 1, 1, 1024)        0         \n",
            "                                                                 \n",
            " conv_pw_13 (Conv2D)         (None, 1, 1, 1024)        1048576   \n",
            "                                                                 \n",
            " conv_pw_13_bn (BatchNormali  (None, 1, 1, 1024)       4096      \n",
            " zation)                                                         \n",
            "                                                                 \n",
            " conv_pw_13_relu (ReLU)      (None, 1, 1, 1024)        0         \n",
            "                                                                 \n",
            "=================================================================\n",
            "Total params: 3,228,288\n",
            "Trainable params: 3,206,400\n",
            "Non-trainable params: 21,888\n",
            "_________________________________________________________________\n"
          ]
        }
      ]
    },
    {
      "cell_type": "code",
      "source": [
        "generator4=keras.Sequential(\n",
        "    [\n",
        "        keras.Input(shape=(latent_dim,)),\n",
        "        layers.Dense(32*32*128),\n",
        "        layers.Reshape((32,32,128)),\n",
        "        layers.Conv2D(32, kernel_size=3, padding=\"same\",input_shape=(32,32,128)),\n",
        "        layers.BatchNormalization(),\n",
        "        layers.LeakyReLU(alpha=0.2),\n",
        "        layers.AveragePooling2D(pool_size=(2, 2)),\n",
        "        layers.Conv2D(64, kernel_size=3, padding=\"same\"),\n",
        "        layers.BatchNormalization(),\n",
        "        layers.LeakyReLU(alpha=0.2),\n",
        "        layers.AveragePooling2D(pool_size=(2, 2)),\n",
        "        layers.Conv2D(128, kernel_size=3, padding=\"same\"),\n",
        "        layers.BatchNormalization(),\n",
        "        layers.LeakyReLU(alpha=0.2),\n",
        "        layers.Conv2D(128, kernel_size=3, padding=\"same\"),\n",
        "        layers.LeakyReLU(alpha=0.2),\n",
        "        layers.UpSampling2D((2,2)),\n",
        "        layers.Conv2D(64, kernel_size=3, padding=\"same\"),\n",
        "        layers.LeakyReLU(alpha=0.2),\n",
        "        layers.UpSampling2D((2,2)),\n",
        "        layers.Conv2D(1, kernel_size=3, padding=\"same\", activation=\"sigmoid\"),\n",
        "        \n",
        "    ],\n",
        "    name=\"generator4\",\n",
        ")\n",
        "generator4.summary()"
      ],
      "metadata": {
        "id": "x3M1WkrgH74f",
        "colab": {
          "base_uri": "https://localhost:8080/"
        },
        "outputId": "9788a6a8-3729-4ec8-b5f2-272459730852"
      },
      "execution_count": null,
      "outputs": [
        {
          "output_type": "stream",
          "name": "stdout",
          "text": [
            "Model: \"generator4\"\n",
            "_________________________________________________________________\n",
            " Layer (type)                Output Shape              Param #   \n",
            "=================================================================\n",
            " dense_5 (Dense)             (None, 131072)            16908288  \n",
            "                                                                 \n",
            " reshape_2 (Reshape)         (None, 32, 32, 128)       0         \n",
            "                                                                 \n",
            " conv2d_14 (Conv2D)          (None, 32, 32, 32)        36896     \n",
            "                                                                 \n",
            " batch_normalization_3 (Batc  (None, 32, 32, 32)       128       \n",
            " hNormalization)                                                 \n",
            "                                                                 \n",
            " leaky_re_lu_14 (LeakyReLU)  (None, 32, 32, 32)        0         \n",
            "                                                                 \n",
            " average_pooling2d_2 (Averag  (None, 16, 16, 32)       0         \n",
            " ePooling2D)                                                     \n",
            "                                                                 \n",
            " conv2d_15 (Conv2D)          (None, 16, 16, 64)        18496     \n",
            "                                                                 \n",
            " batch_normalization_4 (Batc  (None, 16, 16, 64)       256       \n",
            " hNormalization)                                                 \n",
            "                                                                 \n",
            " leaky_re_lu_15 (LeakyReLU)  (None, 16, 16, 64)        0         \n",
            "                                                                 \n",
            " average_pooling2d_3 (Averag  (None, 8, 8, 64)         0         \n",
            " ePooling2D)                                                     \n",
            "                                                                 \n",
            " conv2d_16 (Conv2D)          (None, 8, 8, 128)         73856     \n",
            "                                                                 \n",
            " batch_normalization_5 (Batc  (None, 8, 8, 128)        512       \n",
            " hNormalization)                                                 \n",
            "                                                                 \n",
            " leaky_re_lu_16 (LeakyReLU)  (None, 8, 8, 128)         0         \n",
            "                                                                 \n",
            " conv2d_17 (Conv2D)          (None, 8, 8, 128)         147584    \n",
            "                                                                 \n",
            " leaky_re_lu_17 (LeakyReLU)  (None, 8, 8, 128)         0         \n",
            "                                                                 \n",
            " up_sampling2d_2 (UpSampling  (None, 16, 16, 128)      0         \n",
            " 2D)                                                             \n",
            "                                                                 \n",
            " conv2d_18 (Conv2D)          (None, 16, 16, 64)        73792     \n",
            "                                                                 \n",
            " leaky_re_lu_18 (LeakyReLU)  (None, 16, 16, 64)        0         \n",
            "                                                                 \n",
            " up_sampling2d_3 (UpSampling  (None, 32, 32, 64)       0         \n",
            " 2D)                                                             \n",
            "                                                                 \n",
            " conv2d_19 (Conv2D)          (None, 32, 32, 1)         577       \n",
            "                                                                 \n",
            "=================================================================\n",
            "Total params: 17,260,385\n",
            "Trainable params: 17,259,937\n",
            "Non-trainable params: 448\n",
            "_________________________________________________________________\n"
          ]
        }
      ]
    },
    {
      "cell_type": "code",
      "source": [
        "wandb.init(project=\"tfg-silvia-barroso\", entity=\"sail-ugr\", \n",
        "          config= {\n",
        "               \"learning_rate\": 1e-3,\n",
        "               \"epochs\": epochs,\n",
        "               \"num_imagenes\": 6332,\n",
        "               \"opt\": \"Adam\",\n",
        "               \"latent_dim\": latent_dim\n",
        "               })\n",
        "\n",
        "# Definimos el modelo WGAN.\n",
        "wgan = WGAN(discriminator=discriminator4,\n",
        "\t\t\tgenerator=generator4,\n",
        "            latent_dim=latent_dim,\n",
        "            discriminator_extra_steps=5,)\n",
        "\n",
        "# Compilacion\n",
        "wgan.compile(d_optimizer=discriminator_optimizer,\n",
        "\t\t\t g_optimizer=generator_optimizer,\n",
        "             g_loss_fn=generator_loss,\n",
        "             d_loss_fn=discriminator_loss,)\n",
        "\n",
        "# Entrenamiento\n",
        "wgan.fit(x_train, epochs=epochs, callbacks=[WandbCallback()])\n",
        "\n",
        "wandb.finish()"
      ],
      "metadata": {
        "colab": {
          "base_uri": "https://localhost:8080/",
          "height": 1000,
          "referenced_widgets": [
            "ad41889529ac470fbca2c3ae6b69ccde",
            "fc763caacc624af38afce44306529b2a",
            "665a86a00e8544e59af58bee5805b1d9",
            "46b815031985429296c47d4906380eec",
            "5bc67758170f42c9a025d93f4b04e2cb",
            "4d65f05511d04fdfa36a5ae232b7b68f",
            "dbf5e351e7424e78abc6f0014963a305",
            "135a97eab6674bac838b674a4e1bdb0a"
          ]
        },
        "id": "9NDPmckegReO",
        "outputId": "56fb7d78-ac43-4410-b94f-dd45a9bce5a0"
      },
      "execution_count": null,
      "outputs": [
        {
          "output_type": "display_data",
          "data": {
            "text/plain": [
              "<IPython.core.display.HTML object>"
            ],
            "text/html": [
              "Tracking run with wandb version 0.12.16"
            ]
          },
          "metadata": {}
        },
        {
          "output_type": "display_data",
          "data": {
            "text/plain": [
              "<IPython.core.display.HTML object>"
            ],
            "text/html": [
              "Run data is saved locally in <code>/content/wandb/run-20220518_162602-1h6d29ji</code>"
            ]
          },
          "metadata": {}
        },
        {
          "output_type": "display_data",
          "data": {
            "text/plain": [
              "<IPython.core.display.HTML object>"
            ],
            "text/html": [
              "Syncing run <strong><a href=\"https://wandb.ai/sail-ugr/tfg-silvia-barroso/runs/1h6d29ji\" target=\"_blank\">trim-feather-25</a></strong> to <a href=\"https://wandb.ai/sail-ugr/tfg-silvia-barroso\" target=\"_blank\">Weights & Biases</a> (<a href=\"https://wandb.me/run\" target=\"_blank\">docs</a>)<br/>"
            ]
          },
          "metadata": {}
        },
        {
          "output_type": "stream",
          "name": "stdout",
          "text": [
            "Epoch 1/75\n",
            "8/8 [==============================] - 97s 414ms/step - d_loss: 114100962.8889 - g_loss: -0.3858 - _timestamp: 1652891265.0000 - _runtime: 103.0000\n",
            "Epoch 2/75\n",
            "8/8 [==============================] - 3s 378ms/step - d_loss: 249542711.3333 - g_loss: -0.4126 - _timestamp: 1652891268.0000 - _runtime: 106.0000\n",
            "Epoch 3/75\n",
            "8/8 [==============================] - 3s 383ms/step - d_loss: 102385561.4028 - g_loss: -0.4392 - _timestamp: 1652891271.0000 - _runtime: 109.0000\n",
            "Epoch 4/75\n",
            "8/8 [==============================] - 3s 377ms/step - d_loss: 111855108.5694 - g_loss: -0.4512 - _timestamp: 1652891274.0000 - _runtime: 112.0000\n",
            "Epoch 5/75\n",
            "8/8 [==============================] - 3s 371ms/step - d_loss: 125619929.1111 - g_loss: -0.4155 - _timestamp: 1652891277.0000 - _runtime: 115.0000\n",
            "Epoch 6/75\n",
            "8/8 [==============================] - 3s 373ms/step - d_loss: 34804772.9722 - g_loss: -0.4026 - _timestamp: 1652891280.0000 - _runtime: 118.0000\n",
            "Epoch 7/75\n",
            "8/8 [==============================] - 3s 372ms/step - d_loss: 62553886.3333 - g_loss: -0.3955 - _timestamp: 1652891283.0000 - _runtime: 121.0000\n",
            "Epoch 8/75\n",
            "8/8 [==============================] - 3s 381ms/step - d_loss: 48564107.3893 - g_loss: -0.4063 - _timestamp: 1652891286.0000 - _runtime: 124.0000\n",
            "Epoch 9/75\n",
            "8/8 [==============================] - 3s 373ms/step - d_loss: 115731011.9444 - g_loss: -0.4256 - _timestamp: 1652891289.0000 - _runtime: 127.0000\n",
            "Epoch 10/75\n",
            "8/8 [==============================] - 3s 376ms/step - d_loss: 21931293.3681 - g_loss: -0.4172 - _timestamp: 1652891292.0000 - _runtime: 130.0000\n",
            "Epoch 11/75\n",
            "8/8 [==============================] - 3s 376ms/step - d_loss: 32161068.9097 - g_loss: -0.4056 - _timestamp: 1652891295.0000 - _runtime: 133.0000\n",
            "Epoch 12/75\n",
            "8/8 [==============================] - 3s 376ms/step - d_loss: 198104424.6670 - g_loss: -0.4115 - _timestamp: 1652891298.0000 - _runtime: 136.0000\n",
            "Epoch 13/75\n",
            "8/8 [==============================] - 3s 376ms/step - d_loss: 1246995521.0278 - g_loss: -0.4113 - _timestamp: 1652891301.0000 - _runtime: 139.0000\n",
            "Epoch 14/75\n",
            "8/8 [==============================] - 3s 378ms/step - d_loss: 44168061.5069 - g_loss: -0.3920 - _timestamp: 1652891304.0000 - _runtime: 142.0000\n",
            "Epoch 15/75\n",
            "8/8 [==============================] - 3s 373ms/step - d_loss: 54045226.7812 - g_loss: -0.3936 - _timestamp: 1652891307.0000 - _runtime: 145.0000\n",
            "Epoch 16/75\n",
            "8/8 [==============================] - 3s 375ms/step - d_loss: 674463327.7252 - g_loss: -0.3919 - _timestamp: 1652891310.0000 - _runtime: 148.0000\n",
            "Epoch 17/75\n",
            "8/8 [==============================] - 3s 373ms/step - d_loss: 508453302.6188 - g_loss: -0.3932 - _timestamp: 1652891313.0000 - _runtime: 151.0000\n",
            "Epoch 18/75\n",
            "8/8 [==============================] - 3s 373ms/step - d_loss: 713054481.7817 - g_loss: -0.3940 - _timestamp: 1652891316.0000 - _runtime: 154.0000\n",
            "Epoch 19/75\n",
            "8/8 [==============================] - 3s 374ms/step - d_loss: 11641.8762 - g_loss: -0.3862 - _timestamp: 1652891319.0000 - _runtime: 157.0000\n",
            "Epoch 20/75\n",
            "8/8 [==============================] - 3s 375ms/step - d_loss: 2330315538.9827 - g_loss: -0.3891 - _timestamp: 1652891322.0000 - _runtime: 160.0000\n",
            "Epoch 21/75\n",
            "8/8 [==============================] - 3s 373ms/step - d_loss: 814269944.3606 - g_loss: -0.3756 - _timestamp: 1652891325.0000 - _runtime: 163.0000\n",
            "Epoch 22/75\n",
            "8/8 [==============================] - 3s 373ms/step - d_loss: 2875.5594 - g_loss: -0.3720 - _timestamp: 1652891328.0000 - _runtime: 166.0000\n",
            "Epoch 23/75\n",
            "8/8 [==============================] - 3s 374ms/step - d_loss: 361.2504 - g_loss: -0.3728 - _timestamp: 1652891331.0000 - _runtime: 169.0000\n",
            "Epoch 24/75\n",
            "8/8 [==============================] - 3s 374ms/step - d_loss: 116978.3904 - g_loss: -0.3772 - _timestamp: 1652891334.0000 - _runtime: 172.0000\n",
            "Epoch 25/75\n",
            "8/8 [==============================] - 3s 370ms/step - d_loss: 13296238.0213 - g_loss: -0.3804 - _timestamp: 1652891337.0000 - _runtime: 175.0000\n",
            "Epoch 26/75\n",
            "8/8 [==============================] - 3s 369ms/step - d_loss: 3618991344.2103 - g_loss: -0.3701 - _timestamp: 1652891340.0000 - _runtime: 178.0000\n",
            "Epoch 27/75\n",
            "8/8 [==============================] - 3s 373ms/step - d_loss: 181914857.2498 - g_loss: -0.3561 - _timestamp: 1652891343.0000 - _runtime: 181.0000\n",
            "Epoch 28/75\n",
            "8/8 [==============================] - 3s 375ms/step - d_loss: 2855107273.4006 - g_loss: -0.3497 - _timestamp: 1652891346.0000 - _runtime: 184.0000\n",
            "Epoch 29/75\n",
            "8/8 [==============================] - 3s 368ms/step - d_loss: 1056805.5189 - g_loss: -0.3430 - _timestamp: 1652891349.0000 - _runtime: 187.0000\n",
            "Epoch 30/75\n",
            "8/8 [==============================] - 3s 372ms/step - d_loss: 3830440.1589 - g_loss: -0.3646 - _timestamp: 1652891352.0000 - _runtime: 190.0000\n",
            "Epoch 31/75\n",
            "8/8 [==============================] - 3s 379ms/step - d_loss: 33130.5182 - g_loss: -0.3700 - _timestamp: 1652891355.0000 - _runtime: 193.0000\n",
            "Epoch 32/75\n",
            "8/8 [==============================] - 3s 374ms/step - d_loss: 39446.5498 - g_loss: -0.3659 - _timestamp: 1652891358.0000 - _runtime: 196.0000\n",
            "Epoch 33/75\n",
            "8/8 [==============================] - 3s 375ms/step - d_loss: 280932.5530 - g_loss: -0.3632 - _timestamp: 1652891361.0000 - _runtime: 199.0000\n",
            "Epoch 34/75\n",
            "8/8 [==============================] - 3s 378ms/step - d_loss: 241661055.8553 - g_loss: -0.3589 - _timestamp: 1652891364.0000 - _runtime: 202.0000\n",
            "Epoch 35/75\n",
            "8/8 [==============================] - 3s 381ms/step - d_loss: 16617513.6281 - g_loss: -0.3531 - _timestamp: 1652891367.0000 - _runtime: 205.0000\n",
            "Epoch 36/75\n",
            "8/8 [==============================] - 3s 376ms/step - d_loss: 1048370.5830 - g_loss: -0.3509 - _timestamp: 1652891370.0000 - _runtime: 208.0000\n",
            "Epoch 37/75\n",
            "8/8 [==============================] - 3s 370ms/step - d_loss: 1337155789.9275 - g_loss: -0.3483 - _timestamp: 1652891373.0000 - _runtime: 211.0000\n",
            "Epoch 38/75\n",
            "8/8 [==============================] - 3s 373ms/step - d_loss: 2660527.1639 - g_loss: -0.3446 - _timestamp: 1652891376.0000 - _runtime: 214.0000\n",
            "Epoch 39/75\n",
            "8/8 [==============================] - 3s 375ms/step - d_loss: 109180.9842 - g_loss: -0.3416 - _timestamp: 1652891379.0000 - _runtime: 217.0000\n",
            "Epoch 40/75\n",
            "8/8 [==============================] - 3s 373ms/step - d_loss: 1127.7708 - g_loss: -0.3406 - _timestamp: 1652891382.0000 - _runtime: 220.0000\n",
            "Epoch 41/75\n",
            "8/8 [==============================] - 3s 381ms/step - d_loss: 75616007.3405 - g_loss: -0.3456 - _timestamp: 1652891385.0000 - _runtime: 223.0000\n",
            "Epoch 42/75\n",
            "8/8 [==============================] - 3s 372ms/step - d_loss: 44049853.1419 - g_loss: -0.3408 - _timestamp: 1652891388.0000 - _runtime: 226.0000\n",
            "Epoch 43/75\n",
            "8/8 [==============================] - 3s 377ms/step - d_loss: 4271051.6580 - g_loss: -0.3449 - _timestamp: 1652891391.0000 - _runtime: 229.0000\n",
            "Epoch 44/75\n",
            "8/8 [==============================] - 3s 382ms/step - d_loss: 39067.8051 - g_loss: -0.3447 - _timestamp: 1652891394.0000 - _runtime: 232.0000\n",
            "Epoch 45/75\n",
            "8/8 [==============================] - 3s 376ms/step - d_loss: 13562752.9348 - g_loss: -0.3444 - _timestamp: 1652891397.0000 - _runtime: 235.0000\n",
            "Epoch 46/75\n",
            "8/8 [==============================] - 3s 376ms/step - d_loss: 2241800.0266 - g_loss: -0.3424 - _timestamp: 1652891400.0000 - _runtime: 238.0000\n",
            "Epoch 47/75\n",
            "8/8 [==============================] - 3s 369ms/step - d_loss: 1686.0863 - g_loss: -0.3418 - _timestamp: 1652891403.0000 - _runtime: 241.0000\n",
            "Epoch 48/75\n",
            "8/8 [==============================] - 3s 375ms/step - d_loss: 42.4323 - g_loss: -0.3403 - _timestamp: 1652891406.0000 - _runtime: 244.0000\n",
            "Epoch 49/75\n",
            "8/8 [==============================] - 3s 372ms/step - d_loss: 946.5237 - g_loss: -0.3403 - _timestamp: 1652891409.0000 - _runtime: 247.0000\n",
            "Epoch 50/75\n",
            "8/8 [==============================] - 3s 368ms/step - d_loss: 27.9214 - g_loss: -0.3355 - _timestamp: 1652891412.0000 - _runtime: 250.0000\n",
            "Epoch 51/75\n",
            "8/8 [==============================] - 3s 373ms/step - d_loss: 21482196.3283 - g_loss: -0.3273 - _timestamp: 1652891415.0000 - _runtime: 253.0000\n",
            "Epoch 52/75\n",
            "8/8 [==============================] - 3s 377ms/step - d_loss: 12.0994 - g_loss: -0.3336 - _timestamp: 1652891418.0000 - _runtime: 256.0000\n",
            "Epoch 53/75\n",
            "8/8 [==============================] - 3s 372ms/step - d_loss: 13674440.1219 - g_loss: -0.3356 - _timestamp: 1652891421.0000 - _runtime: 259.0000\n",
            "Epoch 54/75\n",
            "8/8 [==============================] - 3s 375ms/step - d_loss: 4269.3806 - g_loss: -0.3350 - _timestamp: 1652891424.0000 - _runtime: 262.0000\n",
            "Epoch 55/75\n",
            "8/8 [==============================] - 3s 373ms/step - d_loss: 1477.1997 - g_loss: -0.3339 - _timestamp: 1652891427.0000 - _runtime: 265.0000\n",
            "Epoch 56/75\n",
            "8/8 [==============================] - 3s 381ms/step - d_loss: 2822334601.9536 - g_loss: -0.3334 - _timestamp: 1652891430.0000 - _runtime: 268.0000\n",
            "Epoch 57/75\n",
            "8/8 [==============================] - 3s 372ms/step - d_loss: 13682096.8018 - g_loss: -0.3282 - _timestamp: 1652891433.0000 - _runtime: 271.0000\n",
            "Epoch 58/75\n",
            "8/8 [==============================] - 3s 366ms/step - d_loss: 56512918.7090 - g_loss: -0.3265 - _timestamp: 1652891436.0000 - _runtime: 274.0000\n",
            "Epoch 59/75\n",
            "8/8 [==============================] - 3s 373ms/step - d_loss: 494.7254 - g_loss: -0.3229 - _timestamp: 1652891439.0000 - _runtime: 277.0000\n",
            "Epoch 60/75\n",
            "8/8 [==============================] - 3s 369ms/step - d_loss: 835464.7748 - g_loss: -0.3160 - _timestamp: 1652891442.0000 - _runtime: 280.0000\n",
            "Epoch 61/75\n",
            "8/8 [==============================] - 3s 375ms/step - d_loss: 869340904.9485 - g_loss: -0.3112 - _timestamp: 1652891445.0000 - _runtime: 283.0000\n",
            "Epoch 62/75\n",
            "8/8 [==============================] - 3s 371ms/step - d_loss: 308.4309 - g_loss: -0.3128 - _timestamp: 1652891448.0000 - _runtime: 286.0000\n",
            "Epoch 63/75\n",
            "8/8 [==============================] - 3s 374ms/step - d_loss: 43582.2011 - g_loss: -0.3046 - _timestamp: 1652891451.0000 - _runtime: 289.0000\n",
            "Epoch 64/75\n",
            "8/8 [==============================] - 3s 380ms/step - d_loss: 136700.3803 - g_loss: -0.3042 - _timestamp: 1652891454.0000 - _runtime: 292.0000\n",
            "Epoch 65/75\n",
            "8/8 [==============================] - 3s 379ms/step - d_loss: 405.7685 - g_loss: -0.3072 - _timestamp: 1652891457.0000 - _runtime: 295.0000\n",
            "Epoch 66/75\n",
            "8/8 [==============================] - 3s 378ms/step - d_loss: 118.0186 - g_loss: -0.3026 - _timestamp: 1652891460.0000 - _runtime: 298.0000\n",
            "Epoch 67/75\n",
            "8/8 [==============================] - 3s 376ms/step - d_loss: 342.0378 - g_loss: -0.3060 - _timestamp: 1652891463.0000 - _runtime: 301.0000\n",
            "Epoch 68/75\n",
            "8/8 [==============================] - 3s 387ms/step - d_loss: 502.2062 - g_loss: -0.3056 - _timestamp: 1652891466.0000 - _runtime: 304.0000\n",
            "Epoch 69/75\n",
            "8/8 [==============================] - 3s 369ms/step - d_loss: 261.2013 - g_loss: -0.3127 - _timestamp: 1652891469.0000 - _runtime: 307.0000\n",
            "Epoch 70/75\n",
            "8/8 [==============================] - 3s 371ms/step - d_loss: 229.4649 - g_loss: -0.3144 - _timestamp: 1652891472.0000 - _runtime: 310.0000\n",
            "Epoch 71/75\n",
            "8/8 [==============================] - 3s 373ms/step - d_loss: 161.8826 - g_loss: -0.3105 - _timestamp: 1652891475.0000 - _runtime: 313.0000\n",
            "Epoch 72/75\n",
            "8/8 [==============================] - 3s 377ms/step - d_loss: 28.3689 - g_loss: -0.3087 - _timestamp: 1652891478.0000 - _runtime: 316.0000\n",
            "Epoch 73/75\n",
            "8/8 [==============================] - 3s 375ms/step - d_loss: 9.5789 - g_loss: -0.3115 - _timestamp: 1652891481.0000 - _runtime: 319.0000\n",
            "Epoch 74/75\n",
            "8/8 [==============================] - 3s 372ms/step - d_loss: 173895706.6004 - g_loss: -0.3144 - _timestamp: 1652891484.0000 - _runtime: 322.0000\n",
            "Epoch 75/75\n",
            "8/8 [==============================] - 3s 377ms/step - d_loss: 80.1070 - g_loss: -0.3094 - _timestamp: 1652891487.0000 - _runtime: 325.0000\n"
          ]
        },
        {
          "output_type": "display_data",
          "data": {
            "text/plain": [
              "<IPython.core.display.HTML object>"
            ],
            "text/html": [
              "Waiting for W&B process to finish... <strong style=\"color:green\">(success).</strong>"
            ]
          },
          "metadata": {}
        },
        {
          "output_type": "display_data",
          "data": {
            "text/plain": [
              "VBox(children=(Label(value='0.001 MB of 0.001 MB uploaded (0.000 MB deduped)\\r'), FloatProgress(value=1.0, max…"
            ],
            "application/vnd.jupyter.widget-view+json": {
              "version_major": 2,
              "version_minor": 0,
              "model_id": "ad41889529ac470fbca2c3ae6b69ccde"
            }
          },
          "metadata": {}
        },
        {
          "output_type": "display_data",
          "data": {
            "text/plain": [
              "<IPython.core.display.HTML object>"
            ],
            "text/html": [
              "<style>\n",
              "    table.wandb td:nth-child(1) { padding: 0 10px; text-align: left ; width: auto;} td:nth-child(2) {text-align: left ; width: 100%}\n",
              "    .wandb-row { display: flex; flex-direction: row; flex-wrap: wrap; justify-content: flex-start; width: 100% }\n",
              "    .wandb-col { display: flex; flex-direction: column; flex-basis: 100%; flex: 1; padding: 10px; }\n",
              "    </style>\n",
              "<div class=\"wandb-row\"><div class=\"wandb-col\"><h3>Run history:</h3><br/><table class=\"wandb\"><tr><td>d_loss</td><td>▁▃▁▁▁▁█▁▁▁▁▁▁▁▁▁▁▁▁▁▁▁▁▁▁▁▁▁▁▁▁▁▁▁▁▁▁▁▁▁</td></tr><tr><td>epoch</td><td>▁▁▁▁▂▂▂▂▂▃▃▃▃▃▃▄▄▄▄▄▅▅▅▅▅▅▆▆▆▆▆▆▇▇▇▇▇███</td></tr><tr><td>g_loss</td><td>▄▂▁▃▃▂▂▄▃▅▅▅▅▄▆▆▅▅▆▆▆▆▇▆▆▆▇▆▆▇▇▇██▇█▇█▇▇</td></tr></table><br/></div><div class=\"wandb-col\"><h3>Run summary:</h3><br/><table class=\"wandb\"><tr><td>d_loss</td><td>8.7299</td></tr><tr><td>epoch</td><td>74</td></tr><tr><td>g_loss</td><td>-0.31388</td></tr></table><br/></div></div>"
            ]
          },
          "metadata": {}
        },
        {
          "output_type": "display_data",
          "data": {
            "text/plain": [
              "<IPython.core.display.HTML object>"
            ],
            "text/html": [
              "Synced <strong style=\"color:#cdcd00\">trim-feather-25</strong>: <a href=\"https://wandb.ai/sail-ugr/tfg-silvia-barroso/runs/1h6d29ji\" target=\"_blank\">https://wandb.ai/sail-ugr/tfg-silvia-barroso/runs/1h6d29ji</a><br/>Synced 5 W&B file(s), 1 media file(s), 0 artifact file(s) and 0 other file(s)"
            ]
          },
          "metadata": {}
        },
        {
          "output_type": "display_data",
          "data": {
            "text/plain": [
              "<IPython.core.display.HTML object>"
            ],
            "text/html": [
              "Find logs at: <code>./wandb/run-20220518_162602-1h6d29ji/logs</code>"
            ]
          },
          "metadata": {}
        }
      ]
    },
    {
      "cell_type": "code",
      "source": [
        "#Evaluación\n",
        "wgan.evaluate_D()\n",
        "wgan.evaluate_G()"
      ],
      "metadata": {
        "id": "DETLPlNfI-Ar",
        "colab": {
          "base_uri": "https://localhost:8080/",
          "height": 370
        },
        "outputId": "aebea443-f02a-4824-c449-8329f28f4efd"
      },
      "execution_count": null,
      "outputs": [
        {
          "output_type": "stream",
          "name": "stdout",
          "text": [
            "8/8 [==============================] - 1s 10ms/step - loss: -0.7767 - accuracy: 0.0000e+00\n",
            "8/8 [==============================] - 0s 9ms/step - loss: 0.2233 - accuracy: 0.0000e+00\n",
            ">Accuracy real: 0%, fake: 0%\n",
            ">Loss real: \n",
            "-0.7766861319541931\n",
            ">Loss fake: \n",
            "0.2232809215784073\n"
          ]
        },
        {
          "output_type": "display_data",
          "data": {
            "text/plain": [
              "<Figure size 432x288 with 9 Axes>"
            ],
            "image/png": "[encoded data removed]"
          },
          "metadata": {
            "needs_background": "light"
          }
        }
      ]
    }
  ]
}